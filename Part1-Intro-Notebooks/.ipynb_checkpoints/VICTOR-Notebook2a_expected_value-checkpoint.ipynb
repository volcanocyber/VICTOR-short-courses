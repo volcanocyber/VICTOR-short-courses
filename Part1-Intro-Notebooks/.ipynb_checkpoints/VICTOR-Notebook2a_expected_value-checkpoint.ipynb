{
 "cells": [
  {
   "cell_type": "markdown",
   "id": "63a6a525",
   "metadata": {},
   "source": [
    "# Using VICTOR to solve volcano science problems\n",
    "This notebook is meant to:\n",
    "\n",
    "1. Provide an overview of probability density functions, expected values, and their application in volcanic hazard assessment. \n",
    "\n",
    "2. Introduce the module scipy intergrate to learn how to solve integral equations using python\n",
    "\n",
    "3. Introduce the concepts of lists and loops in the context of probability theory, using expected value estimation and the Poisson distribution."
   ]
  },
  {
   "cell_type": "markdown",
   "id": "42f10244",
   "metadata": {},
   "source": [
    "## Notebook V2a: Expected values and probability\n",
    "#### version 0, Nov 11, 2022\n",
    "\n",
    "### Background\n",
    "Probability density functions have two important properties. \n",
    "\n",
    "1. The integral of a probability density function is equal to 1 (unity). The probability density function varies over some range, integrating over that range yields the value 1. In other words, there is a 100 percent chance of the value being drawn from the entire range. For example, here is a PDF:\n",
    "\n",
    "$$ f_x(X) = \\frac{1}{9} x^2 $$\n",
    "    valid over the range $0 < x <3$, as shown:\n",
    "$$ \\int_0^3 \\frac{1}{9} x^2 dx = \\frac{1}{27} x^3 |_0^3 = 1$$\n",
    "\n",
    "2. The PDF has some central tendency, which usually refers to the average of the PDF.\n",
    "\n",
    "\n",
    "Note that we can find a PDF for the same function over a different range, just by solving for the constant:\n",
    "\n",
    "$$ \\int_0^{10} x^2 dx = \\frac{x^3}{3} |_0^{10} = \\frac{1000}{3} $$\n",
    "$$ f_x(X) = \\frac{3}{1000} x^2 $$\n",
    "$$ \\int_0^{10} \\frac{3}{1000} x^2 dx = \\frac{1}{1000} x^3 |_0^{10} = 1$$"
   ]
  },
  {
   "cell_type": "markdown",
   "id": "e78c5672",
   "metadata": {},
   "source": [
    "### Example\n",
    "\n",
    "Suppose a team of volcano scientists find that the repose interval (yr) following eruption of a volcano is described by an equation:\n",
    "\n",
    "$$f(x) = 2 + \\frac{x}{200}  $$\n",
    "\n",
    "where x is the repose interval (yr) found for a set of eruptions for repose intervals of between 2 and 100 years. Cast this equation as a probability density function. What is the probability of a repose interval lasting between 5 and 10 yr?\n",
    "\n",
    "The constant can be found analytically by integrating the equation, as in the above examples, or by using the scipy module:\n"
   ]
  },
  {
   "cell_type": "code",
   "execution_count": 21,
   "id": "6ba809ae",
   "metadata": {},
   "outputs": [
    {
     "name": "stdout",
     "output_type": "stream",
     "text": [
      "(220.98999999999998, 2.453481862119133e-12)\n"
     ]
    }
   ],
   "source": [
    "import scipy.integrate\n",
    "\n",
    "f= lambda x: (2 + x/200)\n",
    "i = scipy.integrate.quad(f, 2, 100)\n",
    "print (i)"
   ]
  },
  {
   "cell_type": "markdown",
   "id": "e8b6154b",
   "metadata": {},
   "source": [
    "$$ f_x(X) = \\frac{1}{221} (2 + \\frac{x}{200}) $$\n",
    "\n",
    "valid for repose intervals between 2 and 100 yr. Then what is the probability that the next repose interval is between 5 and 10 yr?\n",
    "\n",
    "$$ P[5 < x <10] = \\int_5^{10} \\frac{1}{221} (2 + \\frac{x}{200}) dx $$\n",
    "\n",
    "which can be solved analytically or with scipy:"
   ]
  },
  {
   "cell_type": "code",
   "execution_count": 22,
   "id": "c17e84eb",
   "metadata": {},
   "outputs": [
    {
     "name": "stdout",
     "output_type": "stream",
     "text": [
      "(0.04609728506787331, 5.117826725506238e-16)\n"
     ]
    }
   ],
   "source": [
    "import scipy.integrate\n",
    "\n",
    "f= lambda x: 1/221 * (2 + x/200)\n",
    "i = scipy.integrate.quad(f, 5, 10)\n",
    "print (i)"
   ]
  },
  {
   "cell_type": "markdown",
   "id": "96f974e1",
   "metadata": {},
   "source": [
    "Or, the probability of the repose interval lasting between 5 and 10 years is about 5 percent, in this example."
   ]
  },
  {
   "cell_type": "markdown",
   "id": "d9656f5f",
   "metadata": {},
   "source": [
    "### Background\n",
    "\n",
    "For a continuous PDF, one described by an equation, the central tendency is defined by the expected value of the distribution. \n",
    "\n",
    "$$E(X) = \\int_{-\\infty}^{+ \\infty} x \\cdot f_x(X) dx $$\n",
    "\n",
    "for the example PDF:\n",
    "\n",
    "$$ E(X) = \\int_0^3 x \\cdot \\frac{1}{9} x^2 dx $$\n",
    "$$E(X) = \\frac{x^4}{36} |_0^3 = 2.25 $$\n"
   ]
  },
  {
   "cell_type": "markdown",
   "id": "97261935",
   "metadata": {},
   "source": [
    "The median is possibly different than the expected value, if the PDF is not symmetric:\n",
    "\n",
    "$$P(X < m) = \\int_0^m \\frac{1}{9} x^2 dx = \\frac{m^3}{27} $$\n",
    "if we are looking for the median, then $P(X<m) = \\frac{1}{2}$, which is true if the median is 2.38. \n",
    "\n",
    "$$\\frac{1}{2} = \\frac{m^3}{27} $$\n",
    "$$ m = 2.38 $$\n",
    "\n",
    "In this case the function is not symmetric and the mean is not equal to the median.\n"
   ]
  },
  {
   "cell_type": "markdown",
   "id": "eb197411",
   "metadata": {},
   "source": [
    "Note that if you have a continuous PDF, you can calculate any probability directly. For example, you might want to know the probability range of the value of $X$ with 95 percent confidence. In this case,  $P(X<m) = .95$, or $m = 2.95$."
   ]
  },
  {
   "cell_type": "markdown",
   "id": "f09edd02",
   "metadata": {},
   "source": [
    "If $X$ is a discrete random variable then the expected value is the same as the average:\n",
    "$$E(X) = \\sum_{i=0}^{N-1} x_i \\cdot \\frac{1}{N} $$"
   ]
  },
  {
   "cell_type": "markdown",
   "id": "06e57e59",
   "metadata": {},
   "source": [
    "Notice that ANY continuous function can be turned into a PDF if it is uniquely defined over a range. Let's say you model is that a random variable $X$ is defined by the function $f(x) = x^2$ in the range $0<x<2$. \n",
    "$$k = \\int_0^2 x^2 dx = \\frac{1}{3} x^3 |_0^2 = \\frac{8}{3}$$\n",
    "\n",
    "then:\n",
    "\n",
    "$$f_x(X) = \\frac{1}{k} \\int_0^2 x^2 dx = \\frac{3}{8} \\int_0^2 x^2 dx $$\n",
    "\n",
    "and:\n",
    "\n",
    "$$E(X) = \\frac{3}{8} \\int_0^2 x^3 dx  $$\n",
    "$$E(X) = \\frac{3}{8} \\frac{1}{4} x^4 |_0^2 = 1.5 $$"
   ]
  },
  {
   "cell_type": "markdown",
   "id": "379d208a",
   "metadata": {},
   "source": [
    "### Example \n",
    "\n",
    "Suppose you map soil gas CO$_2$ concentrations at more than one thousand locations across a volcano system just prior to an explosive volcanic eruption. Wow - good job! In your paper, you state that the samples are randomly located across the volcano. A reviewer asks you to prove your assertion that the samples are randomly located.\n",
    "\n",
    "If the samples are randomly located, they follow a Poisson distribution. Divide the sample area into a series of boxes (geographic areas). Say each box is $1 \\times 1$ km. What is the observed number of samples per box, and what is the expected number of samples per map box, given a Poisson distribution?\n"
   ]
  },
  {
   "cell_type": "code",
   "execution_count": 23,
   "id": "cd95df6c",
   "metadata": {},
   "outputs": [
    {
     "name": "stdout",
     "output_type": "stream",
     "text": [
      "total observations =  1200\n"
     ]
    }
   ],
   "source": [
    "#categories of observations\n",
    "# e.g., 584 map boxes have no observations\n",
    "# here is a list of map boxes. Boxes have 0, 1, 2, 3, or 4 samples each\n",
    "boxes = [0,1,2,3,4]\n",
    "\n",
    "# here is a list of the observed frequency of samples in each type of box\n",
    "# for example, 584 boxes in the map area have no samples within them.\n",
    "# note that the lists are ordered. boxes[0] corresponds to obs_box[0]\n",
    "obs_box = [584, 398, 168, 35, 15]\n",
    "\n",
    "total_obs = sum(obs_box)  #use the built in sum function to find the total observations\n",
    "print(\"total observations = \", total_obs)"
   ]
  },
  {
   "cell_type": "markdown",
   "id": "ce5fcb6c",
   "metadata": {},
   "source": [
    "### Find the expected number of samples per box\n",
    "There are a total of five types of map boxes. Boxes can have 0 to 4 samples within each. The expected value (expected number of samples per box) is based on the probability that boxes will have 0, 1, 2, 3, or 4 samples. This expected value is estimated from the data:\n",
    "\n",
    "$$\\hat E(X) = \\sum_{i=0}^{N_{boxes}-1} x_i \\times P[x_i] $$\n",
    "\n",
    "where $x_i$ is the $i^{th}$ value: $x_0 = 0, x_1 = 1, x_2 = 2, x_3 = 3, x_4 = 4$. These are the types of boxes: they contain 0 to 4 samples.\n",
    "$P[x_i]$ is the probability a box contains 0 samples, 1 sample ... 4 samples each. That is, the probability of a given box being a box type $x_0$ is 584/1200, because the observed number of boxes with zero samples is $S_i = 584$, out of a total $N_{samples} = 1200$ samples. Another way to write the expected value in this problem is:\n",
    "\n",
    "$$\\hat E(X) = \\frac{1}{N_{samples}}\\sum_{i=0}^{N_{boxes}-1}  x_i \\times S_i $$\n"
   ]
  },
  {
   "cell_type": "code",
   "execution_count": 24,
   "id": "2ee3e13b",
   "metadata": {},
   "outputs": [
    {
     "name": "stdout",
     "output_type": "stream",
     "text": [
      "expected observations per map box =  0.7491666666666666\n"
     ]
    }
   ],
   "source": [
    "#find the expected number of samples per map box\n",
    "\n",
    "#initialize the expected number summation (xi * Si) to zero\n",
    "sum_expected_number = 0\n",
    "\n",
    "# this is a loop - note the \":\" and the use of indentation\n",
    "# these are required in python\n",
    "for i in range(len(boxes)):\n",
    "    sum_expected_number += boxes[i]*obs_box[i] # \"+=\" is shorthand for summation\n",
    "\n",
    "#the lack of indenstion on the next line indicates\n",
    "# the loop is finished\n",
    "expected_number = sum_expected_number/total_obs\n",
    "\n",
    "print (\"expected observations per map box = \", expected_number)"
   ]
  },
  {
   "cell_type": "markdown",
   "id": "d010f63a",
   "metadata": {},
   "source": [
    "### Poisson distribution\n",
    "\n",
    "Now that the expected value of the distribution is estimated, it is possible to develop a model of the entire distribution using the Poisson distribution, a theoretical model that implies sampling is random (technically that each sample is an independent Bernoulli trial.) \n",
    "\n",
    "For a Poisson model:\n",
    "\n",
    "$$ f_x(X) = \\frac{exp(-E(X)) \\cdot E(X)^x}{x!} $$ "
   ]
  },
  {
   "cell_type": "code",
   "execution_count": 25,
   "id": "130741b2",
   "metadata": {},
   "outputs": [
    {
     "name": "stdout",
     "output_type": "stream",
     "text": [
      "i, obs_box, np =  0 584 567.3124267160391\n",
      "i, obs_box, np =  1 398 425.01155968143263\n",
      "i, obs_box, np =  2 168 159.20224673066997\n",
      "i, obs_box, np =  3 35 39.756338836353414\n",
      "i, obs_box, np =  4 15 7.446030961225358\n",
      "Total boxes from Poisson model:  1198.7286029257207\n",
      "How many boxes are expected to have 5 samples:  0.13930300159475223\n"
     ]
    }
   ],
   "source": [
    "# if the observations are random, \n",
    "# how many boxes are expected to have no observations\n",
    "# implement the Poisson distribution for an independently estimated\n",
    "# expected value.\n",
    "\n",
    "# some functions in python use the \"math\" module\n",
    "# make these available to your code\n",
    "import math\n",
    "\n",
    "# this is the struture of a function in python\n",
    "def poisson (expected_number, x, total_obs):\n",
    "    np = total_obs * (math.exp(-expected_number)\n",
    "                  *expected_number**boxes[x]) / math.factorial(boxes[x])\n",
    "    return np\n",
    "\n",
    "#create an empty list\n",
    "my_poisson =[]\n",
    "\n",
    "#loop through the box types\n",
    "for i in range (0,5):\n",
    "    my_poisson.append(poisson(expected_number, i, total_obs))\n",
    "    \n",
    "    print (\"i, obs_box, np = \", i, obs_box[i], my_poisson[i])\n",
    "    \n",
    "print(\"Total boxes from Poisson model: \", sum(my_poisson)) # print the total number of samples in the Poisson dist\n",
    "\n",
    "#How many boxes should have five samples, given the Poisson model?\n",
    "boxes.append(6)\n",
    "prob5boxes = poisson(expected_number, 5, total_obs)\n",
    "\n",
    "print (\"How many boxes are expected to have 5 samples: \", prob5boxes)"
   ]
  },
  {
   "cell_type": "markdown",
   "id": "d849bc0a",
   "metadata": {},
   "source": [
    "In this example, a Poisson model is fit to the data. The Poisson model only depends on the expected value of the distribution, which is estimated from the data to find the whole distribution. As a check, the calculated distribution is summed. The result, 1198.7, is very close to the actual number of samples. The expected number of map boxes with 5 samples is found to be 0.13, far less than 1, and this matches the observation of a lack of boxes with 5 samples. Additional statistical tests might be done to \"prove\" the samples have a Poisson distribution."
   ]
  },
  {
   "cell_type": "markdown",
   "id": "a1dce4e9",
   "metadata": {},
   "source": [
    "### More applications\n",
    "\n",
    "#### Isotopic dating of volcanic rocks\n",
    "Volcanic hazard assessments rely on the isotopic dating of volcanic rocks (aka radiometric age determinations) to learn about the timing of volcanic activity preserved in the geologic record. An assumption in isotopic age dating is that radioactive decay is a random process. Rutherford and Geiger tried to demonstrate randomness of radioactive decay using alpha emission from a polonimum source. They counted observed alpha emissions in 8 minute intervals and recorded the results. Did they prove radioactive decay is a random process? Compare their observations to a Poisson distribution."
   ]
  },
  {
   "cell_type": "code",
   "execution_count": 26,
   "id": "2f757a8c",
   "metadata": {},
   "outputs": [],
   "source": [
    "# number of alpha particles recorded in 8 minute intervals\n",
    "num_particles = [0,1,2,3,4,5,6,7,8,9,10,11]\n",
    "\n",
    "#observed frequency of emissions for each 8 minute interval\n",
    "obs_freq = [57, 203, 383, 525, 532, 408, 273, 139, 45, 27, 10, 6]\n",
    "\n"
   ]
  },
  {
   "cell_type": "markdown",
   "id": "d0589821",
   "metadata": {},
   "source": [
    "#### Volcano indices\n",
    "\n",
    "Want to have a lot of citations to your seminal volcanology paper? Invent an index. Examples of famous indicies are the volcano explosivity index, the eruption magnitude index, the eruption intensity index, the Richter scale of earthquakes, and the US National Volcano Early Warning System (NVEWS) scale. The reason indicies are popular is that terms like \"big\", \"little\", or \"catastropic\" are not particularly revealing about hazardous events. Indicies, on the other hand, can be useful for quantifying differences in events, which is often appropriate for hazard assessment and hazard communication. \n",
    "\n",
    "Create a volcanic hazard index and populate it with data from the literature. Example indicies include: (1) an index for the magnitude of volcanic gas emissions, (2) an index of the daily frequency of earthquakes before eruptions, (3) and index for the degree of spatter welding in a deposit, (4) an index of exposure to lahar hazards. Be sure to find the expected value of your index and estimate the probability of particularly large events, given your data. Create a jupyter notebook that describes your index and calculates the expected value and probabilities of specific outcomes (e.g., levels of gas emission). "
   ]
  }
 ],
 "metadata": {
  "kernelspec": {
   "display_name": "Python 3",
   "language": "python",
   "name": "python3"
  },
  "language_info": {
   "codemirror_mode": {
    "name": "ipython",
    "version": 3
   },
   "file_extension": ".py",
   "mimetype": "text/x-python",
   "name": "python",
   "nbconvert_exporter": "python",
   "pygments_lexer": "ipython3",
   "version": "3.8.8"
  }
 },
 "nbformat": 4,
 "nbformat_minor": 5
}
