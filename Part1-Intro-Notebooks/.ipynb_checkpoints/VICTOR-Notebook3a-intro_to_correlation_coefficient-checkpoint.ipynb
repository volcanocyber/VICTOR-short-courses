{
 "cells": [
  {
   "cell_type": "markdown",
   "id": "75d952fa",
   "metadata": {},
   "source": [
    "# Using VICTOR to solve volcano science problems\n",
    "This notebook is intended to:\n",
    "\n",
    "1. Provide an overview of correlation coefficients and the covariance matrix. Types of correlation include the Pearson and Spearman correlation coefficients.\n",
    "\n",
    "2. Introduce pandas and describe how data can be transformed from a list to a pandas dataframe\n",
    "\n",
    "3. Introduce simple plots with matplotlib.pyplot\n",
    "\n",
    "4. Introduce the concept of correlation as it relates to volcanic eruption source parameters, a concept widely used in modeling volcanic phenomena."
   ]
  },
  {
   "cell_type": "markdown",
   "id": "319f2565",
   "metadata": {},
   "source": [
    "## Notebook V3a:  Introduction to Correlation \n",
    "#### version 0, Nov 11, 2022\n",
    "\n",
    "### Background\n",
    "What relationships exist between observations? For example, in measuring the length of a lithic clast in a pryoclastic density current deposit, can one \n",
    "can one predict the clast width given its length? How well can this be done? If the length is always related to the width, is it worth measuring both? Such questions often involve calculating a correlation coefficient.\n",
    "\n",
    "A correlation coefficient is a measure of the similarity between two random variables, $X$ and $Y$. Formally, we talk about the covariance between random variables. \n",
    "\n",
    "$$ \\textbf{Cov} (X,Y)= E[(X - \\mu_x) (Y-\\mu_y)]$$ \n",
    "In words, the covariance is the expected value of the distance of a random variable from its mean ($\\mu_x$) times the distance of another random variable from its mean ($\\mu_y$). Covariance is exactly the same as variance:\n",
    "\n",
    "$$\\textbf{Cov} (X,X) = \\textbf{Var}(X)$$\n",
    "\n",
    "The expected value of $X$ is usually called the first moment of $X$. The variance of $X$ is the second moment of $X$. Also, $X$ and $Y$ are independent random variables if their covariance is zero, in which case:\n",
    "\n",
    "$$E(X) E(Y) = \\mu_x \\mu_y $$\n",
    "\n",
    "The correlation coefficient (more formally, the Pearson correlation coefficient) is the covariance divided by the product of the standard deviations of two distributions:\n",
    "\n",
    "$$\\rho(X,Y) = \\frac{\\textbf{Cov} (X,Y)}{\\sigma_x \\sigma_y}  $$\n",
    "\n",
    "These formulas are useful if you have two distributions with a joint probability density function, and can calculate their moments directly. Often, though, we have a sample of data and want to find the correlation coefficient based on the data.\n",
    "\n",
    "Breaking down the above formula for the correlation coefficient:\n",
    "\n",
    "$$\\rho(X,Y) = \\frac{E(XY) - E(X) E(Y)}{\\sqrt{\\textbf{Var}(X)} \\sqrt{\\textbf{Var}(Y)}}  $$\n",
    "\n",
    "Since we have samples:\n",
    "\n",
    "$$ E(X) \\approx \\bar{X} - \\frac{1}{n} \\sum_{i=0}^{n-1} x_i $$\n",
    "$$ E(Y) \\approx \\bar{Y} = \\frac{1}{n} \\sum_{i=0}^{n-1} y_i $$\n",
    "$$ E(XY) \\approx \\frac{1}{n} \\sum_{i=0}^{n-1} x_i y_i $$\n",
    "$$ \\textbf{Var}(X) \\approx \\frac{1}{n} \\sum_{i=0}^{n-1} (x_i - \\bar{X})^2 $$\n",
    "$$ \\textbf{Var}(Y) \\approx \\frac{1}{n} \\sum_{i=0}^{n-1} (y_i - \\bar{Y})^2 $$\n",
    "\n",
    "In other words, the correlation coefficient can be estimated using these estimates of the moments of the distribution based on a limited number of samples, $n$, $X={x_0, x_1, x_2, ...,x_{n-1}}$, $Y = {y_0, y_1, y_2...,y_{n-1}}$."
   ]
  },
  {
   "cell_type": "code",
   "execution_count": 1,
   "id": "eb456e05",
   "metadata": {},
   "outputs": [
    {
     "data": {
      "image/png": "[encoded data removed]",
      "text/plain": [
       "<Figure size 432x288 with 1 Axes>"
      ]
     },
     "metadata": {
      "needs_background": "light"
     },
     "output_type": "display_data"
    }
   ],
   "source": [
    "# The matplotplib module allows you to make plots conveniently\n",
    "import matplotlib.pyplot as plt\n",
    "\n",
    "# The pandas module is useful in importing data and \n",
    "# doing common manipulations, like calculating the covariance\n",
    "import pandas as pd\n",
    "\n",
    "# clast length measurements (cm)\n",
    "# pd.Series creates a pandas data series of the data (equivalent to a list)\n",
    "clast_length = pd.Series([18.4, 16.9, 13.6, 11.4, 7.8, 6.3])\n",
    "clast_width = pd.Series([15.4, 15.1, 10.9,9.7, 7.4, 5.3])\n",
    "\n",
    "#always plot the data first thing\n",
    "plt.plot(clast_length, clast_width, \"o\")\n",
    "plt.xlabel(\"lithic clast length (cm)\")\n",
    "plt.ylabel(\"lithic clast  width (cm)\")\n",
    "\n",
    "plt.show()"
   ]
  },
  {
   "cell_type": "markdown",
   "id": "6591193c",
   "metadata": {},
   "source": [
    "### Create a pandas dataframe\n",
    "\n",
    "The length measurements and the width measurements are linked. That is, each length measurement has an associated width measurement. It makes sense to build a structure, called a dataframe, that links pairs of measurements."
   ]
  },
  {
   "cell_type": "code",
   "execution_count": 2,
   "id": "9b48a1c0",
   "metadata": {},
   "outputs": [
    {
     "data": {
      "text/html": [
       "<div>\n",
       "<style scoped>\n",
       "    .dataframe tbody tr th:only-of-type {\n",
       "        vertical-align: middle;\n",
       "    }\n",
       "\n",
       "    .dataframe tbody tr th {\n",
       "        vertical-align: top;\n",
       "    }\n",
       "\n",
       "    .dataframe thead th {\n",
       "        text-align: right;\n",
       "    }\n",
       "</style>\n",
       "<table border=\"1\" class=\"dataframe\">\n",
       "  <thead>\n",
       "    <tr style=\"text-align: right;\">\n",
       "      <th></th>\n",
       "      <th>length</th>\n",
       "      <th>width</th>\n",
       "    </tr>\n",
       "  </thead>\n",
       "  <tbody>\n",
       "    <tr>\n",
       "      <th>0</th>\n",
       "      <td>18.4</td>\n",
       "      <td>15.4</td>\n",
       "    </tr>\n",
       "    <tr>\n",
       "      <th>1</th>\n",
       "      <td>16.9</td>\n",
       "      <td>15.1</td>\n",
       "    </tr>\n",
       "    <tr>\n",
       "      <th>2</th>\n",
       "      <td>13.6</td>\n",
       "      <td>10.9</td>\n",
       "    </tr>\n",
       "    <tr>\n",
       "      <th>3</th>\n",
       "      <td>11.4</td>\n",
       "      <td>9.7</td>\n",
       "    </tr>\n",
       "    <tr>\n",
       "      <th>4</th>\n",
       "      <td>7.8</td>\n",
       "      <td>7.4</td>\n",
       "    </tr>\n",
       "    <tr>\n",
       "      <th>5</th>\n",
       "      <td>6.3</td>\n",
       "      <td>5.3</td>\n",
       "    </tr>\n",
       "  </tbody>\n",
       "</table>\n",
       "</div>"
      ],
      "text/plain": [
       "   length  width\n",
       "0    18.4   15.4\n",
       "1    16.9   15.1\n",
       "2    13.6   10.9\n",
       "3    11.4    9.7\n",
       "4     7.8    7.4\n",
       "5     6.3    5.3"
      ]
     },
     "execution_count": 2,
     "metadata": {},
     "output_type": "execute_result"
    }
   ],
   "source": [
    "# create the clast dataframe\n",
    "# note the column headings are 'length' and 'width'\n",
    "clast_measurements = pd.DataFrame({'length': clast_length, 'width': clast_width})\n",
    "\n",
    "#print the dataframe\n",
    "clast_measurements"
   ]
  },
  {
   "cell_type": "markdown",
   "id": "b2f494eb",
   "metadata": {},
   "source": [
    "### Calculate the covariance matrix\n",
    "\n",
    "The covariance matrix shows the covariance between two or more variables. The covariance between a variable and itself is one (1). The covariance \n",
    "\n",
    "$$\\textbf{Cov} (X,Y) = \\textbf{Cov} (Y,X) $$\n",
    "so the matrix is always symmetric."
   ]
  },
  {
   "cell_type": "code",
   "execution_count": 3,
   "id": "d047784b",
   "metadata": {},
   "outputs": [
    {
     "data": {
      "text/html": [
       "<div>\n",
       "<style scoped>\n",
       "    .dataframe tbody tr th:only-of-type {\n",
       "        vertical-align: middle;\n",
       "    }\n",
       "\n",
       "    .dataframe tbody tr th {\n",
       "        vertical-align: top;\n",
       "    }\n",
       "\n",
       "    .dataframe thead th {\n",
       "        text-align: right;\n",
       "    }\n",
       "</style>\n",
       "<table border=\"1\" class=\"dataframe\">\n",
       "  <thead>\n",
       "    <tr style=\"text-align: right;\">\n",
       "      <th></th>\n",
       "      <th>length</th>\n",
       "      <th>width</th>\n",
       "    </tr>\n",
       "  </thead>\n",
       "  <tbody>\n",
       "    <tr>\n",
       "      <th>length</th>\n",
       "      <td>1.000000</td>\n",
       "      <td>0.990636</td>\n",
       "    </tr>\n",
       "    <tr>\n",
       "      <th>width</th>\n",
       "      <td>0.990636</td>\n",
       "      <td>1.000000</td>\n",
       "    </tr>\n",
       "  </tbody>\n",
       "</table>\n",
       "</div>"
      ],
      "text/plain": [
       "          length     width\n",
       "length  1.000000  0.990636\n",
       "width   0.990636  1.000000"
      ]
     },
     "execution_count": 3,
     "metadata": {},
     "output_type": "execute_result"
    }
   ],
   "source": [
    "#calculate the pearson correlation coefficient\n",
    "correlation_matrix = clast_measurements.corr()\n",
    "\n",
    "#print the correlation matrix\n",
    "correlation_matrix"
   ]
  },
  {
   "cell_type": "markdown",
   "id": "7010015f",
   "metadata": {},
   "source": [
    "## Meaning of Correlation coefficient\n",
    "\n",
    "The correlation coefficient calculated with sample data, $r$, is differentiated from the true correlation coefficient between jointly varying random variable, $\\rho$.\n",
    "\n",
    "Using $r$:\n",
    "\n",
    "$$ -1 \\le r \\le 1$$\n",
    "\n",
    "if $r$ is close to zero, then the two variables are said to be independent. That is, there is no information about $X$, given $Y$ and vice versa. For $r < 0$, the correlation is negative. That is, as $X$ gets larger, $Y$ gets smaller and vice versa.\n",
    "\n",
    "## Spearman Rank Correlation Coefficient\n",
    "\n",
    "It is possible to calculate a correlation coefficient based on rank rather than value. For example using the clast data, the smallest clast in length is also the smallest clast in width, and so on. In the case of the clast measurements (above) the order is perfect. That is, each larger clast in length is also larger in width. The correlation coefficient calculated based on rank order instead of value is called Spearman's Rank correlation coefficient."
   ]
  },
  {
   "cell_type": "code",
   "execution_count": 4,
   "id": "8bf2be06",
   "metadata": {},
   "outputs": [
    {
     "data": {
      "text/html": [
       "<div>\n",
       "<style scoped>\n",
       "    .dataframe tbody tr th:only-of-type {\n",
       "        vertical-align: middle;\n",
       "    }\n",
       "\n",
       "    .dataframe tbody tr th {\n",
       "        vertical-align: top;\n",
       "    }\n",
       "\n",
       "    .dataframe thead th {\n",
       "        text-align: right;\n",
       "    }\n",
       "</style>\n",
       "<table border=\"1\" class=\"dataframe\">\n",
       "  <thead>\n",
       "    <tr style=\"text-align: right;\">\n",
       "      <th></th>\n",
       "      <th>length</th>\n",
       "      <th>width</th>\n",
       "    </tr>\n",
       "  </thead>\n",
       "  <tbody>\n",
       "    <tr>\n",
       "      <th>length</th>\n",
       "      <td>1.0</td>\n",
       "      <td>1.0</td>\n",
       "    </tr>\n",
       "    <tr>\n",
       "      <th>width</th>\n",
       "      <td>1.0</td>\n",
       "      <td>1.0</td>\n",
       "    </tr>\n",
       "  </tbody>\n",
       "</table>\n",
       "</div>"
      ],
      "text/plain": [
       "        length  width\n",
       "length     1.0    1.0\n",
       "width      1.0    1.0"
      ]
     },
     "execution_count": 4,
     "metadata": {},
     "output_type": "execute_result"
    }
   ],
   "source": [
    "#try the Spearman correlation coefficient\n",
    "correlation_matrix = clast_measurements.corr(method='spearman')\n",
    "\n",
    "#print the cclast_measurements = pd.DataFrame({'length': clast_length, 'width': clast_width})\n",
    "correlation_matrix"
   ]
  },
  {
   "cell_type": "markdown",
   "id": "e15d85d7",
   "metadata": {},
   "source": [
    "### Interpretation\n",
    "One interpretation of this high correlation coefficient between clast length and width is that nothing is learned from making both measurements. Since the covariance between the two random variables is very high, one might as well make one measurement. One could model the width of the clast, given its length, with a high degree of confidence."
   ]
  },
  {
   "cell_type": "markdown",
   "id": "bcffd820",
   "metadata": {},
   "source": [
    "## More Applications\n",
    "\n",
    "Two applications are provided that use volcano eruption source parameters and consider their correlation. Eruption source parameters, like magma discharge rate or total eruption volume, are widely used in hazard assessment. It is important to discover, using actual volcanological data, if these \"ESPs\" are correlated or not.\n",
    "\n",
    "### Puu Oo lava eruption data\n",
    "Ed Wolfe and colleagues compiled some early information on the Puu Oo eruption of Kilauea volcano. Assess the correlation among the variables: duration of eruption episode (hr), area covered by lavas (km$^2$), and average discharge rate ($10^3$ m$^3$/hr). What to these correlations mean about the Puu Oo eruptions? Would you consider any of the variables to be independent?\n"
   ]
  },
  {
   "cell_type": "code",
   "execution_count": 5,
   "id": "2114e10e",
   "metadata": {},
   "outputs": [],
   "source": [
    "#duration (hr)\n",
    "duration = [174, 290, 100, 90, 73, 56, 24, 52, 64, 43, 35]\n",
    "\n",
    "# area covered by lavas (km$^2$)\n",
    "area_inundated = [2.7, 7.9, 2.2, 3.4, 2.0, 3.7, 2.0, 2.1, 2.7, 4.3, 3.0]\n",
    "\n",
    "# average discharge rate ($10^3$ m$^3$/hr)\n",
    "discharge = [80, 130, 110, 140, 120, 250, 330, 150, 220, 280, 230]\n"
   ]
  },
  {
   "cell_type": "markdown",
   "id": "68f14c08",
   "metadata": {},
   "source": [
    "### Cerro Negro explosive eruption data\n",
    "Explosive eruptions of Cerro Negro volcano, a small volume scoria cone in Nicaragua have data on volume of tephra erupted (m$^3$), maximum reported eruption column height (km), and eruption duration (days).\n",
    "\n",
    "The following example takes the Cerro Negro data and puts it into a pandas dataframe in a slightly more efficient way than shown in previous examples. Note that we do not want the year of the eruption to be in the covariance matrix. Instead, we use these data as an index."
   ]
  },
  {
   "cell_type": "code",
   "execution_count": 6,
   "id": "b333c738",
   "metadata": {},
   "outputs": [
    {
     "data": {
      "text/html": [
       "<div>\n",
       "<style scoped>\n",
       "    .dataframe tbody tr th:only-of-type {\n",
       "        vertical-align: middle;\n",
       "    }\n",
       "\n",
       "    .dataframe tbody tr th {\n",
       "        vertical-align: top;\n",
       "    }\n",
       "\n",
       "    .dataframe thead th {\n",
       "        text-align: right;\n",
       "    }\n",
       "</style>\n",
       "<table border=\"1\" class=\"dataframe\">\n",
       "  <thead>\n",
       "    <tr style=\"text-align: right;\">\n",
       "      <th></th>\n",
       "      <th>volume</th>\n",
       "      <th>col_ht</th>\n",
       "      <th>duration</th>\n",
       "    </tr>\n",
       "  </thead>\n",
       "  <tbody>\n",
       "    <tr>\n",
       "      <th>1867</th>\n",
       "      <td>7400000.0</td>\n",
       "      <td>3.0</td>\n",
       "      <td>16.0</td>\n",
       "    </tr>\n",
       "    <tr>\n",
       "      <th>1923</th>\n",
       "      <td>17000000.0</td>\n",
       "      <td>2.0</td>\n",
       "      <td>49.0</td>\n",
       "    </tr>\n",
       "    <tr>\n",
       "      <th>1947</th>\n",
       "      <td>23000000.0</td>\n",
       "      <td>6.0</td>\n",
       "      <td>13.0</td>\n",
       "    </tr>\n",
       "    <tr>\n",
       "      <th>1950</th>\n",
       "      <td>2800000.0</td>\n",
       "      <td>1.5</td>\n",
       "      <td>26.0</td>\n",
       "    </tr>\n",
       "    <tr>\n",
       "      <th>1957</th>\n",
       "      <td>2800000.0</td>\n",
       "      <td>2.0</td>\n",
       "      <td>20.0</td>\n",
       "    </tr>\n",
       "    <tr>\n",
       "      <th>1960</th>\n",
       "      <td>1100000.0</td>\n",
       "      <td>1.0</td>\n",
       "      <td>89.0</td>\n",
       "    </tr>\n",
       "    <tr>\n",
       "      <th>1968</th>\n",
       "      <td>9700000.0</td>\n",
       "      <td>2.0</td>\n",
       "      <td>48.0</td>\n",
       "    </tr>\n",
       "    <tr>\n",
       "      <th>1971</th>\n",
       "      <td>30000000.0</td>\n",
       "      <td>6.0</td>\n",
       "      <td>10.6</td>\n",
       "    </tr>\n",
       "    <tr>\n",
       "      <th>1992</th>\n",
       "      <td>23000000.0</td>\n",
       "      <td>8.0</td>\n",
       "      <td>3.6</td>\n",
       "    </tr>\n",
       "    <tr>\n",
       "      <th>1995</th>\n",
       "      <td>2800000.0</td>\n",
       "      <td>2.5</td>\n",
       "      <td>1.3</td>\n",
       "    </tr>\n",
       "    <tr>\n",
       "      <th>1999</th>\n",
       "      <td>840000.0</td>\n",
       "      <td>1.0</td>\n",
       "      <td>1.0</td>\n",
       "    </tr>\n",
       "  </tbody>\n",
       "</table>\n",
       "</div>"
      ],
      "text/plain": [
       "          volume  col_ht  duration\n",
       "1867   7400000.0     3.0      16.0\n",
       "1923  17000000.0     2.0      49.0\n",
       "1947  23000000.0     6.0      13.0\n",
       "1950   2800000.0     1.5      26.0\n",
       "1957   2800000.0     2.0      20.0\n",
       "1960   1100000.0     1.0      89.0\n",
       "1968   9700000.0     2.0      48.0\n",
       "1971  30000000.0     6.0      10.6\n",
       "1992  23000000.0     8.0       3.6\n",
       "1995   2800000.0     2.5       1.3\n",
       "1999    840000.0     1.0       1.0"
      ]
     },
     "execution_count": 6,
     "metadata": {},
     "output_type": "execute_result"
    }
   ],
   "source": [
    "# year of the eruption\n",
    "year = [1867, 1923, 1947, 1950, 1957, 1960, 1968, 1971, 1992, 1995, 1999]\n",
    "\n",
    "#volume of the eruption (note scientific noteation for the volume numbers) (m3)\n",
    "volume_tephra = [7.4e6, 1.7e7, 2.3e7, 2.8e6, 2.8e6, 1.1e6, 9.7e6, 3e7, 2.3e7, 2.8e6, 8.4e5]\n",
    "\n",
    "# maximum eruption column height (km)\n",
    "column_height = [3,2,6,1.5,2,1,2,6,8,2.5,1]\n",
    "\n",
    "#eruption duration (days)\n",
    "duration = [16, 49, 13, 26, 20, 89, 48, 10.6, 3.6, 1.3, 1]\n",
    "\n",
    "#build the dataframe from these lists of data\n",
    "eruption_data = pd.DataFrame(list(zip(volume_tephra, column_height, duration)),\n",
    "               columns =['volume', 'col_ht', 'duration'],\n",
    "               index = year)\n",
    "\n",
    "#print the dataframe\n",
    "eruption_data"
   ]
  },
  {
   "cell_type": "markdown",
   "id": "d69c86c7",
   "metadata": {},
   "source": [
    "Try plotting the column height vs. the volume of the eruption. What is your sense of the correlation? Then calculate the covariance matrix. Use both Pearson and Spearman (rank) methods. Often in volcanic hazard assessments, we run simulations of eruptions that depend on model input parameters, like column height and eruption duration. Interpret the covariance matrix, are all of these variables independent?"
   ]
  },
  {
   "cell_type": "code",
   "execution_count": null,
   "id": "b3650e21",
   "metadata": {},
   "outputs": [],
   "source": []
  }
 ],
 "metadata": {
  "kernelspec": {
   "display_name": "Python 3",
   "language": "python",
   "name": "python3"
  },
  "language_info": {
   "codemirror_mode": {
    "name": "ipython",
    "version": 3
   },
   "file_extension": ".py",
   "mimetype": "text/x-python",
   "name": "python",
   "nbconvert_exporter": "python",
   "pygments_lexer": "ipython3",
   "version": "3.8.8"
  }
 },
 "nbformat": 4,
 "nbformat_minor": 5
}
