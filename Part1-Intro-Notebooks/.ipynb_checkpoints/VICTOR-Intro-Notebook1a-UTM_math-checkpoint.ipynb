{
 "cells": [
  {
   "cell_type": "markdown",
   "metadata": {},
   "source": [
    "# Using VICTOR to solve volcano science problems \n",
    "\n",
    "This notebook is intended to:\n",
    "\n",
    "1. Provide an introduction to using python as a calculator and to using juypter notebooks. The problems are intentionally designed to be relatively straightforward so you can concentrate on writing code and learning syntax - although do not worry if some are challenging!\n",
    "\n",
    "2. Provide an introduction, or refresher, to UTM coordinates. This map coordinate system is widely used in volcano science, especially in hazard forecasting codes that we will use on VICTOR.\n",
    "\n"
   ]
  },
  {
   "cell_type": "markdown",
   "metadata": {},
   "source": [
    "## Notebook v1a: math on maps\n",
    "#### version 0, Nov 11, 2022\n",
    "\n",
    "Your goal is to add code to the notebook to solve problems involving map coordinates.  These \"problems\" are intended to provide you with an introduction to python syntax - especially using python and your jupyter notebook as an eleborate calculator. In fact, a great reason to use a jupyter notebook is that, like any scientific notebook, it can provide a record of your calculations. \n",
    "\n",
    "Read the background and study the examples. Write your answer in the cells provided by writing the solution using python code. Be sure that your answer prints out using the format shown in examples. Print the solution in words, give the value, and give the value's units.\n",
    "\n",
    "Save your workbook (frequently!). \n",
    "\n",
    "Be sure to document your code using comments (these are text following the # symbol)\n",
    "\n",
    "## Notes on notebook usage:\n",
    "\n",
    "Check out https://jupyter.org or other tutorials for introductions to juypter notebooks.\n",
    "\n",
    "1. Everything is written in a cell. Cells are inserted using the \"Insert\" menu on the menubar\n",
    "\n",
    "2. Cells can be \"Markdown\" containing text. Cells can be \"Code\" containng python code. Be sure to select the cell type you want.\n",
    "\n",
    "3. Variables are assigned in cells but are known to every cell your notebook. This helps build code in a stepwise fashion, but be sure to keep track of variables you have used, and/or have re-assigned.\n",
    "\n",
    "4. Execute the code in a cell (code cell) or format the cell (markdown cell) using the \"Run\" button on the menubar. All cells can be run in the notebook using the \"Cell\" menu. You can erase the memory of your notebook and re-run all the cells in the \"Kernel\" menu\n",
    "\n",
    "5. Double-click on any markdown cell to edit it. Then run the cell to show the formatted version. Equations can be entered in Markdown cells using latex math formatting.\n",
    "\n",
    "6. Rename your notebook in the \"File\" menu. Save your work frequently."
   ]
  },
  {
   "cell_type": "markdown",
   "metadata": {},
   "source": [
    "## Background about maps\n",
    "\n",
    "Rectangular grid systems are widely used by geoscientists to simplify distance calculations on maps. These are Cartesian grids. The Y-axis is oriented N-S and Y-coordinates are usually referred to as the Northing, or sometimes as distance north. The X-axis is oriented E-W and X coordinates are referred to as the Easting or distance east. Usually the units of these grids are meters.\n",
    "\n",
    "The most important grid in use today is the Universal Transverse Mercator (UTM) grid. The Northing for the UTM grid in the northern hemisphere is given in meters north of the equator. Negative numbers are avoided at all costs in the UTM grid. So, in the southern hemisphere, the Northing is given in meters south of the equator (a negative number) + 10,000,000 m. For example, the Northing of a point located 2000 km north of the equator is 2,000,000 N. The Northing of a point located 2000 km south of the equator is 8,000,000 N. In both the northern and southern hemispheres, UTM Northing is a positive number that increases as one walks north and decreases as one walks south.\n",
    "\n",
    "The X-axis is perpendicular to the Y-axis at the origin (called the central meridian) of the coordinate system. Far from the central meridian, this results in considerable distortion of the grid. Consequently, the UTM grid breaks up the Earth's surface into 60 zones, each with its own central meridian. Again, negative numbers are avoided in the UTM grid. Consequently the value of the Easting along the central meridian (the origin) of any zone is 500,000 E, rather than 0 E. West of the central meridian the Easting is less than 500,000 E; east of the central the Easting is more than 500,000 E. There are enough zones so that, using this scheme, no negative Easting coordinates occur on Earth. When UTM coordinates are used, the zone must be reported. These zones are uniquely numbered 1--60. It is also necessary to specify if the coordinate in the zone is in the northern hemisphere (N), or the southern hemisphere (S).\n",
    "\n",
    "For example, Galeras volcano (Colombia) is in zone 18 N. The active volcano crater has the approximate UTM coordinates: 237500 E, 135200 N. The crater of Galeras is about 135.2 km north of the equator."
   ]
  },
  {
   "cell_type": "markdown",
   "metadata": {},
   "source": [
    "## Example 1 \n",
    "\n",
    "Suppose a GPS gives the coordinate of a point near the center of the city of Pasto (Colombia): 246250 E, 133750 N (zone 18). How far north is the crater from the GPS point near the center of Pasto?"
   ]
  },
  {
   "cell_type": "code",
   "execution_count": 7,
   "metadata": {},
   "outputs": [
    {
     "name": "stdout",
     "output_type": "stream",
     "text": [
      "The crater is north of the city center. Distance north =  1450 m \n"
     ]
    }
   ],
   "source": [
    "city_center_north = 133750  #assign a variable to city center northing (UTM north coordinate)\n",
    "crater_north = 135200  #assign a variable to crater northing\n",
    "\n",
    "distance_north = crater_north - city_center_north  #difference the value\n",
    "print(\"The crater is north of the city center. Distance north = \", distance_north,\"m \")  #print the answer"
   ]
  },
  {
   "cell_type": "markdown",
   "metadata": {},
   "source": [
    "## Problem 1 - solve with a python script\n",
    "\n",
    "How far West of the city center is the active crater? Hint. Follow the same procedure as given in example #1. Copy the code and rename the variables, then run the script from the notebook menu."
   ]
  },
  {
   "cell_type": "code",
   "execution_count": null,
   "metadata": {},
   "outputs": [],
   "source": []
  },
  {
   "cell_type": "markdown",
   "metadata": {},
   "source": [
    "## Problem 2\n",
    "What is the coordinate of a point 100 m west of the crater center?"
   ]
  },
  {
   "cell_type": "code",
   "execution_count": null,
   "metadata": {},
   "outputs": [],
   "source": []
  },
  {
   "cell_type": "markdown",
   "metadata": {},
   "source": [
    "## Problem 3\n",
    "What is the UTM coordinate of a point located in zone 18, 100 m west of the central meridian and 130 m south of the equator? Hint, remember that the northing coordinate of the equator is 10,000,000 m, for points located in the southern hemisphere. Also remember that the easting coordinate of any central meridian (there are 60!) is 500,000 E."
   ]
  },
  {
   "cell_type": "code",
   "execution_count": null,
   "metadata": {},
   "outputs": [],
   "source": []
  },
  {
   "cell_type": "markdown",
   "metadata": {},
   "source": [
    "## Problem 4\n",
    "An MS student, John Petriello, did a ground penetrating radar (GPR) survey of pyroclastic density current deposits (a low aspect ratio ignimbrite - LARI) from Puluagua volcano, Ecuador. The LARI deposits, and John's survey line, crossed the equator. This created an offset in the northing coordinates along John's line at the equator. To solve this problem, John created a local grid using the UTM coordinates of the southern hemisphere even for points located along the survey line in the northern hemisphere. That is, in John's local grid, a point located 100 m north of the equator would have the northing coordinate 10000100 N, which is not an allowable UTM coordinate but is a fine value for the local grid. Unfortunately, John's GPS report locations in UTM coordinates, not in his local grid coordinates. The coordinates of the beginning and end points along John's survey line, in real UTM coordinates, are:\n",
    "\n",
    "First Point: 9999564 N, 785342 E zone 17, S\n",
    "\n",
    "Second Point 265 N, 785358 E zone 17, N\n",
    "\n",
    "Convert to these coordinates to John's local grid."
   ]
  },
  {
   "cell_type": "code",
   "execution_count": null,
   "metadata": {},
   "outputs": [],
   "source": []
  },
  {
   "cell_type": "markdown",
   "metadata": {},
   "source": [
    "## Background\n",
    "\n",
    "Often geoscientists want to make measurements along a line at even intervals, or on a map grid at even intervals. Example measurements made at even intervals might be the dip of a geologic bed, the depth to the water table, or the variation in the Earth's gravity. In hazard assessment, calculations are often made along lines or on a grid of map point locations, which have a regular grid interval (or grid spacing as it is often called).\n",
    "\n",
    "A schema: Beware that the measured interval is one less than the number of counts, unless the first count is zero. If you have $N$ equally spaced stakes in the ground, there are $N-1$ intervals between the stakes."
   ]
  },
  {
   "cell_type": "markdown",
   "metadata": {},
   "source": [
    "## Example 2\n",
    "Volcano scientists make a soil gas survey to measure CO$_2$ concentration across a fracture zone. Two points at the ends of the survey line, MLK1 and MLK2, are 100 m apart. Suppose they want to place stakes between MLK1 and MLK2 on a 10 m interval. The first stake is at MLK1, the second stake is 10 m  west of MLK1, the last stake is at MLK2. How many stakes are needed?\n",
    "\n",
    "$\\textit{number stakes} = \\frac{\\textit{total distance (meters)}}{\\textit{interval} \\,(\\frac{meters}{stake})} + 1\\,stake = \\frac{100}{10} + 1 = 11\\,stakes$ "
   ]
  },
  {
   "cell_type": "code",
   "execution_count": 8,
   "metadata": {},
   "outputs": [
    {
     "name": "stdout",
     "output_type": "stream",
     "text": [
      "number of stakes =  11.0\n"
     ]
    }
   ],
   "source": [
    "distance_apart = 100 #the two points are 100 m apart\n",
    "stake_interval = 10 #the stakes are spaced at 10 m interval\n",
    "num_stakes = (100/10) + 1  #we need one more than the fraction - note the use of parentheses to organize the equation\n",
    "\n",
    "print(\"number of stakes = \", num_stakes)"
   ]
  },
  {
   "cell_type": "markdown",
   "metadata": {},
   "source": [
    "## Problem 4\n",
    "Suppose the volcano scientists have only 10 stakes and want them spaced evenly with the first stake at MLK1 and the last stake at MLK2. What is the distance between the stakes? Hint:\n",
    "$(10-1) \\, spaces \\times x \\frac{meters}{space} = 100 \\, meters$"
   ]
  },
  {
   "cell_type": "code",
   "execution_count": null,
   "metadata": {},
   "outputs": [],
   "source": []
  },
  {
   "cell_type": "markdown",
   "metadata": {},
   "source": [
    "## Problem 5\n",
    "Suppose they want to create a $100 \\times 100$ m grid of stakes, on a 10 m interval. How many stakes are needed?"
   ]
  },
  {
   "cell_type": "code",
   "execution_count": null,
   "metadata": {},
   "outputs": [],
   "source": []
  },
  {
   "cell_type": "markdown",
   "metadata": {},
   "source": [
    "## Problem 6\n",
    "Suppose they only have 49 stakes to create a $100 \\times 100$ m grid with an even interval between stakes in each direction. What is the interval? Hint:\n",
    "\n",
    "$$\\textit{49 stakes} = \\left [ \\frac{\\textit{total distance}}{\\textit{interval}} + 1 \\right ]^2$$"
   ]
  },
  {
   "cell_type": "code",
   "execution_count": null,
   "metadata": {},
   "outputs": [],
   "source": []
  },
  {
   "cell_type": "markdown",
   "metadata": {},
   "source": [
    "## Problem 7\n",
    "A satellite maps topography along a 2400 km-long transect in a polar orbit (N-S direction) across North America. The satellite data are processed to provide one elevation measurement every 30 m of horizontal distance along the transect. How many elevation measurements are in the transect?"
   ]
  },
  {
   "cell_type": "code",
   "execution_count": null,
   "metadata": {},
   "outputs": [],
   "source": []
  },
  {
   "cell_type": "markdown",
   "metadata": {},
   "source": [
    "## Problem 8\n",
    "A digital elevation model (DEM) is a map grid of elevation measurements. Usually, one axis of the grid runs N-S and the other axis runs E-W. If the southwesternmost corner of the DEM is located at 3200104 N, 500000 E, the spacing between elevation measurements in the grid is 30 m in both directions, and there are a total of 200 measurements in each direction, what is the UTM coordinate of the NE corner of the DEM?"
   ]
  },
  {
   "cell_type": "code",
   "execution_count": null,
   "metadata": {},
   "outputs": [],
   "source": []
  },
  {
   "cell_type": "markdown",
   "metadata": {},
   "source": [
    "## Background\n",
    "Originally the meter was intended to be defined in terms of the distance from the equator to the pole. Specifically, it was thought this distance is 10,000 kilometers. It turns out this is not exactly right, because the Earth is not quite spherical, and because at the time the meter was defined the distance between pole and equator was not precisely known. Nevertheless, it's close. To answer these questions, assume that the distance from the equator to the north pole is 10,000 kilometers and that the Earth is a perfect sphere."
   ]
  },
  {
   "cell_type": "markdown",
   "metadata": {},
   "source": [
    "## Problem 9\n",
    "How many meters is it from the south pole to the equator? Hint: This is a question about unit conversion from kilometers to meters."
   ]
  },
  {
   "cell_type": "code",
   "execution_count": null,
   "metadata": {},
   "outputs": [],
   "source": []
  },
  {
   "cell_type": "markdown",
   "metadata": {},
   "source": [
    "## Problem 10\n",
    "Calculate the circumference of the Earth in kilometers."
   ]
  },
  {
   "cell_type": "code",
   "execution_count": null,
   "metadata": {},
   "outputs": [],
   "source": []
  },
  {
   "cell_type": "markdown",
   "metadata": {},
   "source": [
    "## Example 3\n",
    "Calculate the radius of the Earth. Recall that the circumference of a circle is $2 \\pi r$, where $r$ is the radius."
   ]
  },
  {
   "cell_type": "code",
   "execution_count": 9,
   "metadata": {},
   "outputs": [
    {
     "name": "stdout",
     "output_type": "stream",
     "text": [
      "radius =  6366.197723675814 km\n"
     ]
    }
   ],
   "source": [
    "#in order to use the value of PI and a lot of other math\n",
    "#import this module\n",
    "import math\n",
    "\n",
    "circumferance = 40000  #kilometers, right?\n",
    "\n",
    "#solve for radius\n",
    "#note pi is math.pi (because it is a feature of the math module)\n",
    "# note () in denominator to solve this equation correctly.\n",
    "radius = circumferance/(2*math.pi) \n",
    "\n",
    "print (\"radius = \", radius, \"km\")"
   ]
  },
  {
   "cell_type": "markdown",
   "metadata": {},
   "source": [
    "## Problem 11\n",
    "The depth to the outer core is about 2900 km. What is the circumference of the Earth's outer core?"
   ]
  },
  {
   "cell_type": "code",
   "execution_count": null,
   "metadata": {},
   "outputs": [],
   "source": []
  },
  {
   "cell_type": "markdown",
   "metadata": {},
   "source": [
    "## Background\n",
    "\n",
    "A sphere has constant radius and the Earth does not. The equatorial radius of the Earth is approximately 6378.137 km, the polar radius of the Earth is approximately 6356.752 km.\n",
    "\n",
    "Consequently, the figure of the Earth is more precisely approximated by an oblate ellipsoid of revolution. The planet is flattened along its axis of rotation, its equatorial bulge a result of rotation. The Earth is wider around its waistline (the equator) than around the poles. The amount of flattening of the ellipsoid can be expressed in terms of equatorial and polar radii:\n",
    "\n",
    "\\begin{equation} \\nonumber\n",
    "f=\\frac{R_{eq}-R_{po}}{R_{eq}}\n",
    "\\end{equation}\n",
    "where $R_{eq}$ is the radius of the Earth at the equator and $R_{po}$ is the radius at the pole. \n",
    "\n",
    "The magnitude of flattening, $f$ , is now very well determined from observing artificial satellite orbits around the Earth, and is fixed for the WGS84 ellipsoid as $f = 1/298.257223563$. Newton first discussed the flattening of the Earth, and estimated a value of 1/230. The radius of the Earth at a given latitude is given by\n",
    "\\begin{equation} \\nonumber\n",
    "R_E = R_{eq} (1 - f sin^2 \\phi)\n",
    "\\end{equation}\n",
    "where: $R_E$ is the Earth's radius at latitude $\\phi$, $R_{eq}$ is the radius of the Earth at the equator, approximately 6378137 m, and $f$ is the flattening."
   ]
  },
  {
   "cell_type": "markdown",
   "metadata": {},
   "source": [
    "## Problem 12\n",
    "\n",
    "Based on height above sealevel, Mt. Everest (8,848 m above sealevel, about 28 degrees N) is the highest place on Earth. Cotopaxi volcano ( 5,897 m above sealevel, about 1 degree N) is also a very high mountain. What if we measured height with respect to the center of the Earth? Which is taller: Cotopaxi or Everest?\n",
    "\n",
    "Hint: For distance from the center of the Earth of Mt Everest:\n",
    "\n",
    "$$ = 6378.137 (1 - (1/298.257) \\sin^2 28) + 8.848 = 6382.272\\,km$$"
   ]
  },
  {
   "cell_type": "code",
   "execution_count": 10,
   "metadata": {},
   "outputs": [
    {
     "name": "stdout",
     "output_type": "stream",
     "text": [
      "distance of Mt Everest from earth center =  6382.271735848219 km\n"
     ]
    }
   ],
   "source": [
    "#this bit of code solves the hint\n",
    "#you have to write the rest of the code\n",
    "#to solve this problem!\n",
    "\n",
    "#import the math module\n",
    "import math\n",
    "\n",
    "#specify earth parameters\n",
    "equatorial_radius = 6378.137 #kilometers\n",
    "flattening = 1/298.257\n",
    "\n",
    "#info needed about Mt. Everest\n",
    "latitude_mt_everest = 28 #degrees\n",
    "height_mt_everest = 8.848 #kilometers\n",
    "\n",
    "#step 1 - convert latitude to radians\n",
    "#         python does calculations in radians\n",
    "radians_mt_everest = 28 * math.pi/180\n",
    "\n",
    "#step 2 - find distance of the top of Mt Everest from center of earth\n",
    "distance_mt_everest = equatorial_radius*(1-flattening*math.sin(radians_mt_everest)**2) + height_mt_everest\n",
    "\n",
    "print (\"distance of Mt Everest from earth center = \", distance_mt_everest, \"km\")\n",
    "\n",
    "#now complete the code making the same calculation\n",
    "#for Cotopaxi and compare the results\n"
   ]
  },
  {
   "cell_type": "markdown",
   "metadata": {},
   "source": [
    "## Background \n",
    "\n",
    "Latitude and longitude can be expressed in decimal degrees (for example, MLK1:28.0626 N, 82.4153 W) or in degrees, minutes and seconds. To convert 28.0626 N to degrees and  minutes, express the latitude with a whole number and a remainder. The remainder is multiplied by 60, because there are 60 minutes in 1 degree.\n",
    "\n",
    "\\begin{equation} \\nonumber\n",
    "28.0626\\,N = 28^{\\circ} + 0.0626 ^{\\circ} \\times 60 \\, minutes/degree = 28^{\\circ}\\, 3.756'\n",
    "\\end{equation}\n",
    "\n",
    "To convert to degrees, minutes, and seconds the minutes must be treated as a whole number and remainder that is multiplied by 60, because there are 60 seconds in one minute.\n",
    "\n",
    "\n",
    "\\begin{equation} \\nonumber\n",
    "28^{\\circ}\\,3.756'N = 28^{\\circ} + 3' + 0.756' \\times 60 \\, seconds / minute = 28^{\\circ} 3' 45.36''\\,N\n",
    "\\end{equation}"
   ]
  },
  {
   "cell_type": "markdown",
   "metadata": {},
   "source": [
    "## Problem 13\n",
    "\n",
    "Convert the longitude 82.4153 W to degrees minutes seconds"
   ]
  },
  {
   "cell_type": "code",
   "execution_count": null,
   "metadata": {},
   "outputs": [],
   "source": []
  }
 ],
 "metadata": {
  "kernelspec": {
   "display_name": "Python 3",
   "language": "python",
   "name": "python3"
  },
  "language_info": {
   "codemirror_mode": {
    "name": "ipython",
    "version": 3
   },
   "file_extension": ".py",
   "mimetype": "text/x-python",
   "name": "python",
   "nbconvert_exporter": "python",
   "pygments_lexer": "ipython3",
   "version": "3.8.8"
  }
 },
 "nbformat": 4,
 "nbformat_minor": 2
}
