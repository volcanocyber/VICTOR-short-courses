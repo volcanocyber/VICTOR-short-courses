{
 "cells": [
  {
   "cell_type": "markdown",
   "id": "8c4a188b",
   "metadata": {},
   "source": [
    "# Using VICTOR to solve volcano science problems\n",
    "\n",
    "This notebook is intended to:\n",
    "\n",
    "1. Provide some insights into the pitfalls in correlation\n",
    "\n",
    "2. Provide more examples of manipulating data with pandas, including the use of scatter plots and scatter matrix "
   ]
  },
  {
   "cell_type": "markdown",
   "id": "47b04e9d",
   "metadata": {},
   "source": [
    "## Notebook  3b: Pitfalls in correlation\n",
    "#### version 0, Nov 11, 2022\n",
    "\n",
    "### Background\n",
    "Calculating the correlation coefficient is simple, but there are pitfalls to the calculation using real-world data that one needs to be aware of. Pitfalls include\n",
    "\n",
    "0. data ordering may create correlation\n",
    "1. occurrence of outliers (the King Kong effect!)\n",
    "2. clustering of data points\n",
    "3. nonlinear trends\n",
    "4. closed vs. open datasets\n",
    "\n",
    "Be aware of these issues and avoid spurious correlations!"
   ]
  },
  {
   "cell_type": "markdown",
   "id": "b967321b",
   "metadata": {},
   "source": [
    "## Data ordering\n",
    "Consider a series of measurements of rock samples (pumice fragments, but it could be anything!). The measurements are made of the $a$-axis, the longest linear dimension of the sample, the $b$-axis, the next longest dimension orthogonal to $a$, and the $c$-axis, the length of the rock sample orthogonal to both $a$ and $b$. \n",
    "\n",
    "Because these measurements are ordered, there will always be some positive correlation among the axes. That is $r > 0$. This is an example of induced correlation."
   ]
  },
  {
   "cell_type": "code",
   "execution_count": 1,
   "id": "77f564c9",
   "metadata": {},
   "outputs": [
    {
     "data": {
      "text/html": [
       "<div>\n",
       "<style scoped>\n",
       "    .dataframe tbody tr th:only-of-type {\n",
       "        vertical-align: middle;\n",
       "    }\n",
       "\n",
       "    .dataframe tbody tr th {\n",
       "        vertical-align: top;\n",
       "    }\n",
       "\n",
       "    .dataframe thead th {\n",
       "        text-align: right;\n",
       "    }\n",
       "</style>\n",
       "<table border=\"1\" class=\"dataframe\">\n",
       "  <thead>\n",
       "    <tr style=\"text-align: right;\">\n",
       "      <th></th>\n",
       "      <th>a-axis</th>\n",
       "      <th>b-axis</th>\n",
       "      <th>c-axis</th>\n",
       "    </tr>\n",
       "  </thead>\n",
       "  <tbody>\n",
       "    <tr>\n",
       "      <th>0</th>\n",
       "      <td>8</td>\n",
       "      <td>7</td>\n",
       "      <td>3</td>\n",
       "    </tr>\n",
       "    <tr>\n",
       "      <th>1</th>\n",
       "      <td>16</td>\n",
       "      <td>8</td>\n",
       "      <td>5</td>\n",
       "    </tr>\n",
       "    <tr>\n",
       "      <th>2</th>\n",
       "      <td>12</td>\n",
       "      <td>10</td>\n",
       "      <td>9</td>\n",
       "    </tr>\n",
       "    <tr>\n",
       "      <th>3</th>\n",
       "      <td>13</td>\n",
       "      <td>12</td>\n",
       "      <td>5</td>\n",
       "    </tr>\n",
       "    <tr>\n",
       "      <th>4</th>\n",
       "      <td>16</td>\n",
       "      <td>14</td>\n",
       "      <td>5</td>\n",
       "    </tr>\n",
       "    <tr>\n",
       "      <th>5</th>\n",
       "      <td>14</td>\n",
       "      <td>9</td>\n",
       "      <td>8</td>\n",
       "    </tr>\n",
       "    <tr>\n",
       "      <th>6</th>\n",
       "      <td>16</td>\n",
       "      <td>13</td>\n",
       "      <td>13</td>\n",
       "    </tr>\n",
       "    <tr>\n",
       "      <th>7</th>\n",
       "      <td>11</td>\n",
       "      <td>6</td>\n",
       "      <td>3</td>\n",
       "    </tr>\n",
       "    <tr>\n",
       "      <th>8</th>\n",
       "      <td>15</td>\n",
       "      <td>9</td>\n",
       "      <td>9</td>\n",
       "    </tr>\n",
       "    <tr>\n",
       "      <th>9</th>\n",
       "      <td>13</td>\n",
       "      <td>10</td>\n",
       "      <td>9</td>\n",
       "    </tr>\n",
       "  </tbody>\n",
       "</table>\n",
       "</div>"
      ],
      "text/plain": [
       "   a-axis  b-axis  c-axis\n",
       "0       8       7       3\n",
       "1      16       8       5\n",
       "2      12      10       9\n",
       "3      13      12       5\n",
       "4      16      14       5\n",
       "5      14       9       8\n",
       "6      16      13      13\n",
       "7      11       6       3\n",
       "8      15       9       9\n",
       "9      13      10       9"
      ]
     },
     "execution_count": 1,
     "metadata": {},
     "output_type": "execute_result"
    }
   ],
   "source": [
    "import pandas as pd\n",
    "\n",
    "#rock dimensions in cm\n",
    "rock_a = pd.Series([8,16,12,13,16,14,16,11,15,13])\n",
    "rock_b = pd.Series([7,8,10,12,14,9,13,6,9,10])\n",
    "rock_c = pd.Series([3,5,9,5,5,8,13,3,9,9])\n",
    "\n",
    "xyz = pd.DataFrame({'a-axis': rock_a, 'b-axis': rock_b, 'c-axis': rock_c})\n",
    "\n",
    "xyz\n"
   ]
  },
  {
   "cell_type": "code",
   "execution_count": 2,
   "id": "1cb50f9d",
   "metadata": {},
   "outputs": [
    {
     "data": {
      "text/plain": [
       "array([[<AxesSubplot:xlabel='a-axis', ylabel='a-axis'>,\n",
       "        <AxesSubplot:xlabel='b-axis', ylabel='a-axis'>,\n",
       "        <AxesSubplot:xlabel='c-axis', ylabel='a-axis'>],\n",
       "       [<AxesSubplot:xlabel='a-axis', ylabel='b-axis'>,\n",
       "        <AxesSubplot:xlabel='b-axis', ylabel='b-axis'>,\n",
       "        <AxesSubplot:xlabel='c-axis', ylabel='b-axis'>],\n",
       "       [<AxesSubplot:xlabel='a-axis', ylabel='c-axis'>,\n",
       "        <AxesSubplot:xlabel='b-axis', ylabel='c-axis'>,\n",
       "        <AxesSubplot:xlabel='c-axis', ylabel='c-axis'>]], dtype=object)"
      ]
     },
     "execution_count": 2,
     "metadata": {},
     "output_type": "execute_result"
    },
    {
     "data": {
      "image/png": "[encoded data removed]",
      "text/plain": [
       "<Figure size 432x288 with 9 Axes>"
      ]
     },
     "metadata": {
      "needs_background": "light"
     },
     "output_type": "display_data"
    }
   ],
   "source": [
    "#plot the data\n",
    "pd.plotting.scatter_matrix(xyz)"
   ]
  },
  {
   "cell_type": "code",
   "execution_count": 3,
   "id": "edea2b9f",
   "metadata": {},
   "outputs": [
    {
     "data": {
      "text/html": [
       "<div>\n",
       "<style scoped>\n",
       "    .dataframe tbody tr th:only-of-type {\n",
       "        vertical-align: middle;\n",
       "    }\n",
       "\n",
       "    .dataframe tbody tr th {\n",
       "        vertical-align: top;\n",
       "    }\n",
       "\n",
       "    .dataframe thead th {\n",
       "        text-align: right;\n",
       "    }\n",
       "</style>\n",
       "<table border=\"1\" class=\"dataframe\">\n",
       "  <thead>\n",
       "    <tr style=\"text-align: right;\">\n",
       "      <th></th>\n",
       "      <th>a-axis</th>\n",
       "      <th>b-axis</th>\n",
       "      <th>c-axis</th>\n",
       "    </tr>\n",
       "  </thead>\n",
       "  <tbody>\n",
       "    <tr>\n",
       "      <th>a-axis</th>\n",
       "      <td>1.000000</td>\n",
       "      <td>0.596680</td>\n",
       "      <td>0.499281</td>\n",
       "    </tr>\n",
       "    <tr>\n",
       "      <th>b-axis</th>\n",
       "      <td>0.596680</td>\n",
       "      <td>1.000000</td>\n",
       "      <td>0.467679</td>\n",
       "    </tr>\n",
       "    <tr>\n",
       "      <th>c-axis</th>\n",
       "      <td>0.499281</td>\n",
       "      <td>0.467679</td>\n",
       "      <td>1.000000</td>\n",
       "    </tr>\n",
       "  </tbody>\n",
       "</table>\n",
       "</div>"
      ],
      "text/plain": [
       "          a-axis    b-axis    c-axis\n",
       "a-axis  1.000000  0.596680  0.499281\n",
       "b-axis  0.596680  1.000000  0.467679\n",
       "c-axis  0.499281  0.467679  1.000000"
      ]
     },
     "execution_count": 3,
     "metadata": {},
     "output_type": "execute_result"
    }
   ],
   "source": [
    "#calculate the pearson correlation coefficient\n",
    "correlation_matrix = xyz.corr()\n",
    "\n",
    "#print the correlation matrix\n",
    "correlation_matrix"
   ]
  },
  {
   "cell_type": "markdown",
   "id": "968a3fe6",
   "metadata": {},
   "source": [
    "## King Kong Effect\n",
    "\n",
    "Now consider an additional measurement of rock size - a really large rock is sampled. The giant rock is added to the dataset, and induces very high correlations. These correlation coefficients are not meaningful because the new sample (the really big rock) is an outlier."
   ]
  },
  {
   "cell_type": "code",
   "execution_count": 4,
   "id": "e3fb976e",
   "metadata": {},
   "outputs": [
    {
     "data": {
      "text/html": [
       "<div>\n",
       "<style scoped>\n",
       "    .dataframe tbody tr th:only-of-type {\n",
       "        vertical-align: middle;\n",
       "    }\n",
       "\n",
       "    .dataframe tbody tr th {\n",
       "        vertical-align: top;\n",
       "    }\n",
       "\n",
       "    .dataframe thead th {\n",
       "        text-align: right;\n",
       "    }\n",
       "</style>\n",
       "<table border=\"1\" class=\"dataframe\">\n",
       "  <thead>\n",
       "    <tr style=\"text-align: right;\">\n",
       "      <th></th>\n",
       "      <th>a-axis</th>\n",
       "      <th>b-axis</th>\n",
       "      <th>c-axis</th>\n",
       "    </tr>\n",
       "  </thead>\n",
       "  <tbody>\n",
       "    <tr>\n",
       "      <th>a-axis</th>\n",
       "      <td>1.000000</td>\n",
       "      <td>0.996921</td>\n",
       "      <td>0.993727</td>\n",
       "    </tr>\n",
       "    <tr>\n",
       "      <th>b-axis</th>\n",
       "      <td>0.996921</td>\n",
       "      <td>1.000000</td>\n",
       "      <td>0.992958</td>\n",
       "    </tr>\n",
       "    <tr>\n",
       "      <th>c-axis</th>\n",
       "      <td>0.993727</td>\n",
       "      <td>0.992958</td>\n",
       "      <td>1.000000</td>\n",
       "    </tr>\n",
       "  </tbody>\n",
       "</table>\n",
       "</div>"
      ],
      "text/plain": [
       "          a-axis    b-axis    c-axis\n",
       "a-axis  1.000000  0.996921  0.993727\n",
       "b-axis  0.996921  1.000000  0.992958\n",
       "c-axis  0.993727  0.992958  1.000000"
      ]
     },
     "execution_count": 4,
     "metadata": {},
     "output_type": "execute_result"
    }
   ],
   "source": [
    "#rock dimensions in cm (add a big rock!)\n",
    "rock_a = pd.Series([8,16,12,13,16,14,16,11,15,13, 120]) # the last entry in the list is a really big rock.\n",
    "rock_b = pd.Series([7,8,10,12,14,9,13,6,9,10,95])\n",
    "rock_c = pd.Series([3,5,9,5,5,8,13,3,9,9,85])\n",
    "\n",
    "xyz = pd.DataFrame({'a-axis': rock_a, 'b-axis': rock_b, 'c-axis': rock_c})\n",
    "\n",
    "#calculate the pearson correlation coefficient\n",
    "correlation_matrix = xyz.corr()\n",
    "\n",
    "#print the correlation matrix\n",
    "correlation_matrix\n"
   ]
  },
  {
   "cell_type": "code",
   "execution_count": 5,
   "id": "9b562bc7",
   "metadata": {},
   "outputs": [
    {
     "data": {
      "text/plain": [
       "array([[<AxesSubplot:xlabel='a-axis', ylabel='a-axis'>,\n",
       "        <AxesSubplot:xlabel='b-axis', ylabel='a-axis'>,\n",
       "        <AxesSubplot:xlabel='c-axis', ylabel='a-axis'>],\n",
       "       [<AxesSubplot:xlabel='a-axis', ylabel='b-axis'>,\n",
       "        <AxesSubplot:xlabel='b-axis', ylabel='b-axis'>,\n",
       "        <AxesSubplot:xlabel='c-axis', ylabel='b-axis'>],\n",
       "       [<AxesSubplot:xlabel='a-axis', ylabel='c-axis'>,\n",
       "        <AxesSubplot:xlabel='b-axis', ylabel='c-axis'>,\n",
       "        <AxesSubplot:xlabel='c-axis', ylabel='c-axis'>]], dtype=object)"
      ]
     },
     "execution_count": 5,
     "metadata": {},
     "output_type": "execute_result"
    },
    {
     "data": {
      "image/png": "[encoded data removed]",
      "text/plain": [
       "<Figure size 432x288 with 9 Axes>"
      ]
     },
     "metadata": {
      "needs_background": "light"
     },
     "output_type": "display_data"
    }
   ],
   "source": [
    "#plot the data\n",
    "pd.plotting.scatter_matrix(xyz)"
   ]
  },
  {
   "cell_type": "markdown",
   "id": "533daf69",
   "metadata": {},
   "source": [
    "## Clustering of data points \n",
    "\n",
    "Clustering of data has the same effect as the King Kong effect, usually a bit more muted. in the following example, two clusters of rock sizes are added (big and small). The two clusters induce a large correlation coefficient."
   ]
  },
  {
   "cell_type": "code",
   "execution_count": 6,
   "id": "1ab125e5",
   "metadata": {},
   "outputs": [
    {
     "data": {
      "text/html": [
       "<div>\n",
       "<style scoped>\n",
       "    .dataframe tbody tr th:only-of-type {\n",
       "        vertical-align: middle;\n",
       "    }\n",
       "\n",
       "    .dataframe tbody tr th {\n",
       "        vertical-align: top;\n",
       "    }\n",
       "\n",
       "    .dataframe thead th {\n",
       "        text-align: right;\n",
       "    }\n",
       "</style>\n",
       "<table border=\"1\" class=\"dataframe\">\n",
       "  <thead>\n",
       "    <tr style=\"text-align: right;\">\n",
       "      <th></th>\n",
       "      <th>a-axis</th>\n",
       "      <th>b-axis</th>\n",
       "      <th>c-axis</th>\n",
       "    </tr>\n",
       "  </thead>\n",
       "  <tbody>\n",
       "    <tr>\n",
       "      <th>a-axis</th>\n",
       "      <td>1.000000</td>\n",
       "      <td>0.994965</td>\n",
       "      <td>0.973624</td>\n",
       "    </tr>\n",
       "    <tr>\n",
       "      <th>b-axis</th>\n",
       "      <td>0.994965</td>\n",
       "      <td>1.000000</td>\n",
       "      <td>0.971750</td>\n",
       "    </tr>\n",
       "    <tr>\n",
       "      <th>c-axis</th>\n",
       "      <td>0.973624</td>\n",
       "      <td>0.971750</td>\n",
       "      <td>1.000000</td>\n",
       "    </tr>\n",
       "  </tbody>\n",
       "</table>\n",
       "</div>"
      ],
      "text/plain": [
       "          a-axis    b-axis    c-axis\n",
       "a-axis  1.000000  0.994965  0.973624\n",
       "b-axis  0.994965  1.000000  0.971750\n",
       "c-axis  0.973624  0.971750  1.000000"
      ]
     },
     "execution_count": 6,
     "metadata": {},
     "output_type": "execute_result"
    }
   ],
   "source": [
    "#rock dimensions in cm (add a big rock!)\n",
    "rock_a = pd.Series([8,16,12,13,16,14,16,11,15,13, 120, 110, 115, 122])\n",
    "rock_b = pd.Series([7,8,10,12,14,9,13,6,9,10,95, 88, 94, 84])\n",
    "rock_c = pd.Series([3,5,9,5,5,8,13,3,9,9,85,56, 55, 63])\n",
    "\n",
    "xyz = pd.DataFrame({'a-axis': rock_a, 'b-axis': rock_b, 'c-axis': rock_c})\n",
    "\n",
    "#calculate the pearson correlation coefficient\n",
    "correlation_matrix = xyz.corr()\n",
    "\n",
    "#print the correlation matrix\n",
    "correlation_matrix\n"
   ]
  },
  {
   "cell_type": "code",
   "execution_count": 7,
   "id": "47fc3b24",
   "metadata": {},
   "outputs": [
    {
     "data": {
      "text/plain": [
       "array([[<AxesSubplot:xlabel='a-axis', ylabel='a-axis'>,\n",
       "        <AxesSubplot:xlabel='b-axis', ylabel='a-axis'>,\n",
       "        <AxesSubplot:xlabel='c-axis', ylabel='a-axis'>],\n",
       "       [<AxesSubplot:xlabel='a-axis', ylabel='b-axis'>,\n",
       "        <AxesSubplot:xlabel='b-axis', ylabel='b-axis'>,\n",
       "        <AxesSubplot:xlabel='c-axis', ylabel='b-axis'>],\n",
       "       [<AxesSubplot:xlabel='a-axis', ylabel='c-axis'>,\n",
       "        <AxesSubplot:xlabel='b-axis', ylabel='c-axis'>,\n",
       "        <AxesSubplot:xlabel='c-axis', ylabel='c-axis'>]], dtype=object)"
      ]
     },
     "execution_count": 7,
     "metadata": {},
     "output_type": "execute_result"
    },
    {
     "data": {
      "image/png": "[encoded data removed]",
      "text/plain": [
       "<Figure size 432x288 with 9 Axes>"
      ]
     },
     "metadata": {
      "needs_background": "light"
     },
     "output_type": "display_data"
    }
   ],
   "source": [
    "#plot the data\n",
    "pd.plotting.scatter_matrix(xyz)"
   ]
  },
  {
   "cell_type": "markdown",
   "id": "a21f16e1",
   "metadata": {},
   "source": [
    "## Nonlinear correlation \n",
    "Consider a transformation to compare the logarithms of data . This can remove clustering and yield a more meaningful correlation. Here is an example using lahar (debris flow) volume and area inundated by the lahars (from Schilling and others)."
   ]
  },
  {
   "cell_type": "code",
   "execution_count": 8,
   "id": "3dd13f06",
   "metadata": {},
   "outputs": [
    {
     "data": {
      "text/html": [
       "<div>\n",
       "<style scoped>\n",
       "    .dataframe tbody tr th:only-of-type {\n",
       "        vertical-align: middle;\n",
       "    }\n",
       "\n",
       "    .dataframe tbody tr th {\n",
       "        vertical-align: top;\n",
       "    }\n",
       "\n",
       "    .dataframe thead th {\n",
       "        text-align: right;\n",
       "    }\n",
       "</style>\n",
       "<table border=\"1\" class=\"dataframe\">\n",
       "  <thead>\n",
       "    <tr style=\"text-align: right;\">\n",
       "      <th></th>\n",
       "      <th>volume</th>\n",
       "      <th>area</th>\n",
       "    </tr>\n",
       "  </thead>\n",
       "  <tbody>\n",
       "    <tr>\n",
       "      <th>0</th>\n",
       "      <td>4.000000e+09</td>\n",
       "      <td>550000000.0</td>\n",
       "    </tr>\n",
       "    <tr>\n",
       "      <th>1</th>\n",
       "      <td>1.800000e+09</td>\n",
       "      <td>140000000.0</td>\n",
       "    </tr>\n",
       "    <tr>\n",
       "      <th>2</th>\n",
       "      <td>2.500000e+08</td>\n",
       "      <td>60000000.0</td>\n",
       "    </tr>\n",
       "    <tr>\n",
       "      <th>3</th>\n",
       "      <td>2.000000e+08</td>\n",
       "      <td>50000000.0</td>\n",
       "    </tr>\n",
       "    <tr>\n",
       "      <th>4</th>\n",
       "      <td>1.800000e+08</td>\n",
       "      <td>90000000.0</td>\n",
       "    </tr>\n",
       "    <tr>\n",
       "      <th>5</th>\n",
       "      <td>1.500000e+08</td>\n",
       "      <td>78000000.0</td>\n",
       "    </tr>\n",
       "    <tr>\n",
       "      <th>6</th>\n",
       "      <td>1.000000e+08</td>\n",
       "      <td>34000000.0</td>\n",
       "    </tr>\n",
       "    <tr>\n",
       "      <th>7</th>\n",
       "      <td>7.300000e+07</td>\n",
       "      <td>55000000.0</td>\n",
       "    </tr>\n",
       "    <tr>\n",
       "      <th>8</th>\n",
       "      <td>6.600000e+07</td>\n",
       "      <td>27000000.0</td>\n",
       "    </tr>\n",
       "    <tr>\n",
       "      <th>9</th>\n",
       "      <td>5.000000e+07</td>\n",
       "      <td>20000000.0</td>\n",
       "    </tr>\n",
       "    <tr>\n",
       "      <th>10</th>\n",
       "      <td>4.000000e+07</td>\n",
       "      <td>4500000.0</td>\n",
       "    </tr>\n",
       "    <tr>\n",
       "      <th>11</th>\n",
       "      <td>4.000000e+07</td>\n",
       "      <td>34000000.0</td>\n",
       "    </tr>\n",
       "    <tr>\n",
       "      <th>12</th>\n",
       "      <td>3.000000e+07</td>\n",
       "      <td>6000000.0</td>\n",
       "    </tr>\n",
       "    <tr>\n",
       "      <th>13</th>\n",
       "      <td>1.600000e+07</td>\n",
       "      <td>11000000.0</td>\n",
       "    </tr>\n",
       "    <tr>\n",
       "      <th>14</th>\n",
       "      <td>1.500000e+07</td>\n",
       "      <td>16000000.0</td>\n",
       "    </tr>\n",
       "    <tr>\n",
       "      <th>15</th>\n",
       "      <td>1.500000e+07</td>\n",
       "      <td>6000000.0</td>\n",
       "    </tr>\n",
       "    <tr>\n",
       "      <th>16</th>\n",
       "      <td>1.400000e+07</td>\n",
       "      <td>3000000.0</td>\n",
       "    </tr>\n",
       "    <tr>\n",
       "      <th>17</th>\n",
       "      <td>1.200000e+07</td>\n",
       "      <td>1800000.0</td>\n",
       "    </tr>\n",
       "    <tr>\n",
       "      <th>18</th>\n",
       "      <td>6.000000e+05</td>\n",
       "      <td>1000000.0</td>\n",
       "    </tr>\n",
       "    <tr>\n",
       "      <th>19</th>\n",
       "      <td>3.800000e+05</td>\n",
       "      <td>750000.0</td>\n",
       "    </tr>\n",
       "    <tr>\n",
       "      <th>20</th>\n",
       "      <td>3.800000e+05</td>\n",
       "      <td>500000.0</td>\n",
       "    </tr>\n",
       "    <tr>\n",
       "      <th>21</th>\n",
       "      <td>3.000000e+05</td>\n",
       "      <td>200000.0</td>\n",
       "    </tr>\n",
       "    <tr>\n",
       "      <th>22</th>\n",
       "      <td>1.400000e+05</td>\n",
       "      <td>400000.0</td>\n",
       "    </tr>\n",
       "    <tr>\n",
       "      <th>23</th>\n",
       "      <td>8.000000e+04</td>\n",
       "      <td>470000.0</td>\n",
       "    </tr>\n",
       "    <tr>\n",
       "      <th>24</th>\n",
       "      <td>8.000000e+04</td>\n",
       "      <td>100000.0</td>\n",
       "    </tr>\n",
       "    <tr>\n",
       "      <th>25</th>\n",
       "      <td>1.700000e+04</td>\n",
       "      <td>16000.0</td>\n",
       "    </tr>\n",
       "    <tr>\n",
       "      <th>26</th>\n",
       "      <td>3.000000e+02</td>\n",
       "      <td>2000.0</td>\n",
       "    </tr>\n",
       "    <tr>\n",
       "      <th>27</th>\n",
       "      <td>1.000000e+02</td>\n",
       "      <td>600.0</td>\n",
       "    </tr>\n",
       "    <tr>\n",
       "      <th>28</th>\n",
       "      <td>1.000000e+01</td>\n",
       "      <td>200.0</td>\n",
       "    </tr>\n",
       "  </tbody>\n",
       "</table>\n",
       "</div>"
      ],
      "text/plain": [
       "          volume         area\n",
       "0   4.000000e+09  550000000.0\n",
       "1   1.800000e+09  140000000.0\n",
       "2   2.500000e+08   60000000.0\n",
       "3   2.000000e+08   50000000.0\n",
       "4   1.800000e+08   90000000.0\n",
       "5   1.500000e+08   78000000.0\n",
       "6   1.000000e+08   34000000.0\n",
       "7   7.300000e+07   55000000.0\n",
       "8   6.600000e+07   27000000.0\n",
       "9   5.000000e+07   20000000.0\n",
       "10  4.000000e+07    4500000.0\n",
       "11  4.000000e+07   34000000.0\n",
       "12  3.000000e+07    6000000.0\n",
       "13  1.600000e+07   11000000.0\n",
       "14  1.500000e+07   16000000.0\n",
       "15  1.500000e+07    6000000.0\n",
       "16  1.400000e+07    3000000.0\n",
       "17  1.200000e+07    1800000.0\n",
       "18  6.000000e+05    1000000.0\n",
       "19  3.800000e+05     750000.0\n",
       "20  3.800000e+05     500000.0\n",
       "21  3.000000e+05     200000.0\n",
       "22  1.400000e+05     400000.0\n",
       "23  8.000000e+04     470000.0\n",
       "24  8.000000e+04     100000.0\n",
       "25  1.700000e+04      16000.0\n",
       "26  3.000000e+02       2000.0\n",
       "27  1.000000e+02        600.0\n",
       "28  1.000000e+01        200.0"
      ]
     },
     "execution_count": 8,
     "metadata": {},
     "output_type": "execute_result"
    }
   ],
   "source": [
    "# lahar volume (m^3)\n",
    "lahar_volume = pd.Series([4e9, 1.8e9, 2.5e8,2e8,1.8e8, 1.5e8,1e8, 7.3e7,6.6e7, 5e7, 4e7,4e7, 3e7, 1.6e7, 1.5e7, 1.5e7, 1.4e7, 1.2e7,6e5, 3.8e5, 3.8e5, 3e5, 1.4e5, 8e4, 8e4, 1.7e4, 300, 100, 10])\n",
    "\n",
    "# area inundated by the lahar (m^2)\n",
    "lahar_area = pd.Series([5.5e8,1.4e8,6e7,5e7,9e7,7.8e7, 3.4e7, 5.5e7,2.7e7, 2e7, 4.5e6, 3.4e7, 6e6, 1.1e7, 1.6e7, 6e6, 3e6, 1.8e6, 1e6, 7.5e5, 5e5,2e5, 4e5, 4.7e5, 1e5, 1.6e4, 2000, 600, 200])\n",
    "\n",
    "\n",
    "lahar = pd.DataFrame({'volume': lahar_volume, 'area': lahar_area})\n",
    "lahar\n",
    "\n"
   ]
  },
  {
   "cell_type": "code",
   "execution_count": 9,
   "id": "27b465a8",
   "metadata": {},
   "outputs": [
    {
     "data": {
      "text/plain": [
       "<AxesSubplot:title={'center':'See the King Kong Effect!'}, xlabel='Volume (km$^3$)', ylabel='area (m$^2$)'>"
      ]
     },
     "execution_count": 9,
     "metadata": {},
     "output_type": "execute_result"
    },
    {
     "data": {
      "image/png": "[encoded data removed]",
      "text/plain": [
       "<Figure size 432x288 with 1 Axes>"
      ]
     },
     "metadata": {
      "needs_background": "light"
     },
     "output_type": "display_data"
    }
   ],
   "source": [
    "lahar.plot(x=\"volume\", y = \"area\", style=\"ko\", legend = \"\", title = \"See the King Kong Effect!\", xlabel = \"Volume (km$^3$)\", ylabel=\"area (m$^2$)\")"
   ]
  },
  {
   "cell_type": "code",
   "execution_count": 10,
   "id": "cfcaf19c",
   "metadata": {
    "scrolled": true
   },
   "outputs": [
    {
     "data": {
      "text/plain": [
       "array([[<AxesSubplot:xlabel='volume', ylabel='volume'>,\n",
       "        <AxesSubplot:xlabel='area', ylabel='volume'>],\n",
       "       [<AxesSubplot:xlabel='volume', ylabel='area'>,\n",
       "        <AxesSubplot:xlabel='area', ylabel='area'>]], dtype=object)"
      ]
     },
     "execution_count": 10,
     "metadata": {},
     "output_type": "execute_result"
    },
    {
     "data": {
      "image/png": "[encoded data removed]",
      "text/plain": [
       "<Figure size 432x288 with 4 Axes>"
      ]
     },
     "metadata": {
      "needs_background": "light"
     },
     "output_type": "display_data"
    }
   ],
   "source": [
    "#plot the data - note the \"King Kong Effect\"\n",
    "pd.plotting.scatter_matrix(lahar)"
   ]
  },
  {
   "cell_type": "markdown",
   "id": "1a720ccf",
   "metadata": {},
   "source": [
    "### Transforming the data\n",
    "\n",
    "Sometimes the King Kong effect can be mitigated by data transformation. In the following, the lahar volume and area data are transformed using a logarithm (base 10). Note the change in the data distribution."
   ]
  },
  {
   "cell_type": "code",
   "execution_count": 11,
   "id": "cf9b986e",
   "metadata": {},
   "outputs": [
    {
     "data": {
      "image/png": "[encoded data removed]",
      "text/plain": [
       "<Figure size 432x288 with 1 Axes>"
      ]
     },
     "metadata": {
      "needs_background": "light"
     },
     "output_type": "display_data"
    }
   ],
   "source": [
    "import numpy as np\n",
    "import matplotlib.pyplot as plt\n",
    "loglaharvolume = pd.Series(np.log10(lahar['volume']))\n",
    "loglahararea = pd.Series(np.log10(lahar['area']))\n",
    "\n",
    "plt.plot(loglaharvolume, loglahararea, \"o\")\n",
    "plt.xlabel(\"log(volume (m3))\")\n",
    "plt.ylabel(\"log(area (m2))\")\n",
    "plt.show()"
   ]
  },
  {
   "cell_type": "code",
   "execution_count": 12,
   "id": "f30db798",
   "metadata": {},
   "outputs": [
    {
     "data": {
      "text/html": [
       "<div>\n",
       "<style scoped>\n",
       "    .dataframe tbody tr th:only-of-type {\n",
       "        vertical-align: middle;\n",
       "    }\n",
       "\n",
       "    .dataframe tbody tr th {\n",
       "        vertical-align: top;\n",
       "    }\n",
       "\n",
       "    .dataframe thead th {\n",
       "        text-align: right;\n",
       "    }\n",
       "</style>\n",
       "<table border=\"1\" class=\"dataframe\">\n",
       "  <thead>\n",
       "    <tr style=\"text-align: right;\">\n",
       "      <th></th>\n",
       "      <th>log_volume</th>\n",
       "      <th>log_area</th>\n",
       "    </tr>\n",
       "  </thead>\n",
       "  <tbody>\n",
       "    <tr>\n",
       "      <th>log_volume</th>\n",
       "      <td>1.000000</td>\n",
       "      <td>0.984985</td>\n",
       "    </tr>\n",
       "    <tr>\n",
       "      <th>log_area</th>\n",
       "      <td>0.984985</td>\n",
       "      <td>1.000000</td>\n",
       "    </tr>\n",
       "  </tbody>\n",
       "</table>\n",
       "</div>"
      ],
      "text/plain": [
       "            log_volume  log_area\n",
       "log_volume    1.000000  0.984985\n",
       "log_area      0.984985  1.000000"
      ]
     },
     "execution_count": 12,
     "metadata": {},
     "output_type": "execute_result"
    }
   ],
   "source": [
    "\n",
    "laharz = pd.DataFrame({'log_volume': loglaharvolume, 'log_area': loglahararea})\n",
    "\n",
    "#calculate the pearson correlation coefficient\n",
    "correlation_matrix = laharz.corr()\n",
    "\n",
    "#print the correlation matrix\n",
    "correlation_matrix\n",
    "\n"
   ]
  },
  {
   "cell_type": "markdown",
   "id": "efcf6509",
   "metadata": {},
   "source": [
    "## More Applications\n",
    "\n",
    "Consider data collected on volume and duration of Mauna Loa (HI) eruptions from 1843 to 1984. These data were compiled by Jack Lockwood and colleagues at the USGS. What is the correlation between eruption duration (in days) and estimated lava volume (m$^3$)? What are the pitfalls in making this correlation and how can they be addressed?"
   ]
  },
  {
   "cell_type": "code",
   "execution_count": 13,
   "id": "6027081e",
   "metadata": {},
   "outputs": [],
   "source": [
    "# lava volume (m3)\n",
    "volume = pd.Series([2.20e8, 3.0e7, 3.76e8, 1.16e8, 1.76e8, 1.10e8, 8.7e7, 1.00e8, 1.21e8, 1.83e8, 3.1e7, 5.5e7, 1.21e8, 7.0e7, 3e6, 8.1e7,2.5e7,1.2e7,1.28e8,1.30e8,1.0e7,1e6,8e6,6.30e8,2.0e7,1.23e8,5.0e7,3.83e8,2.80e8,1.82e8,3.5e7,2.5e7,2.02e8])\n",
    "\n",
    "#eruption duration (days)\n",
    "duration = pd.Series([22, 1, 23, 145, 13, 134, 40, 17, 14, 38, 12, 48, 15, 61, 1, 16, 3, 7, 280, 6, 1, 1, 1200, 20, 5, 125, 1865, 300, 450, 20, 4, 15, 90])\n",
    "\n",
    "#year of the eruption\n",
    "year = pd.Series([1984, 1975, 1950, 1949, 1942, 1940, 1935, 1933, 1926, 1919, 1916, 1914, 1907, 1903, 1903,1899, 1896, 1892, 1887, 1880, 1880, 1879, 1887, 1872, 1871, 1868, 1865, 1859, 1855,1852, 1851, 1849, 1843])\n",
    "\n",
    "#create the dataframe\n",
    "mauna_loa = pd.DataFrame({'volume': volume, 'duration': duration})\n"
   ]
  },
  {
   "cell_type": "markdown",
   "id": "6012521c",
   "metadata": {},
   "source": [
    "Concentrated pyroclastic density currents are a major hazard and scientists are concerned with the relationship between run-out of flows and flow volume. Flow volume can be represented as dense rock equivalent or as bulk volume. Here data on concrentrated PDCs compiled by Olivier Roche and colleagues (Geology, 2022, 50 (10): 1172–1176) are provided. What is the correlation between flow volume (km$^3$) and flow run-out (km)? What are the pitfalls in making this correlation and how can they be addressed? Additional data can be found in the excellent supplementary material provided by Roche et al. (2022)."
   ]
  },
  {
   "cell_type": "code",
   "execution_count": 14,
   "id": "b51e9779",
   "metadata": {},
   "outputs": [],
   "source": [
    "# The estimated run-out of pdc (km)\n",
    "runout = pd.Series([21, 30, 6, 35, 33, 5.8, 19, 4.9, 28, 14, 33, 7.8, 15, 117, 14.5, 8.6, 6.5, 3.5, 3.2, 25, 10.2, 23, 82, 6, 9, 9])\n",
    "\n",
    "# The bulk volume of the run-out portion of the pdc (km3) (not DRE)\n",
    "bulk_volume = pd.Series([171, 385, 0.015, 15, 25, 0.08, 11, 0.01, 48, 3, 14, 0.14, 24, 1231, 5-6, 0.01, 0.05, 0.00037, 0.0004, 35, 0.077, 34, 2885, 0.18, 0.39, 0.2])\n",
    "\n",
    "#create the dataframe\n",
    "conc_pdc = pd.DataFrame({'runout': runout, 'volume': bulk_volume})\n"
   ]
  },
  {
   "cell_type": "code",
   "execution_count": null,
   "id": "7c2bbae3",
   "metadata": {},
   "outputs": [],
   "source": []
  }
 ],
 "metadata": {
  "kernelspec": {
   "display_name": "Python 3",
   "language": "python",
   "name": "python3"
  },
  "language_info": {
   "codemirror_mode": {
    "name": "ipython",
    "version": 3
   },
   "file_extension": ".py",
   "mimetype": "text/x-python",
   "name": "python",
   "nbconvert_exporter": "python",
   "pygments_lexer": "ipython3",
   "version": "3.8.8"
  }
 },
 "nbformat": 4,
 "nbformat_minor": 5
}
