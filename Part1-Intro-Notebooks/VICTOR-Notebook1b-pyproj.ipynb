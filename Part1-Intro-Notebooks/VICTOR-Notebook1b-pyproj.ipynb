{
 "cells": [
  {
   "cell_type": "markdown",
   "id": "32c6b9b9",
   "metadata": {},
   "source": [
    "# Using VICTOR to solve volcano science problems \n",
    "\n",
    "This notebook is provided to:\n",
    "\n",
    "1. Introduce pyproj - a utility to handle map datums and coordinate transformations (e.g., from latitude/longitude to UTM)\n",
    "\n",
    "2. Help participants learn to call functions in python, in this case using a pyproj function as an example\n",
    "\n",
    "3. Help participants to learn about lists - one way to treat sets of data in python\n"
   ]
  },
  {
   "cell_type": "markdown",
   "id": "8a565ca9",
   "metadata": {},
   "source": [
    "\n",
    "## Notebook v1b: Using pyproj to re-project map data\n",
    "#### version 0, Nov 11, 2022\n",
    "\n",
    "Volcano hazard modeling often involves map data. We want to know where the volcano is, where the town is, and what the path is of a potential debris flow from the volcano to the town. Unfortunately, we are faced with a bewildering array of map coordinate systems. These coordinate systems may be latitude / longitude, UTM, or more local coordinate systems like the New Zealand grid. How do we develop a common coordinate system for our hazard projects?\n",
    "\n",
    "An oblate spheroid of revolution that gives the shape of the Earth is described by\n",
    "an equation with parameters like eccentricity (flattening), the Earth’s radius and location of the exact center of the Earth. Different map datums refer to different parameters used in this equation. WGS84 is a datum now in wide use. Nevertheless, a large number of maps in print and derivative electronic files from older studies were constructed using the Clarke 1866 and NAD27 datums in North America, or some similar, local datum in other parts of the world. These datums exist because the exact equation parameters were poorly known in the past, so scientists used the best parameters that seemed to fit the geodetic data in their region. \n",
    "\n",
    "As different datums are in use, it is crucial to understand that a given location at the surface of the Earth will have different coordinates depending on the datum used. That is, a given point will have different latitude and longitude, or different UTM coordinate, depending on the map datum. Transformation from one datum to another is a complex calculation, involving many precisely determined constants. In volcanic hazard assessment, we are often faced with the problem that we have data in one projection and coordinate system and we need to input the data into the model using a different datum or different coordinate system. For example, we might know the latitutde and longitude of the volcanic crater using the WGS84 map datum and we wish to input those coordinates into a numerical model for tephra dispersion using a WGS84 datum and UTM coordinates.\n",
    "\n",
    "This notebook provides an example of map coordinate transformation using Proj, the widely used code developed by Staff at the USGS. More information about Proj is available at https://proj.org/. This notebook uses pyproj, a version with a python wrapper to make it easier to call from your notebook. Proj is designed to run on the command line in UNIX systems like Linux, but has been adapted to python as the pyproj library. Proj is widely embedded in GIS software, like QGIS.\n",
    "\n",
    "The following script transforms latitude and longitude into UTM coordinates (WGS84 datum), and back again, using a pyproj function:"
   ]
  },
  {
   "cell_type": "code",
   "execution_count": 7,
   "id": "6e6fac29",
   "metadata": {},
   "outputs": [
    {
     "name": "stdout",
     "output_type": "stream",
     "text": [
      "121.696 W, 45.3736 N\n",
      "602104.9506042155 E, 5025280.992181056 N\n"
     ]
    }
   ],
   "source": [
    "# To do a coordinate transformation, you will need to import pyproj\n",
    "from pyproj import Proj\n",
    "\n",
    "# define a function called myProj that calls Proj to do the transformation, \n",
    "  # specify the arguments for your particular case\n",
    "  # +proj=utm indicates the output coordinates will be on the utm cartesian grid\n",
    "  # +zone indicates which zone the UTM coordinates will be in. \n",
    "  # the zone can be manipulated - for example if your coordinate is near a UTM zone boundary\n",
    "  # +ellps=WGS84, +datum=WGS84 - use this datum\n",
    "  # +units=m the units of the cartesian (UTM) grid is meters - why use anything else?\n",
    "myProj = Proj(\"+proj=utm +zone=10 +ellps=WGS84 +datum=WGS84 +units=m\")\n",
    "\n",
    "#do the transform from lat, long to UTM\n",
    "# input the lat/long of Mt Hood volcano\n",
    "# note the longitude is negative because Mt Hood is in the western hempisphere\n",
    "# the latitude is positive because Mt Hood is in the northern hempisphere\n",
    "utm_east, utm_north = myProj(-121.6960, 45.3736)\n",
    "\n",
    "#do the transform from UTM to lat, long\n",
    "#note the use of inverse=True argument\n",
    "lon, lat = myProj(utm_east, utm_north, inverse=True)\n",
    "\n",
    "# by convention, the value of longitude is negative in the western hemisphere\n",
    "# by convention, the value of latitude is negative in the southern hemisphere\n",
    "# correct to print the output of pyproj function call\n",
    "print (-lon,\"W,\", lat, \"N\")\n",
    "print (utm_east, \"E,\", utm_north,\"N\")"
   ]
  },
  {
   "cell_type": "markdown",
   "id": "0b8e4ad0",
   "metadata": {},
   "source": [
    "## Proj Arguments\n",
    "\n",
    "Notes on the arguments to Proj:\n",
    "\n",
    "1. +proj=utm, specifies that lat long will be transformed into UTM coordinates\n",
    "\n",
    "2. +zone=10, specifies the UTM zone (in this case zone 10). If a letter is added it sepcifies the distance north in the zone\n",
    "\n",
    "3. +ellps=WGS84 specifies the model of the change in earth's radius with latitude. Usually GPS units are set to WGS84 but many maps use other models and GPS units can be set to other ellipse models\n",
    "\n",
    "4. +datum=WGS84, specifies the parameters used in the model, like position of the center of the earth in the coordinate system. Usually this is WGS84 but some maps use other datums\n",
    "\n",
    "5. +units=m, specifies the units of the transformation. For UTM this is normally meters (m)\n",
    "\n",
    "Check out proj.org and lots of other online resources for better description of datums and related proj parameters. This is a powerful mapping tool!"
   ]
  },
  {
   "cell_type": "markdown",
   "id": "26962be0",
   "metadata": {},
   "source": [
    "## More Applications\n",
    "Choose a different volcano or volcanic feature find its UTM and lat/long coordinates, as in the above example. Be sure to change the arguments list to fit your problem."
   ]
  },
  {
   "cell_type": "code",
   "execution_count": 8,
   "id": "f4ee7018",
   "metadata": {},
   "outputs": [],
   "source": [
    "# write the code here\n",
    "#change these arguments to fit your problem\n",
    "myProj = Proj(\"+proj=utm +zone=10 +ellps=WGS84 +datum=WGS84 +units=m\")\n"
   ]
  },
  {
   "cell_type": "markdown",
   "id": "041e6cb0",
   "metadata": {},
   "source": [
    "Transform a list of latitude and longitude coordinates. A \"list\" is the python term for a set of data. it is easiest to create a list of longitudes and a list of latitudes, then call the transformation and print the lists of UTM coordinates."
   ]
  },
  {
   "cell_type": "code",
   "execution_count": 9,
   "id": "c3667c29",
   "metadata": {},
   "outputs": [
    {
     "name": "stdout",
     "output_type": "stream",
     "text": [
      "[602104.9506042155, 602297.5421193369, 596476.5857781577] [5025280.992181056, 5054232.499617967, 5108860.63947011]\n"
     ]
    }
   ],
   "source": [
    "# a list of latitudes\n",
    "my_lat = [45.3736, 45.6341, 46.1265]\n",
    "\n",
    "# a list of longitudes\n",
    "my_long = [-121.6960, -121.6875, -121.7512]\n",
    "\n",
    "#notice the two lists must have the same number of elements (three in this case)\n",
    "#notice elements are seperated by commas\n",
    "\n",
    "# now insert the variable (list name) in the myProj function\n",
    "utm_east, utm_north = myProj(my_long, my_lat)\n",
    "print (utm_east, utm_north)\n",
    "\n",
    "# notice that two lists of UTM coordinates are printed. "
   ]
  },
  {
   "cell_type": "markdown",
   "id": "d595c6bb",
   "metadata": {},
   "source": [
    "Make your own list of lat/long coordinates for some volcanic features and create a list of UTM coordinate output. Be sure to use the appropriate UTM zone."
   ]
  },
  {
   "cell_type": "code",
   "execution_count": null,
   "id": "3f6db09c",
   "metadata": {},
   "outputs": [],
   "source": []
  }
 ],
 "metadata": {
  "kernelspec": {
   "display_name": "Python 3",
   "language": "python",
   "name": "python3"
  },
  "language_info": {
   "codemirror_mode": {
    "name": "ipython",
    "version": 3
   },
   "file_extension": ".py",
   "mimetype": "text/x-python",
   "name": "python",
   "nbconvert_exporter": "python",
   "pygments_lexer": "ipython3",
   "version": "3.8.8"
  }
 },
 "nbformat": 4,
 "nbformat_minor": 5
}
