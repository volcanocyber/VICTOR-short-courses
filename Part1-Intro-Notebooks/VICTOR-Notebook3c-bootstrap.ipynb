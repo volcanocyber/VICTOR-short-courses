{
 "cells": [
  {
   "cell_type": "markdown",
   "id": "de4d03e2",
   "metadata": {},
   "source": [
    "# Using VICTOR to solve volcano science problems\n",
    "This notebook is intended to:\n",
    "\n",
    "1. Introduce methods in ordinary least squares regression\n",
    "\n",
    "2. Introduce the statsmodels API, a powerful way to explore data\n",
    "\n",
    "3. Introduce the bootstrap, a machine learning technique to quantify model parameters and their uncertainties"
   ]
  },
  {
   "cell_type": "markdown",
   "id": "29da1673",
   "metadata": {},
   "source": [
    "## Notebook V3c: Ordinary Least Square (OLS) regression and the bootstrap\n",
    "#### version 0, Nov 11, 2022\n",
    "\n",
    "### Background\n",
    "\n",
    "When we calcuate a correlation coefficient we are searching for a linear correlation between two random variables. Hisashi Kuno developed many of the first petrological tools to understand the origin of volcanic rocks and ultimately their relationship to subduction zones. One of his early plots, developed in the late 1950s and early 1960s, was to show the relationship between potassium (and other alkalis) in erupted lavas and depth to the Benioff zone. Now we are well aware that the depth to the Benioff zone maps earthquakes associated with subducted ocean lithosphere. Kuno was the first scientist to draw a link between geophysical observations of the Benioff zone and petrologic variations in rocks erupted at the surface. In this example, we consider the relationship between depth to the Benioff zone and K$_2$O from a quantitative perspective. We will develop a statistical model of the relationship and consider our confidence in the model parameters.\n",
    "\n",
    "### Ordinary least squares\n",
    "Four things are needed for this ordinary least squares problem:\n",
    "\n",
    "1. The observed data (e.g., $x_i, y_i$ where $i = 1...n$}, where $n$ is the number of K$_2$O ($y_i$) observations, each at horizontal position $x_i$ from the ocean trench.\n",
    "\n",
    "2. The linear model (linear in $p_j$) where $j=1...m$ and $m$ is the number of unknown model parameters\n",
    "$$y_{K_2O \\textrm{, model}}(x) = p_1f_1(x) + p_2f_2(x) +  ... + p_mf_m(x) = \\sum_{j=1}^{m} p_j f_j(x)$$\n",
    "\n",
    "3. The $m$ chosen basis functions (a set of linear equations), that describe how the model parameters are thought to relate mathematically to the observations: $f_j(x)$ for $j = 1 ... m$\n",
    "\n",
    "4. The least-squares misfit criterion (what is the error between the model and the observations that we wish to minimize?)\n",
    "$$E = \\sum_{i=1}^{n} e_i^2 = \\sum_{i=1}^{n} y_{K_2O \\textrm{, model}}(x_i) - K_2O_{obs,i}(x_i))^2$$\n",
    "\n",
    "Minimizing the misfit with respect to the unknown model parameters ($p_j$) means we must solve the $m$ linear equations that result from setting:\n",
    "$$\\frac{\\partial E}{\\partial p_j} = 0 \\text{   for all   } j = 1 ...m$$\n",
    "The K$_2$O observations are arranged in a column vector:\n",
    "$$\\mathbf b = \n",
    "\\begin{bmatrix}\n",
    "    y_{1}       & y_{2} & y_{3} & \\dots & y_{n} \n",
    "\\end{bmatrix}^T $$\n",
    "\n",
    "where $T$ indicates the transpose of the matrix</p>\n",
    "\n",
    "<p>The matrix of basis functions is:\n",
    "$$\\mathbf A = \n",
    "\\begin{bmatrix}\n",
    "    f_{11} & f_{12} & f_{13} & \\dots  & f_{1m} \\\\\n",
    "    f_{21} & f_{22} & f_{23} & \\dots  & f_{2m} \\\\\n",
    "    \\vdots & \\vdots & \\vdots & \\ddots & \\vdots \\\\\n",
    "    f_{n1} & f_{n2} & f_{n3} & \\dots  & f_{nm}\n",
    "\\end{bmatrix} $$\n",
    "The matrix of unknown model parameters is:\n",
    "$$\\mathbf x = \n",
    "\\begin{bmatrix}\n",
    "    p_1 \\\\\n",
    "    p_2\\\\\n",
    "    \\vdots \\\\\n",
    "    p_m\n",
    "\\end{bmatrix} $$\n",
    "So, the predicted solution is:\n",
    "$$\\mathbf y_{K_2O} = \\mathbf A \\mathbf x$$\n",
    "Knowing $\\mathbf A$ and $\\mathbf b$, we need to find the best $\\mathbf x$, minimizing the difference between $\\mathbf y_{K_2O}$ and $\\mathbf b$.</p>\n",
    "\n",
    "The least-square solution is:\n",
    "$$\\mathbf x = (\\mathbf A^T \\mathbf A)^{-1}  \\mathbf A^T  \\mathbf b $$\n",
    "\n",
    "That is a lot of code to write! Fortunately for us, others have written the OLS solution in the statsmodel package, implemented in the following."
   ]
  },
  {
   "cell_type": "code",
   "execution_count": 1,
   "id": "346aba1f",
   "metadata": {},
   "outputs": [],
   "source": [
    "import pandas as pd\n",
    "import matplotlib.pyplot as plt\n",
    "import numpy as np\n",
    "from scipy import stats\n",
    "from statsmodels.formula.api import ols"
   ]
  },
  {
   "cell_type": "code",
   "execution_count": 2,
   "id": "213f252a",
   "metadata": {},
   "outputs": [
    {
     "data": {
      "text/html": [
       "<div>\n",
       "<style scoped>\n",
       "    .dataframe tbody tr th:only-of-type {\n",
       "        vertical-align: middle;\n",
       "    }\n",
       "\n",
       "    .dataframe tbody tr th {\n",
       "        vertical-align: top;\n",
       "    }\n",
       "\n",
       "    .dataframe thead th {\n",
       "        text-align: right;\n",
       "    }\n",
       "</style>\n",
       "<table border=\"1\" class=\"dataframe\">\n",
       "  <thead>\n",
       "    <tr style=\"text-align: right;\">\n",
       "      <th></th>\n",
       "      <th>dbz</th>\n",
       "      <th>K2O</th>\n",
       "    </tr>\n",
       "  </thead>\n",
       "  <tbody>\n",
       "    <tr>\n",
       "      <th>0</th>\n",
       "      <td>81.92</td>\n",
       "      <td>1.077</td>\n",
       "    </tr>\n",
       "    <tr>\n",
       "      <th>1</th>\n",
       "      <td>90.45</td>\n",
       "      <td>0.704</td>\n",
       "    </tr>\n",
       "    <tr>\n",
       "      <th>2</th>\n",
       "      <td>91.31</td>\n",
       "      <td>1.003</td>\n",
       "    </tr>\n",
       "    <tr>\n",
       "      <th>3</th>\n",
       "      <td>92.16</td>\n",
       "      <td>1.291</td>\n",
       "    </tr>\n",
       "    <tr>\n",
       "      <th>4</th>\n",
       "      <td>94.72</td>\n",
       "      <td>0.800</td>\n",
       "    </tr>\n",
       "  </tbody>\n",
       "</table>\n",
       "</div>"
      ],
      "text/plain": [
       "     dbz    K2O\n",
       "0  81.92  1.077\n",
       "1  90.45  0.704\n",
       "2  91.31  1.003\n",
       "3  92.16  1.291\n",
       "4  94.72  0.800"
      ]
     },
     "execution_count": 2,
     "metadata": {},
     "output_type": "execute_result"
    }
   ],
   "source": [
    "# Here are the data. These lists are converted to a pandas dataframe\n",
    "#depth to the benioff zone (km) at the eruption location\n",
    "dbz = [81.92,90.45,91.31,92.16,94.72,101.55,101.55,107.52,110.93,115.2,116.05,121.17,122.03,122.03,131.41,131.41,135.68,136.53,136.53,140.8,142.51,148.48,151.89,151.89,151.89,162.99,183.47,188.59,212.48,212.48,243.2,244.91,262.83,271.36,280.75]\n",
    "#K2O concentration measured in the whole rock\n",
    "K2O = [1.077, 0.704,1.003,1.291,0.8,0.779,0.843,1.9,1.205,1.397,2.005,0.704,0.896,1.205,1.003,1.301,1.707,1.291,1.6,1.707,1.44,2.101,2.283,1.846,1.792,2.507,2.507,2.091,1.952,2.091,2.507,3.893,2.645,2.699,2.496]\n",
    "\n",
    "subduction_dict = {'dbz': dbz, 'K2O': K2O} # a shortcut to building the dataframe from lists using a dictionary\n",
    "subduct = pd.DataFrame(subduction_dict) # the dataframe is called \"subduct\"\n",
    "subduct.head() # print out the first bit of the dataframe"
   ]
  },
  {
   "cell_type": "code",
   "execution_count": 3,
   "id": "c0336b93",
   "metadata": {},
   "outputs": [
    {
     "data": {
      "text/plain": [
       "Intercept    0.086146\n",
       "dbz          0.010632\n",
       "dtype: float64"
      ]
     },
     "execution_count": 3,
     "metadata": {},
     "output_type": "execute_result"
    }
   ],
   "source": [
    "# fit a linear model using the ols routine\n",
    "# dependent variable ~ list of independent variables separated by the + symbol, in \n",
    "# this case there is only one independent variable, but there might be many in a linear\n",
    "# regression model\n",
    "res = ols('K2O ~ dbz', data=subduct).fit()\n",
    "\n",
    "# this model has two parameters, the estimated intercept and the estimated slope\n",
    "# these parameters are stored in a list called \"params\" for model parameters\n",
    "# these parameters are m and b in the linear equation y = mx + b\n",
    "res.params"
   ]
  },
  {
   "cell_type": "code",
   "execution_count": 4,
   "id": "7ae2218b",
   "metadata": {},
   "outputs": [
    {
     "data": {
      "text/html": [
       "<table class=\"simpletable\">\n",
       "<caption>OLS Regression Results</caption>\n",
       "<tr>\n",
       "  <th>Dep. Variable:</th>           <td>K2O</td>       <th>  R-squared:         </th> <td>   0.665</td>\n",
       "</tr>\n",
       "<tr>\n",
       "  <th>Model:</th>                   <td>OLS</td>       <th>  Adj. R-squared:    </th> <td>   0.655</td>\n",
       "</tr>\n",
       "<tr>\n",
       "  <th>Method:</th>             <td>Least Squares</td>  <th>  F-statistic:       </th> <td>   65.47</td>\n",
       "</tr>\n",
       "<tr>\n",
       "  <th>Date:</th>             <td>Fri, 11 Nov 2022</td> <th>  Prob (F-statistic):</th> <td>2.44e-09</td>\n",
       "</tr>\n",
       "<tr>\n",
       "  <th>Time:</th>                 <td>18:51:10</td>     <th>  Log-Likelihood:    </th> <td> -18.752</td>\n",
       "</tr>\n",
       "<tr>\n",
       "  <th>No. Observations:</th>      <td>    35</td>      <th>  AIC:               </th> <td>   41.50</td>\n",
       "</tr>\n",
       "<tr>\n",
       "  <th>Df Residuals:</th>          <td>    33</td>      <th>  BIC:               </th> <td>   44.61</td>\n",
       "</tr>\n",
       "<tr>\n",
       "  <th>Df Model:</th>              <td>     1</td>      <th>                     </th>     <td> </td>   \n",
       "</tr>\n",
       "<tr>\n",
       "  <th>Covariance Type:</th>      <td>nonrobust</td>    <th>                     </th>     <td> </td>   \n",
       "</tr>\n",
       "</table>\n",
       "<table class=\"simpletable\">\n",
       "<tr>\n",
       "      <td></td>         <th>coef</th>     <th>std err</th>      <th>t</th>      <th>P>|t|</th>  <th>[0.025</th>    <th>0.975]</th>  \n",
       "</tr>\n",
       "<tr>\n",
       "  <th>Intercept</th> <td>    0.0861</td> <td>    0.211</td> <td>    0.408</td> <td> 0.686</td> <td>   -0.344</td> <td>    0.516</td>\n",
       "</tr>\n",
       "<tr>\n",
       "  <th>dbz</th>       <td>    0.0106</td> <td>    0.001</td> <td>    8.092</td> <td> 0.000</td> <td>    0.008</td> <td>    0.013</td>\n",
       "</tr>\n",
       "</table>\n",
       "<table class=\"simpletable\">\n",
       "<tr>\n",
       "  <th>Omnibus:</th>       <td> 5.559</td> <th>  Durbin-Watson:     </th> <td>   1.773</td>\n",
       "</tr>\n",
       "<tr>\n",
       "  <th>Prob(Omnibus):</th> <td> 0.062</td> <th>  Jarque-Bera (JB):  </th> <td>   4.324</td>\n",
       "</tr>\n",
       "<tr>\n",
       "  <th>Skew:</th>          <td> 0.839</td> <th>  Prob(JB):          </th> <td>   0.115</td>\n",
       "</tr>\n",
       "<tr>\n",
       "  <th>Kurtosis:</th>      <td> 3.386</td> <th>  Cond. No.          </th> <td>    472.</td>\n",
       "</tr>\n",
       "</table><br/><br/>Notes:<br/>[1] Standard Errors assume that the covariance matrix of the errors is correctly specified."
      ],
      "text/plain": [
       "<class 'statsmodels.iolib.summary.Summary'>\n",
       "\"\"\"\n",
       "                            OLS Regression Results                            \n",
       "==============================================================================\n",
       "Dep. Variable:                    K2O   R-squared:                       0.665\n",
       "Model:                            OLS   Adj. R-squared:                  0.655\n",
       "Method:                 Least Squares   F-statistic:                     65.47\n",
       "Date:                Fri, 11 Nov 2022   Prob (F-statistic):           2.44e-09\n",
       "Time:                        18:51:10   Log-Likelihood:                -18.752\n",
       "No. Observations:                  35   AIC:                             41.50\n",
       "Df Residuals:                      33   BIC:                             44.61\n",
       "Df Model:                           1                                         \n",
       "Covariance Type:            nonrobust                                         \n",
       "==============================================================================\n",
       "                 coef    std err          t      P>|t|      [0.025      0.975]\n",
       "------------------------------------------------------------------------------\n",
       "Intercept      0.0861      0.211      0.408      0.686      -0.344       0.516\n",
       "dbz            0.0106      0.001      8.092      0.000       0.008       0.013\n",
       "==============================================================================\n",
       "Omnibus:                        5.559   Durbin-Watson:                   1.773\n",
       "Prob(Omnibus):                  0.062   Jarque-Bera (JB):                4.324\n",
       "Skew:                           0.839   Prob(JB):                        0.115\n",
       "Kurtosis:                       3.386   Cond. No.                         472.\n",
       "==============================================================================\n",
       "\n",
       "Notes:\n",
       "[1] Standard Errors assume that the covariance matrix of the errors is correctly specified.\n",
       "\"\"\""
      ]
     },
     "execution_count": 4,
     "metadata": {},
     "output_type": "execute_result"
    }
   ],
   "source": [
    "#print out lots of statistics about the linear regression model\n",
    "res.summary()"
   ]
  },
  {
   "cell_type": "markdown",
   "id": "21dd211b",
   "metadata": {},
   "source": [
    "### Interpretation of output\n",
    "Perhaps the most important output is the R-squared value. In words, 66.5 percent of variation in the value of K$_2$O is explained by the independent variable depth to the Benioff zone. note tht an important difference between the correlation coefficient, R, and R-squared, is that R-squared is always positive.\n",
    "\n",
    "Prob (F-statistic) indicates the probability that the linear regression is statistically significant. In this case there is only a probability of 2.44e-09 that the linear regression is not significant. Kuno was right, the linear model works to explain variation in K$_2$O across the volcanic arc!\n",
    "\n",
    "The line: \"coef\tstd err\tt\tP>|t|\t[0.025\t0.975]\" indicates the value of the coefficient (the intercept and slope), its standard error, and the 95% confidence interval on these estimates. In this case, we cannot say with 95% confidence that the intercept is not zero."
   ]
  },
  {
   "cell_type": "markdown",
   "id": "4059bc9d",
   "metadata": {},
   "source": [
    "### The bootstrap: A better way to estimate uncertainty in model parameters\n",
    "\n",
    "There are some major assumptions in parameter uncertainty quantification using the standard error and the 95 percent confidence interval, which is calculated assuming random error. Bradley Efron noticed these problems, and in the 1960s and 1970s developed a method for improved uncertainty quantification using compute horespower. He called his method \"the bootstrap\". In many ways, the bootstrap method is one of the first machine learning techniques that gained widespread use.\n",
    "\n",
    "In bootstrap, a subset of the data is chosen to represent the entire data set. Say a data set consists of 10 observations. The regression is made and a linear model fit with only 9 of these observations, randomly selected. The intercept and slope are estimated using OLS. Then, a new set of 9 observations are chosen and the model parameters re-calculated. This procedure is repeated a bunch of times, like 1000 times. One can then plot a histogram of the parameter uncertainty and estimate the 95% confidence inteval directly from the range of observations.\n",
    "\n",
    "In bootstrap with replacement, probably the most common method, a random sample is selected from the ten observations. Then another random sample is drawn from the 10, which might be the same sample already drawn! Samples have some chance of appeaing twice, three times, or more in the subset of observations.\n",
    "\n",
    "Here is a bootstrap estimate of the regression model parameters for the subduction data:"
   ]
  },
  {
   "cell_type": "code",
   "execution_count": 5,
   "id": "2c67c635",
   "metadata": {},
   "outputs": [],
   "source": [
    "param1 = []\n",
    "param2 = []\n",
    "\n",
    "ntrials = 2000\n",
    "for trial in range(ntrials):\n",
    "    boot_sample = subduct.sample(frac=1, replace=True)\n",
    "\n",
    "    res = ols('K2O ~ dbz', data=boot_sample).fit()\n",
    "\n",
    "    param1.append(res.params['Intercept'])\n",
    "    param2.append(res.params['dbz'])"
   ]
  },
  {
   "cell_type": "code",
   "execution_count": 6,
   "id": "78a2e805",
   "metadata": {},
   "outputs": [
    {
     "data": {
      "image/png": "[encoded data removed]",
      "text/plain": [
       "<Figure size 640x480 with 1 Axes>"
      ]
     },
     "metadata": {},
     "output_type": "display_data"
    }
   ],
   "source": [
    "plt.hist(param1, edgecolor='white')\n",
    "plt.xlabel(\"intercept value - K2O concentration (%)\")\n",
    "plt.vlines(np.mean(param1), 0, 600, \"k\")\n",
    "plt.show()"
   ]
  },
  {
   "cell_type": "code",
   "execution_count": 7,
   "id": "9afc790c",
   "metadata": {},
   "outputs": [
    {
     "name": "stdout",
     "output_type": "stream",
     "text": [
      "confidence interval in intercept:  -0.4698040817131583 0.4666134571399309\n",
      "mean:  0.05497366200503604\n"
     ]
    }
   ],
   "source": [
    "# the confidence interval is determined directly from this \"empirical\" distribution\n",
    "print(\"confidence interval in intercept: \", np.percentile(param1, 2.5), np.percentile(param1, 97.5))\n",
    "print (\"mean: \", np.mean(param1))"
   ]
  },
  {
   "cell_type": "markdown",
   "id": "4982356a",
   "metadata": {},
   "source": [
    "### A problem with the intercept mearuements of K$_2$O\n",
    "But wait! There is a major problem with the estimate of the intercept, the K$_2$O concentration in whole rock analyses expected at the trench, using any of the above methods. Of course, K$_2$O concentration in a rock cannot possibly be negative. Yet, the methods tried so far indicate there is about a 50 percent chance that the value of the intercept is a negative number. This makes perfect sense from mathematical perspective, but makes no sense from a geologic perspective. One should not publish an uncertinaty estimate on a major element concentration that includes negative numbers, since we are all certain concentrations cannot be less than zero.\n",
    "\n",
    "The bootstrap solves this problem in uncertainty quantification. Check out the conditional statement used to assure that all trials produce intercept values greater than 0."
   ]
  },
  {
   "cell_type": "code",
   "execution_count": 8,
   "id": "59c33e3b",
   "metadata": {},
   "outputs": [],
   "source": [
    "param1 = []\n",
    "param2 = []\n",
    "\n",
    "ct = 0\n",
    "ntrials = 2000\n",
    "for trial in range(ntrials*10):\n",
    "    boot_sample = subduct.sample(frac=1, replace=True)\n",
    "\n",
    "    res = ols('K2O ~ dbz', data=boot_sample).fit()\n",
    "\n",
    "    if (res.params['Intercept'] > 0):\n",
    "        param1.append(res.params['Intercept'])\n",
    "        param2.append(res.params['dbz'])\n",
    "        ct = ct + 1\n",
    "    if (ct == ntrials): break"
   ]
  },
  {
   "cell_type": "code",
   "execution_count": 9,
   "id": "517a1faa",
   "metadata": {},
   "outputs": [
    {
     "data": {
      "image/png": "[encoded data removed]",
      "text/plain": [
       "<Figure size 640x480 with 1 Axes>"
      ]
     },
     "metadata": {},
     "output_type": "display_data"
    }
   ],
   "source": [
    "plt.hist(param1, edgecolor='white')\n",
    "plt.xlabel(\"intercept value - K2O concentration (%)\")\n",
    "plt.vlines(np.mean(param1), 0, 450, \"k\")\n",
    "plt.show()"
   ]
  },
  {
   "cell_type": "code",
   "execution_count": 10,
   "id": "f17d6646",
   "metadata": {},
   "outputs": [
    {
     "name": "stdout",
     "output_type": "stream",
     "text": [
      "confidence interval in intercept:  0.009294608742204303 0.49339785085098486\n",
      "mean:  0.20161324940618436\n"
     ]
    }
   ],
   "source": [
    "print(\"confidence interval in intercept: \", np.percentile(param1, 2.5), np.percentile(param1, 97.5))\n",
    "print (\"mean: \", np.mean(param1))"
   ]
  },
  {
   "cell_type": "markdown",
   "id": "5c889504",
   "metadata": {},
   "source": [
    "### Now plot the best model"
   ]
  },
  {
   "cell_type": "code",
   "execution_count": 11,
   "id": "8b0e0f58",
   "metadata": {},
   "outputs": [
    {
     "data": {
      "image/png": "[encoded data removed]",
      "text/plain": [
       "<Figure size 640x480 with 1 Axes>"
      ]
     },
     "metadata": {},
     "output_type": "display_data"
    }
   ],
   "source": [
    "x = np.arange(75,275,10)\n",
    "y = np.mean(param2)*x + np.mean(param1)\n",
    "\n",
    "plt.plot(x,y)\n",
    "plt.plot(dbz, K2O, \"o\")\n",
    "plt.xlabel(\"depth of benioff zone (km)\")\n",
    "plt.ylabel(\"K2O (%)\")\n",
    "\n",
    "plt.show()"
   ]
  },
  {
   "cell_type": "markdown",
   "id": "5d903683",
   "metadata": {},
   "source": [
    "### More Applications\n",
    "\n",
    "Bootstrap is used heavily in volcanic hazard assessment. Consider the following applications.\n",
    "\n",
    "1. Isotopic age determinations are often used in volcanic hazard assessment to forecast recurrence rate. Suppose an excellent lab reports the age of a lava dome sample to be $4.5 \\pm 5.7$ ka, with 95 percent confidence. The age determination accurately reflects the analytical uncertainty in the age of the rock, but you are sure the sample is not from an eruption that occurred in historic times (say within the last 500 yr). How can you use this age in a hazard assessment to estimate recurrence rate? Hint: the lab error is likely to be a normal distribution.\n",
    "\n",
    "2. Similarly, earthquake hypocenter location is uncertain and sometimes results in a negative depth for the hypocenter. The negative depth reflects the analytical uncertainty associated with earthquake location, but is not physically realistic. How can bootstrap be used to relocate these earthquakes with uncertainty for use in eruption forecasting?\n",
    "\n",
    "3. The following eruption data were collected for Cerro Negro volcano (Nicaragua). If one is to use these data to forecast future eruption hazards it is important to determine if there is a correlation between eruption column height (dependent variable) and volume  (independent variable), realizing that eruption column height cannot be negative. Use a linear models to estimate relationship between column height and volume, using bootstrap to indicate the uncertainty in model parameters."
   ]
  },
  {
   "cell_type": "code",
   "execution_count": 12,
   "id": "5514d1e4",
   "metadata": {},
   "outputs": [
    {
     "data": {
      "text/html": [
       "<div>\n",
       "<style scoped>\n",
       "    .dataframe tbody tr th:only-of-type {\n",
       "        vertical-align: middle;\n",
       "    }\n",
       "\n",
       "    .dataframe tbody tr th {\n",
       "        vertical-align: top;\n",
       "    }\n",
       "\n",
       "    .dataframe thead th {\n",
       "        text-align: right;\n",
       "    }\n",
       "</style>\n",
       "<table border=\"1\" class=\"dataframe\">\n",
       "  <thead>\n",
       "    <tr style=\"text-align: right;\">\n",
       "      <th></th>\n",
       "      <th>volume</th>\n",
       "      <th>col_ht</th>\n",
       "      <th>duration</th>\n",
       "    </tr>\n",
       "  </thead>\n",
       "  <tbody>\n",
       "    <tr>\n",
       "      <th>1867</th>\n",
       "      <td>7400000.0</td>\n",
       "      <td>3.0</td>\n",
       "      <td>16.0</td>\n",
       "    </tr>\n",
       "    <tr>\n",
       "      <th>1923</th>\n",
       "      <td>17000000.0</td>\n",
       "      <td>2.0</td>\n",
       "      <td>49.0</td>\n",
       "    </tr>\n",
       "    <tr>\n",
       "      <th>1947</th>\n",
       "      <td>23000000.0</td>\n",
       "      <td>6.0</td>\n",
       "      <td>13.0</td>\n",
       "    </tr>\n",
       "    <tr>\n",
       "      <th>1950</th>\n",
       "      <td>2800000.0</td>\n",
       "      <td>1.5</td>\n",
       "      <td>26.0</td>\n",
       "    </tr>\n",
       "    <tr>\n",
       "      <th>1957</th>\n",
       "      <td>2800000.0</td>\n",
       "      <td>2.0</td>\n",
       "      <td>20.0</td>\n",
       "    </tr>\n",
       "    <tr>\n",
       "      <th>1960</th>\n",
       "      <td>1100000.0</td>\n",
       "      <td>1.0</td>\n",
       "      <td>89.0</td>\n",
       "    </tr>\n",
       "    <tr>\n",
       "      <th>1968</th>\n",
       "      <td>9700000.0</td>\n",
       "      <td>2.0</td>\n",
       "      <td>48.0</td>\n",
       "    </tr>\n",
       "    <tr>\n",
       "      <th>1971</th>\n",
       "      <td>30000000.0</td>\n",
       "      <td>6.0</td>\n",
       "      <td>10.6</td>\n",
       "    </tr>\n",
       "    <tr>\n",
       "      <th>1992</th>\n",
       "      <td>23000000.0</td>\n",
       "      <td>8.0</td>\n",
       "      <td>3.6</td>\n",
       "    </tr>\n",
       "    <tr>\n",
       "      <th>1995</th>\n",
       "      <td>2800000.0</td>\n",
       "      <td>2.5</td>\n",
       "      <td>1.3</td>\n",
       "    </tr>\n",
       "    <tr>\n",
       "      <th>1999</th>\n",
       "      <td>840000.0</td>\n",
       "      <td>1.0</td>\n",
       "      <td>1.0</td>\n",
       "    </tr>\n",
       "  </tbody>\n",
       "</table>\n",
       "</div>"
      ],
      "text/plain": [
       "          volume  col_ht  duration\n",
       "1867   7400000.0     3.0      16.0\n",
       "1923  17000000.0     2.0      49.0\n",
       "1947  23000000.0     6.0      13.0\n",
       "1950   2800000.0     1.5      26.0\n",
       "1957   2800000.0     2.0      20.0\n",
       "1960   1100000.0     1.0      89.0\n",
       "1968   9700000.0     2.0      48.0\n",
       "1971  30000000.0     6.0      10.6\n",
       "1992  23000000.0     8.0       3.6\n",
       "1995   2800000.0     2.5       1.3\n",
       "1999    840000.0     1.0       1.0"
      ]
     },
     "execution_count": 12,
     "metadata": {},
     "output_type": "execute_result"
    }
   ],
   "source": [
    "# year of the Cerro Negro eruption\n",
    "year = [1867, 1923, 1947, 1950, 1957, 1960, 1968, 1971, 1992, 1995, 1999]\n",
    "\n",
    "#volume of the eruption (note scientific noteation for the volume numbers) (m3)\n",
    "volume_tephra = [7.4e6, 1.7e7, 2.3e7, 2.8e6, 2.8e6, 1.1e6, 9.7e6, 3e7, 2.3e7, 2.8e6, 8.4e5]\n",
    "\n",
    "# maximum eruption column height (km)\n",
    "column_height = [3,2,6,1.5,2,1,2,6,8,2.5,1]\n",
    "\n",
    "#eruption duration (days)\n",
    "duration = [16, 49, 13, 26, 20, 89, 48, 10.6, 3.6, 1.3, 1]\n",
    "\n",
    "#build the dataframe from these lists of data\n",
    "eruption_data = pd.DataFrame(list(zip(volume_tephra, column_height, duration)),\n",
    "               columns =['volume', 'col_ht', 'duration'],\n",
    "               index = year)\n",
    "\n",
    "#print the dataframe\n",
    "eruption_data"
   ]
  },
  {
   "cell_type": "code",
   "execution_count": null,
   "id": "4da95c3f",
   "metadata": {},
   "outputs": [],
   "source": []
  }
 ],
 "metadata": {
  "kernelspec": {
   "display_name": "Python 3 (ipykernel)",
   "language": "python",
   "name": "python3"
  },
  "language_info": {
   "codemirror_mode": {
    "name": "ipython",
    "version": 3
   },
   "file_extension": ".py",
   "mimetype": "text/x-python",
   "name": "python",
   "nbconvert_exporter": "python",
   "pygments_lexer": "ipython3",
   "version": "3.9.13"
  }
 },
 "nbformat": 4,
 "nbformat_minor": 5
}
