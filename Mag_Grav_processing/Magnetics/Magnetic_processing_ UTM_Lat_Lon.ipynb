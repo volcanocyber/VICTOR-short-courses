{
 "cells": [
  {
   "cell_type": "markdown",
   "metadata": {},
   "source": [
    "<font size=\"18\"><font color = \"grey\"> Magnetic Data Processing and Visualizations\n",
    "    </font>"
   ]
  },
  {
   "cell_type": "markdown",
   "metadata": {},
   "source": [
    "# Notebook Purpose:"
   ]
  },
  {
   "cell_type": "markdown",
   "metadata": {},
   "source": [
    "To process and visualize raw magnetic survey data collected using a Geometrics G-864 Cs-vapor magnetometer. Code alteration of the load data cell (processing section) will be required if a different magnetometer is used. The notebook includes codes to reduce the terrestrial magnetic data collected over a target and visualize the output of each processing step. The reductions performed in this notebook show one way raw magnetic data can be processed to identify anomalies associated with buried magnetized bodies.\n",
    "<br>\n",
    "<br>\n",
    "<font color = \"blue\">\n",
    "<b><i>Reductions performed are:</i></b>\n",
    "    </font>\n",
    "\n",
    "1) <b>Detrending of Earth's Magnetic Field </b>\n",
    "    \n",
    "2) <b>Removal Of Data Spikes </b>\n",
    "    \n",
    "3) <b>Normalization of Data </b>\n",
    "\n",
    "4) <b>Rolling Average Filtering and Interpolation </b>\n",
    "    \n",
    "5) <b>Coordinate Transformation </b>\n",
    "\n",
    "<br>"
   ]
  },
  {
   "cell_type": "markdown",
   "metadata": {},
   "source": [
    "<font size=\"5\"><b><u>Input Data Format</u><b></font>\n",
    "\n",
    "<b><font size=\"4\">File type required:</b>\n",
    "    <br>\n",
    "    <br>\n",
    "    \n",
    "<font color = \"red\">\n",
    "<b><font size=\"4\">csv</b> (comma-seperated values, no UTF-8 encoding)\n",
    "</font>\n",
    "<br>  \n",
    "    <br>\n",
    "    \n",
    "<b><font size=\"4\">Required Column Names:</b>\n",
    "</font>\n",
    "                  \n",
    "<b>Counter:</b> numeric (int64)\n",
    "\n",
    "<b>Date:</b> numeric (object)\n",
    "\n",
    "<b>Time:</b> MM/DD/YYYY   (object)\n",
    "\n",
    "<b>LatitudeSensor1:</b> HH:MM (float64)\n",
    "\n",
    "<b>LongitudeSensor1:</b> Minutes (float64)\n",
    "\n",
    "<b>MagSensor1:</b> decimal degrees (float64)\n",
    "\n",
    "<b>Signal1:</b> decimal (int64)\n"
   ]
  },
  {
   "cell_type": "markdown",
   "metadata": {},
   "source": [
    "### Import Python Libraries/Modules"
   ]
  },
  {
   "cell_type": "code",
   "execution_count": 16,
   "metadata": {},
   "outputs": [],
   "source": [
    "import pandas as pd\n",
    "import matplotlib.pyplot as plt\n",
    "from matplotlib.pyplot import figure\n",
    "import numpy as np\n",
    "import requests\n",
    "from pyproj import Proj\n",
    "import scipy\n",
    "import cartopy.crs as ccrs\n",
    "from cartopy.io.img_tiles import GoogleTiles\n",
    "from scipy.interpolate import griddata\n",
    "import matplotlib.colors as colors\n",
    "import math as ma\n",
    "import seaborn as sb\n",
    "from scipy import interpolate\n",
    "from matplotlib.patches import Rectangle\n",
    "from matplotlib.offsetbox import (OffsetImage, AnnotationBbox)\n",
    "import matplotlib.image as image"
   ]
  },
  {
   "cell_type": "markdown",
   "metadata": {},
   "source": [
    "<br>\n",
    "<br>\n",
    "<font size=\"18\"><font color = \"blue\"> Processing Functions </font>"
   ]
  },
  {
   "cell_type": "markdown",
   "metadata": {},
   "source": [
    "### Import data"
   ]
  },
  {
   "cell_type": "code",
   "execution_count": 17,
   "metadata": {},
   "outputs": [],
   "source": [
    "def import_data(data_file):\n",
    "    #Read data_in file \n",
    "    file = pd.read_csv(data_file)\n",
    "\n",
    "    return file"
   ]
  },
  {
   "cell_type": "markdown",
   "metadata": {},
   "source": [
    "### Reproject lat/lon to UTM\n",
    "\n",
    "Converts Lat/Lon coordinates to UTM coordinates for plotting purposes."
   ]
  },
  {
   "cell_type": "code",
   "execution_count": 18,
   "metadata": {},
   "outputs": [],
   "source": [
    "def reproject(data, myProj, inverse):\n",
    "    #List to store longitudes/latitudes values from reprojection function\n",
    "    lon_list = []\n",
    "    lat_list = []\n",
    "\n",
    "    #List to store eastings/northings values from reprojection function\n",
    "    east_list = []\n",
    "    north_list = []\n",
    "    \n",
    "    #if = use for UTM easting/northing to lon/lat\n",
    "    if inverse == 'True':\n",
    "        for i in range(len(data.easting)):\n",
    "            lons,lats = myProj(data.easting[i],data.northing[i], inverse=True)\n",
    "            lon_list.append(int(lons))\n",
    "            lat_list.append(int(lats))\n",
    "            \n",
    "        #Creates new columns for lon/lat and mag values       \n",
    "        data['lon'] = lon_list\n",
    "        data['lat'] = lat_list\n",
    "  \n",
    "    #elif = use for lon/lat to UTM easting/northing\n",
    "    elif inverse == 'False':\n",
    "        for i in range(len(data.lon)):\n",
    "            eastings,northings = myProj(data.lon[i],data.lat[i], inverse=False)\n",
    "            east_list.append(int(eastings))\n",
    "            north_list.append(int(northings))\n",
    "\n",
    "        #Creates new columns for lon/lat and mag values    \n",
    "        data['easting'] = east_list\n",
    "        data['northing'] = north_list\n",
    "        \n",
    "    print('REPROJECTION IS COMPLETED')\n",
    "    return reproject"
   ]
  },
  {
   "cell_type": "markdown",
   "metadata": {},
   "source": [
    "### Detrend total magnetic field data\n",
    "Acquires the reference field from NOAA Magnetic Field Calculator via an API key using an averaged latitude and longitude and the date the survey was performed. This mean magnetic value is then subtracted from each data point."
   ]
  },
  {
   "cell_type": "code",
   "execution_count": 19,
   "metadata": {},
   "outputs": [],
   "source": [
    "def mag_detrend(data, value=None, date=None, elevation=None):\n",
    "    startMonth,startDay,startYear = data.date.max().split(\"/\")\n",
    "    #print('Start',startMonth,startDay,startYear)\n",
    "    \n",
    "    mag = data.total_field\n",
    "    endMonth,endDay,endYear = data.date.min().split(\"/\")  \n",
    "    mean_lat = np.mean(data.lat.values)\n",
    "    mean_lon = np.mean(data.lon.values)\n",
    "\n",
    "    detended_mag = [] \n",
    "    \n",
    "    params = {\n",
    "        \"lat\":str(np.mean(data.lat.values)),\n",
    "        \"lon\": str(np.mean(data.lon.values)),\n",
    "        \"elev\": str(np.mean(data.el.values)),\n",
    "        \"year_0\": str(startYear),\n",
    "        \"month_0\": str(startMonth),\n",
    "        \"day_0\": str(startDay),\n",
    "        \"year_1\": str(endYear),\n",
    "        \"month_1\": str(endMonth),\n",
    "        \"day_1\": str(endDay)\n",
    "        }\n",
    "\n",
    "    url = 'https://www.ngdc.noaa.gov/geomag-web/calculators/calculateIgrfwmm?lat1=%s&lon1=%s&elevation=%s&startYear=%s&startMonth=%s&startDay=%s&endYear=%s&endMonth=%s&endDay=%s&elevationUnits=M&coordinateSystem=D&model=IGRF&&key=EAU2y&resultFormat=json'%(\n",
    "        params[\"lat\"], params[\"lon\"], params[\"elev\"], params[\"year_0\"],params[\"month_0\"],params[\"day_0\"],params[\"year_1\"],params[\"month_1\"],params[\"day_1\"])\n",
    "    \n",
    "    global_mag = requests.get(url)\n",
    "    \n",
    "    if global_mag.status_code == 200:\n",
    "        value = global_mag.json()['result'][0]['totalintensity']\n",
    "        data['detrended_mag'] = mag\n",
    "        data.detrended_mag -= value\n",
    "        \n",
    "    else:\n",
    "        print('Status code:'+str(global_mag.status_code)+', code should be 200')\n",
    "        exit()  \n",
    "        \n",
    "    print('DETRENDING IS COMPLETED')\n",
    "    return mag_detrend"
   ]
  },
  {
   "cell_type": "markdown",
   "metadata": {},
   "source": [
    "### Despike filter (replaces values higher or lower than a cutoff with NaN\n",
    "Very large magnitude spikes can occur due to the orientaiton of the magnetometer relative to the direction of the Earth's magnetic field. This code removes the spikes by applying user defined min/max cutoff values and replaces the spike values with NaN (not a number)."
   ]
  },
  {
   "cell_type": "code",
   "execution_count": 20,
   "metadata": {},
   "outputs": [],
   "source": [
    "def despike_data(data, mag_min, mag_max):\n",
    "\n",
    "    min_value = mag_min\n",
    "    max_value = mag_max\n",
    "    \n",
    "    despiked_data = data.copy()\n",
    "    despiked_data['cleaned_mag'] = despiked_data['detrended_mag'] \n",
    "    despiked_data.loc[despiked_data['cleaned_mag'] < mag_min, 'cleaned_mag'] = np.nan\n",
    "    despiked_data.loc[despiked_data['cleaned_mag'] > mag_max, 'cleaned_mag'] = np.nan\n",
    "    \n",
    "    print('DESPIKING COMPLETED')\n",
    "    return despiked_data"
   ]
  },
  {
   "cell_type": "markdown",
   "metadata": {},
   "source": [
    "### Normalize reduced magnetic data\n",
    "To reduce the magnetic anaomly to near zero, the mean of the dataset is removed from all points in the survey."
   ]
  },
  {
   "cell_type": "code",
   "execution_count": 21,
   "metadata": {},
   "outputs": [],
   "source": [
    "#MAKE A DEFINITION FOR NORMALIZING DATA\n",
    "def normalize_mag(mag):\n",
    "    norm_mag = []\n",
    "    mag_mean = np.mean(mag)\n",
    "    for i in range(len(mag)):\n",
    "        normalized_mag_point = mag[i] - mag_mean\n",
    "        norm_mag.append(normalized_mag_point)\n",
    "        \n",
    "    print('NORMALIZATION COMPLETED')    \n",
    "    return norm_mag"
   ]
  },
  {
   "cell_type": "markdown",
   "metadata": {},
   "source": [
    "### Rolling Average filter\n",
    "Magnetic data is can be quite \"noisy\", especially in volcanic terrains. These areas often host an abundance of surface flows, whose remnant magnetization varies with composition. The high frequency oscillations created by these features need removed/smoothed from the anomaly data for interpretation."
   ]
  },
  {
   "cell_type": "code",
   "execution_count": 22,
   "metadata": {},
   "outputs": [],
   "source": [
    "def rolling_average(data, direction, seconds, points):\n",
    "    rolling_average_data = data.copy()\n",
    "    rolling_average_data.index = pd.to_datetime(100*rolling_average_data.index,unit='ms')\n",
    "    rolling_average_data = rolling_average_data.resample(str(seconds)).median()\n",
    "    rolling_average_data = rolling_average_data.rolling(points,center=False).mean()\n",
    "    rolling_average_data.reset_index(inplace=True)\n",
    "    \n",
    "    print('ROLLING AVERAGE COMPLETED')\n",
    "    return rolling_average_data"
   ]
  },
  {
   "cell_type": "markdown",
   "metadata": {},
   "source": [
    "<br>\n",
    "<br>\n",
    "<font size=\"18\"><font color = \"blue\"> Visualization Functions </font>"
   ]
  },
  {
   "cell_type": "markdown",
   "metadata": {},
   "source": [
    "### Field area map with transects"
   ]
  },
  {
   "cell_type": "markdown",
   "metadata": {},
   "source": [
    "#### For UTM "
   ]
  },
  {
   "cell_type": "code",
   "execution_count": 23,
   "metadata": {},
   "outputs": [],
   "source": [
    "def scale_bar(ax, length, location=(0.5, 0.05), linewidth=3):\n",
    "    '''\n",
    "    ax is the axes to draw the scalebar on.\n",
    "    length is the length of the scalebar in km.\n",
    "    location is center of the scalebar in axis coordinates.\n",
    "    (ie. 0.5 is the middle of the plot)\n",
    "    linewidth is the thickness of the scalebar.\n",
    "    '''\n",
    "    crs = ccrs.UTM(zone=\"12N\")\n",
    "    #Get the limits of the axis in lat long\n",
    "    llx0, llx1, lly0, lly1 = ax.get_extent(crs)\n",
    "    #Make tmc horizontally centred on the middle of the map,\n",
    "    #vertically at scale bar location\n",
    "    #sbllx = (llx1 + llx0) / 2\n",
    "    #sblly = lly0 + (lly1 - lly0) * location[1]\n",
    "    #tmc = ccrs.UTM(zone=\"12N\", area_of_use = (sbllx, sblly))\n",
    "    #Get the extent of the plotted area in coordinates in metres\n",
    "    x0, x1, y0, y1 = ax.get_extent(crs)\n",
    "    #Turn the specified scalebar location into coordinates in metres\n",
    "    sbx = x0 + (x1 - x0) * location[0]\n",
    "    sby = y0 + (y1 - y0) * location[1]\n",
    "\n",
    "    #Calculate a scale bar length if none has been given\n",
    "    #(Theres probably a more pythonic way of rounding the number but this works)\n",
    "    if not length: \n",
    "        length = (x1 - x0) / 5000 #in km\n",
    "        ndim = int(np.floor(np.log10(length))) #number of digits in number\n",
    "        length = round(length, -ndim) #round to 1sf\n",
    "        #Returns numbers starting with the list\n",
    "        def scale_number(x):\n",
    "            if str(x)[0] in ['1', '2', '5']: return int(x)        \n",
    "            else: return scale_number(x - 10 ** ndim)\n",
    "        length = scale_number(length) \n",
    "\n",
    "    #Generate the x coordinate for the ends of the scalebar\n",
    "    bar_xs = [sbx - length * 500, sbx + length * 500]\n",
    "    #Plot the scalebar\n",
    "    ax.plot(bar_xs, [sby, sby], transform=crs, color='white', linewidth=linewidth)\n",
    "    #Plot the scalebar label\n",
    "    ax.text(sbx, sby, str(length) + ' km', transform=crs,\n",
    "            horizontalalignment='center', color='white',verticalalignment='bottom', fontsize = 16)\n",
    "\n",
    "def label_utm_grid():\n",
    "    ''' Warning: should only use with small area UTM maps '''\n",
    "    x_coords = []\n",
    "    y_coords = []\n",
    "    \n",
    "    ax = plt.gca()    \n",
    "    for val,label in zip(ax.get_xticks(), ax.get_xticklabels()):\n",
    "        label.set_text(str(val))\n",
    "        label.set_position((val,0))  \n",
    "        x_coords.append(val)\n",
    "    \n",
    "    for val,label in zip(ax.get_yticks(), ax.get_yticklabels()):   \n",
    "        label.set_text(str(val))\n",
    "        label.set_position((0,val)) \n",
    "        y_coords.append(val)\n",
    "    \n",
    "    plt.tick_params(bottom=True,top=True,left=True,right=True,\n",
    "            labelbottom=True,labeltop=False,labelleft=True,labelright=False)\n",
    "    \n",
    "    ax.xaxis.set_visible(True)\n",
    "    ax.yaxis.set_visible(True)\n",
    "    plt.grid(True)\n",
    "    \n",
    "    return x_coords, y_coords\n",
    "    \n",
    "    \n",
    "def plot_transects_UTM(data, data_2, zoom, buffer, style):\n",
    "    fig = plt.figure(figsize=(20,15))\n",
    "    tiler = GoogleTiles(style=style)\n",
    "    mercator = tiler.crs\n",
    "    crs = ccrs.UTM(zone=\"12N\")\n",
    "    ax = plt.axes(projection=crs)\n",
    "   \n",
    "    \n",
    "    #Set map extent\n",
    "    easting = data.easting\n",
    "    northing = data.northing\n",
    "    easting_min = min(easting) - buffer\n",
    "    easting_max = max(easting) + buffer\n",
    "    northing_min = min(northing) - buffer\n",
    "    northing_max = max(northing) + buffer\n",
    "    extent = (easting_min, easting_max, northing_min, northing_max)\n",
    "    ax.set_extent(extent,crs=crs)\n",
    "\n",
    "    ax.add_image(tiler, zoom)\n",
    "        \n",
    "    plt.plot(easting, northing, marker='.', color='k', linestyle='None',\n",
    "             markersize=0.2, alpha=0.7, transform=crs)\n",
    "    \n",
    "    plt.plot(data_2.easting, data_2.northing, marker='.', color='whitesmoke', \n",
    "             linestyle='-', markersize=0.1, alpha=0.7, transform=crs)\n",
    "    \n",
    "         \n",
    "    x_lines, y_lines = label_utm_grid()\n",
    "    \n",
    "    for i in range(len(y_lines)):\n",
    "        plt.hlines(y_lines[i], easting_min, easting_max, linewidth=0.5, color='k')\n",
    "    for i in range(len(x_lines)):\n",
    "        plt.vlines(x_lines[i], northing_min, northing_max, linewidth=0.5, color='k')\n",
    "    \n",
    "    ax.ticklabel_format(useOffset=False, style='plain')\n",
    "        \n",
    "    #plot a N array\n",
    "    x, y, arrow_length = 0.1, 0.15, .03\n",
    "    ax.annotate('N', xy=(x, y), xytext=(x, y-(arrow_length*2)),family='sans-serif', \n",
    "                color ='white', \n",
    "                arrowprops=dict(facecolor='white',width=5, headwidth=15), \n",
    "                ha='center', va='center', \n",
    "                fontsize=28, xycoords=ax.transAxes)\n",
    "    \n",
    "    plt.xlabel('Easting (m)' )\n",
    "    plt.ylabel('Northing (m)')\n",
    "\n",
    "    scale_bar(ax, 2)\n",
    "    \n",
    "    plt.show()\n",
    "    \n",
    "    return fig"
   ]
  },
  {
   "cell_type": "markdown",
   "metadata": {},
   "source": [
    "#### Plot profiles"
   ]
  },
  {
   "cell_type": "code",
   "execution_count": 24,
   "metadata": {},
   "outputs": [],
   "source": [
    "def plot_profile(x, y, direction, name):\n",
    "    fig = plt.figure(figsize=(15, 7))\n",
    "    \n",
    "    if direction == 'ns':\n",
    "        plt.title(str(name))\n",
    "        plt.ylabel('Magnetic Anomaly (nT)')\n",
    "        plt.xlabel('Northing (m)')\n",
    "        plt.axhline(0,color='r',linestyle='--')\n",
    "        plt.ticklabel_format(useOffset=False, style='plain')\n",
    "        plt.plot(x,y, linestyle='-', color='blue')\n",
    "       \n",
    "    elif direction == 'ew':\n",
    "        plt.title(str(name))\n",
    "        plt.ylabel('Magnetic Anomaly (nT)')\n",
    "        plt.xlabel('Easting (m)')\n",
    "        plt.axhline(0,color='r',linestyle='--')\n",
    "        plt.ticklabel_format(useOffset=False, style='plain')\n",
    "        plt.plot(x,y, linestyle='-', color='blue')\n",
    "    \n",
    "    return fig"
   ]
  },
  {
   "cell_type": "markdown",
   "metadata": {},
   "source": [
    "#### Rolling average profiles"
   ]
  },
  {
   "cell_type": "code",
   "execution_count": 25,
   "metadata": {},
   "outputs": [],
   "source": [
    "def rolling_profile(data, direction, name):\n",
    "    fig = plt.figure(figsize=(15, 7))\n",
    "\n",
    "    if direction == 'ns':\n",
    "        plt.title(str(name))\n",
    "        plt.ylabel('Magnetic Anomaly (nT)')\n",
    "        plt.xlabel('Northing (m)')\n",
    "        plt.axhline(0,color='r',linestyle='--')\n",
    "        plt.ticklabel_format(useOffset=False, style='plain')\n",
    "        plt.plot(data.northing,data.cleaned_mag, linestyle='-', color='blue')\n",
    "    \n",
    "    elif direction == 'ew':\n",
    "        plt.title(str(name))\n",
    "        plt.ylabel('Magnetic Anomaly (nT)')\n",
    "        plt.xlabel('Easting (m)')\n",
    "        plt.axhline(0,color='r',linestyle='--')\n",
    "        plt.ticklabel_format(useOffset=False, style='plain')\n",
    "        plt.plot(data.easting,data.cleaned_mag,linestyle='-', color='blue')\n",
    "\n",
    "    return fig"
   ]
  },
  {
   "cell_type": "markdown",
   "metadata": {},
   "source": [
    "#### Rolling average and topo profile with map inset"
   ]
  },
  {
   "cell_type": "code",
   "execution_count": 26,
   "metadata": {},
   "outputs": [],
   "source": [
    "def complete_profile(data, map_image, zoom, position, box, direction, name):\n",
    "    fig = plt.figure(figsize=(15, 7))\n",
    "    ax = fig.add_subplot()\n",
    "\n",
    "    if direction == 'ns':\n",
    "        plt.title(str(name))\n",
    "        plt.ylabel('Magnetic Anomaly (nT)')\n",
    "        plt.xlabel('Northing (m)')\n",
    "        plt.axhline(0,color='k',linestyle='--')\n",
    "        plt.ticklabel_format(useOffset=False, style='plain')\n",
    "        imagebox = OffsetImage(map_image, zoom = zoom)\n",
    "        #Annotation box for solar pv logo\n",
    "        #Container for the imagebox referring to a specific position *xy*.\n",
    "        ab = AnnotationBbox(imagebox, (position[0], position[1]), frameon = False)\n",
    "        ax.add_artist(ab)\n",
    "        #add rectangle to plot\n",
    "        ax.add_patch(Rectangle((box[0], box[1]), box[2], box[3], ls=\"--\", ec =\"red\", fill=False))\n",
    "        plt.plot(data.northing,data.cleaned_mag, linestyle='-', color='blue')\n",
    "    \n",
    "    elif direction == 'ew':\n",
    "        plt.title(str(name))\n",
    "        plt.ylabel('Magnetic Anomaly (nT)')\n",
    "        plt.xlabel('Easting (m)')\n",
    "        plt.axhline(0,color='k',linestyle='--')\n",
    "        plt.ticklabel_format(useOffset=False, style='plain')\n",
    "        imagebox = OffsetImage(map_image, zoom = zoom)\n",
    "        #Annotation box for solar pv logo\n",
    "        #Container for the imagebox referring to a specific position *xy*.\n",
    "        ab = AnnotationBbox(imagebox, (position[0], position[1]), frameon = False)\n",
    "        ax.add_artist(ab)\n",
    "        #add rectangle to plot\n",
    "        ax.add_patch(Rectangle((box[0], box[1]), box[2], box[3], ls=\"--\", ec =\"red\", fill=False))\n",
    "        plt.plot(data.easting,data.cleaned_mag,linestyle='-', color='blue')\n",
    "\n",
    "    return fig"
   ]
  },
  {
   "cell_type": "markdown",
   "metadata": {},
   "source": [
    "<br>"
   ]
  },
  {
   "cell_type": "markdown",
   "metadata": {},
   "source": [
    "<font size=\"12\"><font color = \"red\"> Processing Inputs and Visualizations\n",
    "    </font>"
   ]
  },
  {
   "cell_type": "markdown",
   "metadata": {},
   "source": [
    "## Load data"
   ]
  },
  {
   "cell_type": "code",
   "execution_count": 27,
   "metadata": {},
   "outputs": [
    {
     "name": "stdout",
     "output_type": "stream",
     "text": [
      "      id      date     time        lat         lon  total_field    el\n",
      "0  15152  7/6/2022  26:11.0  43.988774 -112.296544    53093.426  1458\n"
     ]
    }
   ],
   "source": [
    "#Set input file\n",
    "in_file = './input_data/TB_mag_transect_E-W.csv'\n",
    "\n",
    "#Open input data file \n",
    "data_in = pd.read_csv(in_file, sep=',', low_memory=False )\n",
    "data_in = data_in[['Counter', 'Date', 'Time', 'LatitudeSensor1',\n",
    "                   'LongitudeSensor1', 'MagSensor1', 'Signal1']]\n",
    "\n",
    "data_in.rename(columns={'Counter': 'id', 'Date': 'date', 'Time': 'time',\n",
    "                        'LatitudeSensor1': 'lat','LongitudeSensor1': 'lon',\n",
    "                        'MagSensor1': 'total_field', 'Signal1': 'el' }, inplace=True)\n",
    "\n",
    "print(data_in.head(1))"
   ]
  },
  {
   "cell_type": "markdown",
   "metadata": {},
   "source": [
    "## Reproject coordinates"
   ]
  },
  {
   "cell_type": "code",
   "execution_count": 28,
   "metadata": {},
   "outputs": [
    {
     "ename": "CRSError",
     "evalue": "Invalid projection: +proj=utm +zone=12, +north +ellps=WGS84 +datum=WGS84 +units=m +type=crs: (Internal Proj Error: proj_create: Error 1027 (Invalid value for an argument): utm: Invalid value for zone)",
     "output_type": "error",
     "traceback": [
      "\u001b[0;31m---------------------------------------------------------------------------\u001b[0m",
      "\u001b[0;31mCRSError\u001b[0m                                  Traceback (most recent call last)",
      "Cell \u001b[0;32mIn[28], line 15\u001b[0m\n\u001b[1;32m     12\u001b[0m inverse\u001b[38;5;241m=\u001b[39m\u001b[38;5;124m'\u001b[39m\u001b[38;5;124mFalse\u001b[39m\u001b[38;5;124m'\u001b[39m \u001b[38;5;66;03m#for Lat/Lon to UTM\u001b[39;00m\n\u001b[1;32m     14\u001b[0m \u001b[38;5;66;03m#REPROJECTION FUNCTION\u001b[39;00m\n\u001b[0;32m---> 15\u001b[0m myProj \u001b[38;5;241m=\u001b[39m \u001b[43mProj\u001b[49m\u001b[43m(\u001b[49m\u001b[38;5;124;43m\"\u001b[39;49m\u001b[38;5;124;43m+proj=\u001b[39;49m\u001b[38;5;124;43m\"\u001b[39;49m\u001b[38;5;241;43m+\u001b[39;49m\u001b[38;5;28;43mstr\u001b[39;49m\u001b[43m(\u001b[49m\u001b[43mprojection\u001b[49m\u001b[43m)\u001b[49m\u001b[38;5;241;43m+\u001b[39;49m\u001b[38;5;124;43m'\u001b[39;49m\u001b[38;5;124;43m \u001b[39;49m\u001b[38;5;124;43m'\u001b[39;49m\u001b[38;5;241;43m+\u001b[39;49m\u001b[38;5;124;43m\"\u001b[39;49m\u001b[38;5;124;43m+zone=\u001b[39;49m\u001b[38;5;124;43m\"\u001b[39;49m\u001b[38;5;241;43m+\u001b[39;49m\u001b[38;5;28;43mstr\u001b[39;49m\u001b[43m(\u001b[49m\u001b[43mzone\u001b[49m\u001b[43m)\u001b[49m\u001b[38;5;241;43m+\u001b[39;49m\u001b[43m\\\u001b[49m\n\u001b[1;32m     16\u001b[0m \u001b[43m              \u001b[49m\u001b[38;5;124;43m'\u001b[39;49m\u001b[38;5;124;43m, \u001b[39;49m\u001b[38;5;124;43m'\u001b[39;49m\u001b[38;5;241;43m+\u001b[39;49m\u001b[38;5;124;43m'\u001b[39;49m\u001b[38;5;124;43m+\u001b[39;49m\u001b[38;5;124;43m'\u001b[39;49m\u001b[38;5;241;43m+\u001b[39;49m\u001b[38;5;28;43mstr\u001b[39;49m\u001b[43m(\u001b[49m\u001b[43mhemisphere\u001b[49m\u001b[43m)\u001b[49m\u001b[38;5;241;43m+\u001b[39;49m\u001b[38;5;124;43m'\u001b[39;49m\u001b[38;5;124;43m \u001b[39;49m\u001b[38;5;124;43m'\u001b[39;49m\u001b[38;5;241;43m+\u001b[39;49m\u001b[38;5;124;43m\"\u001b[39;49m\u001b[38;5;124;43m+ellps=\u001b[39;49m\u001b[38;5;124;43m\"\u001b[39;49m\u001b[38;5;241;43m+\u001b[39;49m\u001b[38;5;28;43mstr\u001b[39;49m\u001b[43m(\u001b[49m\u001b[43mellipse\u001b[49m\u001b[43m)\u001b[49m\u001b[38;5;241;43m+\u001b[39;49m\u001b[43m\\\u001b[49m\n\u001b[1;32m     17\u001b[0m \u001b[43m              \u001b[49m\u001b[38;5;124;43m'\u001b[39;49m\u001b[38;5;124;43m \u001b[39;49m\u001b[38;5;124;43m'\u001b[39;49m\u001b[38;5;241;43m+\u001b[39;49m\u001b[38;5;124;43m\"\u001b[39;49m\u001b[38;5;124;43m+datum=\u001b[39;49m\u001b[38;5;124;43m\"\u001b[39;49m\u001b[38;5;241;43m+\u001b[39;49m\u001b[38;5;28;43mstr\u001b[39;49m\u001b[43m(\u001b[49m\u001b[43mellipse\u001b[49m\u001b[43m)\u001b[49m\u001b[38;5;241;43m+\u001b[39;49m\u001b[38;5;124;43m'\u001b[39;49m\u001b[38;5;124;43m \u001b[39;49m\u001b[38;5;124;43m'\u001b[39;49m\u001b[38;5;241;43m+\u001b[39;49m\u001b[38;5;124;43m\"\u001b[39;49m\u001b[38;5;124;43m+units=\u001b[39;49m\u001b[38;5;124;43m\"\u001b[39;49m\u001b[38;5;241;43m+\u001b[39;49m\u001b[38;5;28;43mstr\u001b[39;49m\u001b[43m(\u001b[49m\u001b[43munits\u001b[49m\u001b[43m)\u001b[49m\u001b[43m)\u001b[49m\n\u001b[1;32m     19\u001b[0m reproject(data_in, myProj, inverse)\n\u001b[1;32m     20\u001b[0m \u001b[38;5;28mprint\u001b[39m(data_in\u001b[38;5;241m.\u001b[39mhead(\u001b[38;5;241m1\u001b[39m))\n",
      "File \u001b[0;32m/srv/conda/envs/notebook/lib/python3.10/site-packages/pyproj/proj.py:109\u001b[0m, in \u001b[0;36mProj.__init__\u001b[0;34m(self, projparams, preserve_units, **kwargs)\u001b[0m\n\u001b[1;32m     47\u001b[0m \u001b[38;5;28;01mdef\u001b[39;00m \u001b[38;5;21m__init__\u001b[39m(\n\u001b[1;32m     48\u001b[0m     \u001b[38;5;28mself\u001b[39m, projparams: Optional[Any] \u001b[38;5;241m=\u001b[39m \u001b[38;5;28;01mNone\u001b[39;00m, preserve_units: \u001b[38;5;28mbool\u001b[39m \u001b[38;5;241m=\u001b[39m \u001b[38;5;28;01mTrue\u001b[39;00m, \u001b[38;5;241m*\u001b[39m\u001b[38;5;241m*\u001b[39mkwargs\n\u001b[1;32m     49\u001b[0m ) \u001b[38;5;241m-\u001b[39m\u001b[38;5;241m>\u001b[39m \u001b[38;5;28;01mNone\u001b[39;00m:\n\u001b[1;32m     50\u001b[0m \u001b[38;5;250m    \u001b[39m\u001b[38;5;124;03m\"\"\"\u001b[39;00m\n\u001b[1;32m     51\u001b[0m \u001b[38;5;124;03m    A Proj class instance is initialized with proj map projection\u001b[39;00m\n\u001b[1;32m     52\u001b[0m \u001b[38;5;124;03m    control parameter key/value pairs. The key/value pairs can\u001b[39;00m\n\u001b[0;32m   (...)\u001b[0m\n\u001b[1;32m    107\u001b[0m \u001b[38;5;124;03m    '116.366 39.867'\u001b[39;00m\n\u001b[1;32m    108\u001b[0m \u001b[38;5;124;03m    \"\"\"\u001b[39;00m\n\u001b[0;32m--> 109\u001b[0m     \u001b[38;5;28mself\u001b[39m\u001b[38;5;241m.\u001b[39mcrs \u001b[38;5;241m=\u001b[39m \u001b[43mCRS\u001b[49m\u001b[38;5;241;43m.\u001b[39;49m\u001b[43mfrom_user_input\u001b[49m\u001b[43m(\u001b[49m\u001b[43mprojparams\u001b[49m\u001b[43m,\u001b[49m\u001b[43m \u001b[49m\u001b[38;5;241;43m*\u001b[39;49m\u001b[38;5;241;43m*\u001b[39;49m\u001b[43mkwargs\u001b[49m\u001b[43m)\u001b[49m\n\u001b[1;32m    110\u001b[0m     \u001b[38;5;66;03m# make sure units are meters if preserve_units is False.\u001b[39;00m\n\u001b[1;32m    111\u001b[0m     \u001b[38;5;28;01mif\u001b[39;00m \u001b[38;5;129;01mnot\u001b[39;00m preserve_units \u001b[38;5;129;01mand\u001b[39;00m \u001b[38;5;124m\"\u001b[39m\u001b[38;5;124mfoot\u001b[39m\u001b[38;5;124m\"\u001b[39m \u001b[38;5;129;01min\u001b[39;00m \u001b[38;5;28mself\u001b[39m\u001b[38;5;241m.\u001b[39mcrs\u001b[38;5;241m.\u001b[39maxis_info[\u001b[38;5;241m0\u001b[39m]\u001b[38;5;241m.\u001b[39munit_name:\n\u001b[1;32m    112\u001b[0m         \u001b[38;5;66;03m# ignore export to PROJ string deprecation warning\u001b[39;00m\n",
      "File \u001b[0;32m/srv/conda/envs/notebook/lib/python3.10/site-packages/pyproj/crs/crs.py:501\u001b[0m, in \u001b[0;36mCRS.from_user_input\u001b[0;34m(cls, value, **kwargs)\u001b[0m\n\u001b[1;32m    499\u001b[0m \u001b[38;5;28;01mif\u001b[39;00m \u001b[38;5;28misinstance\u001b[39m(value, \u001b[38;5;28mcls\u001b[39m):\n\u001b[1;32m    500\u001b[0m     \u001b[38;5;28;01mreturn\u001b[39;00m value\n\u001b[0;32m--> 501\u001b[0m \u001b[38;5;28;01mreturn\u001b[39;00m \u001b[38;5;28;43mcls\u001b[39;49m\u001b[43m(\u001b[49m\u001b[43mvalue\u001b[49m\u001b[43m,\u001b[49m\u001b[43m \u001b[49m\u001b[38;5;241;43m*\u001b[39;49m\u001b[38;5;241;43m*\u001b[39;49m\u001b[43mkwargs\u001b[49m\u001b[43m)\u001b[49m\n",
      "File \u001b[0;32m/srv/conda/envs/notebook/lib/python3.10/site-packages/pyproj/crs/crs.py:348\u001b[0m, in \u001b[0;36mCRS.__init__\u001b[0;34m(self, projparams, **kwargs)\u001b[0m\n\u001b[1;32m    346\u001b[0m     \u001b[38;5;28mself\u001b[39m\u001b[38;5;241m.\u001b[39m_local\u001b[38;5;241m.\u001b[39mcrs \u001b[38;5;241m=\u001b[39m projparams\n\u001b[1;32m    347\u001b[0m \u001b[38;5;28;01melse\u001b[39;00m:\n\u001b[0;32m--> 348\u001b[0m     \u001b[38;5;28mself\u001b[39m\u001b[38;5;241m.\u001b[39m_local\u001b[38;5;241m.\u001b[39mcrs \u001b[38;5;241m=\u001b[39m \u001b[43m_CRS\u001b[49m\u001b[43m(\u001b[49m\u001b[38;5;28;43mself\u001b[39;49m\u001b[38;5;241;43m.\u001b[39;49m\u001b[43msrs\u001b[49m\u001b[43m)\u001b[49m\n",
      "File \u001b[0;32mpyproj/_crs.pyx:2366\u001b[0m, in \u001b[0;36mpyproj._crs._CRS.__init__\u001b[0;34m()\u001b[0m\n",
      "\u001b[0;31mCRSError\u001b[0m: Invalid projection: +proj=utm +zone=12, +north +ellps=WGS84 +datum=WGS84 +units=m +type=crs: (Internal Proj Error: proj_create: Error 1027 (Invalid value for an argument): utm: Invalid value for zone)"
     ]
    }
   ],
   "source": [
    "#REPROJECTION INPUTS\n",
    "#** always check the proper UTM zone (default = North,12 (Midwest U.S))** - Only CHANGE REPROJECTION INPUTS IF NEEDED\n",
    "zone = 12\n",
    "projection = 'utm'\n",
    "ellipse = 'WGS84'\n",
    "units = 'm'\n",
    "definitions = 'no_defs'\n",
    "hemisphere = 'north'\n",
    "\n",
    "#TRASNFORMATION DIRECTION\n",
    "#inverse='True' #for UTM to Lat/Lon\n",
    "inverse='False' #for Lat/Lon to UTM\n",
    "\n",
    "#REPROJECTION FUNCTION\n",
    "myProj = Proj(\"+proj=\"+str(projection)+' '+\"+zone=\"+str(zone)+\\\n",
    "              ', '+'+'+str(hemisphere)+' '+\"+ellps=\"+str(ellipse)+\\\n",
    "              ' '+\"+datum=\"+str(ellipse)+' '+\"+units=\"+str(units))\n",
    "\n",
    "reproject(data_in, myProj, inverse)\n",
    "print(data_in.head(1))"
   ]
  },
  {
   "cell_type": "markdown",
   "metadata": {},
   "source": [
    "#### Profile of total field magnetic anomaly data"
   ]
  },
  {
   "cell_type": "code",
   "execution_count": 29,
   "metadata": {},
   "outputs": [
    {
     "ename": "AttributeError",
     "evalue": "'DataFrame' object has no attribute 'easting'",
     "output_type": "error",
     "traceback": [
      "\u001b[0;31m---------------------------------------------------------------------------\u001b[0m",
      "\u001b[0;31mAttributeError\u001b[0m                            Traceback (most recent call last)",
      "Cell \u001b[0;32mIn[29], line 7\u001b[0m\n\u001b[1;32m      5\u001b[0m     x \u001b[38;5;241m=\u001b[39m data_in\u001b[38;5;241m.\u001b[39mnorthing\n\u001b[1;32m      6\u001b[0m \u001b[38;5;28;01melif\u001b[39;00m direction \u001b[38;5;241m==\u001b[39m \u001b[38;5;124m'\u001b[39m\u001b[38;5;124mew\u001b[39m\u001b[38;5;124m'\u001b[39m:\n\u001b[0;32m----> 7\u001b[0m     x \u001b[38;5;241m=\u001b[39m \u001b[43mdata_in\u001b[49m\u001b[38;5;241;43m.\u001b[39;49m\u001b[43measting\u001b[49m\n\u001b[1;32m      9\u001b[0m y \u001b[38;5;241m=\u001b[39m data_in\u001b[38;5;241m.\u001b[39mtotal_field\n\u001b[1;32m     10\u001b[0m name \u001b[38;5;241m=\u001b[39m \u001b[38;5;124m'\u001b[39m\u001b[38;5;124mRaw Magnetic Anomlay vs. Distance\u001b[39m\u001b[38;5;124m'\u001b[39m\n",
      "File \u001b[0;32m/srv/conda/envs/notebook/lib/python3.10/site-packages/pandas/core/generic.py:5902\u001b[0m, in \u001b[0;36mNDFrame.__getattr__\u001b[0;34m(self, name)\u001b[0m\n\u001b[1;32m   5895\u001b[0m \u001b[38;5;28;01mif\u001b[39;00m (\n\u001b[1;32m   5896\u001b[0m     name \u001b[38;5;129;01mnot\u001b[39;00m \u001b[38;5;129;01min\u001b[39;00m \u001b[38;5;28mself\u001b[39m\u001b[38;5;241m.\u001b[39m_internal_names_set\n\u001b[1;32m   5897\u001b[0m     \u001b[38;5;129;01mand\u001b[39;00m name \u001b[38;5;129;01mnot\u001b[39;00m \u001b[38;5;129;01min\u001b[39;00m \u001b[38;5;28mself\u001b[39m\u001b[38;5;241m.\u001b[39m_metadata\n\u001b[1;32m   5898\u001b[0m     \u001b[38;5;129;01mand\u001b[39;00m name \u001b[38;5;129;01mnot\u001b[39;00m \u001b[38;5;129;01min\u001b[39;00m \u001b[38;5;28mself\u001b[39m\u001b[38;5;241m.\u001b[39m_accessors\n\u001b[1;32m   5899\u001b[0m     \u001b[38;5;129;01mand\u001b[39;00m \u001b[38;5;28mself\u001b[39m\u001b[38;5;241m.\u001b[39m_info_axis\u001b[38;5;241m.\u001b[39m_can_hold_identifiers_and_holds_name(name)\n\u001b[1;32m   5900\u001b[0m ):\n\u001b[1;32m   5901\u001b[0m     \u001b[38;5;28;01mreturn\u001b[39;00m \u001b[38;5;28mself\u001b[39m[name]\n\u001b[0;32m-> 5902\u001b[0m \u001b[38;5;28;01mreturn\u001b[39;00m \u001b[38;5;28;43mobject\u001b[39;49m\u001b[38;5;241;43m.\u001b[39;49m\u001b[38;5;21;43m__getattribute__\u001b[39;49m\u001b[43m(\u001b[49m\u001b[38;5;28;43mself\u001b[39;49m\u001b[43m,\u001b[49m\u001b[43m \u001b[49m\u001b[43mname\u001b[49m\u001b[43m)\u001b[49m\n",
      "\u001b[0;31mAttributeError\u001b[0m: 'DataFrame' object has no attribute 'easting'"
     ]
    }
   ],
   "source": [
    "#Set transect direciton\n",
    "direction = 'ew' #or 'ns'\n",
    "\n",
    "if direction == 'ns':\n",
    "    x = data_in.northing\n",
    "elif direction == 'ew':\n",
    "    x = data_in.easting\n",
    "    \n",
    "y = data_in.total_field\n",
    "name = 'Raw Magnetic Anomlay vs. Distance'\n",
    "raw_profile = plot_profile(x, y, direction, name)"
   ]
  },
  {
   "cell_type": "markdown",
   "metadata": {},
   "source": [
    "#### Save raw data profile "
   ]
  },
  {
   "cell_type": "code",
   "execution_count": null,
   "metadata": {},
   "outputs": [],
   "source": [
    "raw_profile.savefig('./profiles/raw_profile.png')"
   ]
  },
  {
   "cell_type": "markdown",
   "metadata": {},
   "source": [
    "## Detrend total field magnetic anomaly"
   ]
  },
  {
   "cell_type": "code",
   "execution_count": null,
   "metadata": {
    "scrolled": true
   },
   "outputs": [],
   "source": [
    "mag_detrend(data_in)\n",
    "print(data_in.head(1))"
   ]
  },
  {
   "cell_type": "markdown",
   "metadata": {},
   "source": [
    "#### Profile of detrended magnetic anaomly data"
   ]
  },
  {
   "cell_type": "code",
   "execution_count": null,
   "metadata": {},
   "outputs": [],
   "source": [
    "y = data_in.detrended_mag\n",
    "name = 'Detrended Magnetic Anomlay vs. Distance'\n",
    "detrended_profile = plot_profile(x, y, direction, name)"
   ]
  },
  {
   "cell_type": "markdown",
   "metadata": {},
   "source": [
    "#### Save detrended mag data profile"
   ]
  },
  {
   "cell_type": "code",
   "execution_count": null,
   "metadata": {},
   "outputs": [],
   "source": [
    "detrended_profile.savefig('./profiles/detrended_profile.png')"
   ]
  },
  {
   "cell_type": "markdown",
   "metadata": {},
   "source": [
    "#### Save detrended data"
   ]
  },
  {
   "cell_type": "code",
   "execution_count": null,
   "metadata": {},
   "outputs": [],
   "source": [
    "data_in.to_csv('./output_data/detrended_data.csv') "
   ]
  },
  {
   "cell_type": "markdown",
   "metadata": {},
   "source": [
    "## Despike data with min and max boundaries"
   ]
  },
  {
   "cell_type": "markdown",
   "metadata": {},
   "source": [
    "#### Min and Max magnetic anomaly values"
   ]
  },
  {
   "cell_type": "code",
   "execution_count": null,
   "metadata": {},
   "outputs": [],
   "source": [
    "print('Minimun magnetic anomlay value:',\n",
    "      min(data_in.detrended_mag))\n",
    "print('Second lowest magnetic anomaly:',\n",
    "      data_in.detrended_mag.nsmallest(2).iloc[-1])\n",
    "print( )\n",
    "print('Maximum magnetic anomlay value:',\n",
    "      max(data_in.detrended_mag))\n",
    "print('Second highest magnetic anomaly:',\n",
    "      data_in.detrended_mag.nlargest(2).iloc[-1])   "
   ]
  },
  {
   "cell_type": "code",
   "execution_count": null,
   "metadata": {
    "scrolled": true
   },
   "outputs": [],
   "source": [
    "magnetic_amplitude_min_value = -4000\n",
    "magnetic_amplitude_max_value = 4000\n",
    "\n",
    "data_despiked = despike_data(data_in, magnetic_amplitude_min_value, magnetic_amplitude_max_value)"
   ]
  },
  {
   "cell_type": "markdown",
   "metadata": {},
   "source": [
    "#### Plot despiked data"
   ]
  },
  {
   "cell_type": "code",
   "execution_count": null,
   "metadata": {},
   "outputs": [],
   "source": [
    "if direction == 'ns':\n",
    "    x = data_despiked.northing\n",
    "elif direction == 'ew':\n",
    "    x = data_despiked.easting\n",
    "\n",
    "y = data_despiked.cleaned_mag\n",
    "name = 'Despiked Magnetic Anomlay vs. Distance'\n",
    "despiked_profile = plot_profile(x, y, direction, name)"
   ]
  },
  {
   "cell_type": "markdown",
   "metadata": {},
   "source": [
    "#### Save despiked profile"
   ]
  },
  {
   "cell_type": "code",
   "execution_count": null,
   "metadata": {},
   "outputs": [],
   "source": [
    "despiked_profile.savefig('./profiles/despiked_profile.png')  "
   ]
  },
  {
   "cell_type": "markdown",
   "metadata": {},
   "source": [
    "#### Save despiked data"
   ]
  },
  {
   "cell_type": "code",
   "execution_count": null,
   "metadata": {},
   "outputs": [],
   "source": [
    "data_despiked.to_csv('./output_data/despiked_data.csv')"
   ]
  },
  {
   "cell_type": "markdown",
   "metadata": {},
   "source": [
    "## Normalize mag data"
   ]
  },
  {
   "cell_type": "code",
   "execution_count": null,
   "metadata": {},
   "outputs": [],
   "source": [
    "data_despiked[\"normalized_mag\"] = normalize_mag(data_despiked.cleaned_mag)"
   ]
  },
  {
   "cell_type": "markdown",
   "metadata": {},
   "source": [
    "##### Profile of normalized magnetic anaomly data"
   ]
  },
  {
   "cell_type": "code",
   "execution_count": null,
   "metadata": {},
   "outputs": [],
   "source": [
    "y = data_despiked.normalized_mag\n",
    "name = 'Detrended, Despiked, & Normalized Magnetic Anomlay vs. Distance'\n",
    "normalized_profile = plot_profile(x, y, direction, name)\n",
    "\n",
    "st_dev = data_despiked.normalized_mag.std() #standard deviation\n",
    "data_despiked.normalized_mag[data_despiked.normalized_mag>5*st_dev]=np.nan\n",
    "print(st_dev)"
   ]
  },
  {
   "cell_type": "markdown",
   "metadata": {},
   "source": [
    "#### Save normalized profile  "
   ]
  },
  {
   "cell_type": "code",
   "execution_count": null,
   "metadata": {},
   "outputs": [],
   "source": [
    "normalized_profile.savefig('./profiles/normalized_profile.png')"
   ]
  },
  {
   "cell_type": "markdown",
   "metadata": {},
   "source": [
    "#### Save normalized data"
   ]
  },
  {
   "cell_type": "code",
   "execution_count": null,
   "metadata": {},
   "outputs": [],
   "source": [
    "data_despiked.to_csv('./output_data/normalized_data.csv')"
   ]
  },
  {
   "cell_type": "markdown",
   "metadata": {},
   "source": [
    "## Perform rolling average using the window mean"
   ]
  },
  {
   "cell_type": "code",
   "execution_count": null,
   "metadata": {
    "scrolled": true
   },
   "outputs": [],
   "source": [
    "#seconds = '3S' # 3 - quantity of seconds - S denotes seconds\n",
    "seconds = '3S' # 3 - quantity of seconds - S denotes seconds\n",
    "time = 3\n",
    "points = 100 # number of points used in average calculation\n",
    "#points = 500 # number of points used in average calculation\n",
    "\n",
    "rolling_average_out = rolling_average(data_despiked, direction, seconds, points)"
   ]
  },
  {
   "cell_type": "markdown",
   "metadata": {},
   "source": [
    "#### Profile of rolling average"
   ]
  },
  {
   "cell_type": "code",
   "execution_count": null,
   "metadata": {},
   "outputs": [],
   "source": [
    "name = 'Magnetic Anomaly (Rolling Average) reduced data to  '+ str(time)+' second increments using a '+str(points)+' point window vs. Distance'\n",
    "rolling_average_profile = rolling_profile(rolling_average_out, direction, name)"
   ]
  },
  {
   "cell_type": "markdown",
   "metadata": {},
   "source": [
    "#### Save rolling average profile "
   ]
  },
  {
   "cell_type": "code",
   "execution_count": null,
   "metadata": {},
   "outputs": [],
   "source": [
    "rolling_average_profile.savefig('./profiles/rolling_average_'+str(points)+'_profile.png')"
   ]
  },
  {
   "cell_type": "markdown",
   "metadata": {},
   "source": [
    "#### Save rolling average output data"
   ]
  },
  {
   "cell_type": "code",
   "execution_count": null,
   "metadata": {},
   "outputs": [],
   "source": [
    "rolling_average_out.to_csv('./output_data/rolling_average_data.csv')"
   ]
  },
  {
   "cell_type": "markdown",
   "metadata": {},
   "source": [
    "## Import Extra Data For Field Map"
   ]
  },
  {
   "cell_type": "code",
   "execution_count": null,
   "metadata": {},
   "outputs": [],
   "source": [
    "file_in_1 = './input_data/TB_all.csv'\n",
    "data_1 = import_data(file_in_1)\n",
    "\n",
    "file_in_2 = './input_data/TB_outline_UTM.csv'\n",
    "data_2 = import_data(file_in_2)"
   ]
  },
  {
   "cell_type": "markdown",
   "metadata": {},
   "source": [
    "#### Create Location Map"
   ]
  },
  {
   "cell_type": "code",
   "execution_count": null,
   "metadata": {},
   "outputs": [],
   "source": [
    "############################### BEGIN USER INPUTS #############################\n",
    "\n",
    "zoom_level = 15  #Don't go higher than 18 if avoidable\n",
    "map_edge_buffer = 1000 # USE 500 - 3000 for big UTM map\n",
    "map_background = 'satellite' #‘satellite’, ‘terrain’, ‘street’, ‘only_streets'\n",
    " \n",
    "############################### END USER INPUTS ###############################\n",
    "\n",
    "#>>>>>>>>>>>>>>>>>>>>>>>>>>>>>> OUTPUT <<<<<<<<<<<<<<<<<<<<<<<<<<<<<<<<<<<<<<<#  \n",
    "\n",
    "location_map = plot_transects_UTM(data_1, data_2, zoom_level, map_edge_buffer, map_background)\n",
    "\n",
    "location_map.savefig('./maps/magnetic_location_map_UTM.png')"
   ]
  },
  {
   "cell_type": "markdown",
   "metadata": {},
   "source": [
    "#### Inset map"
   ]
  },
  {
   "cell_type": "code",
   "execution_count": null,
   "metadata": {},
   "outputs": [],
   "source": [
    "def UTM_inset_map(data, data_2, point, zoom, buffer, style):\n",
    "    fig = plt.figure(figsize=(7,7))\n",
    "    tiler = GoogleTiles(style=style)\n",
    "    mercator = tiler.crs\n",
    "    crs = ccrs.UTM(zone=\"12N\")\n",
    "    ax = plt.axes(projection=crs)\n",
    "    \n",
    "    #Set map extent\n",
    "    easting = data.easting\n",
    "    northing = data.northing\n",
    "    easting_min = min(easting) - buffer\n",
    "    easting_max = max(easting) + buffer\n",
    "    northing_min = min(northing) - buffer\n",
    "    northing_max = max(northing) + buffer\n",
    "    extent = (easting_min, easting_max, northing_min, northing_max)\n",
    "    ax.set_extent(extent,crs=crs)\n",
    "\n",
    "    ax.add_image(tiler, zoom)\n",
    "        \n",
    "    plt.plot(easting, northing, marker='.', color='k', linestyle='None',\n",
    "             markersize=0.2, alpha=0.7, transform=crs)\n",
    "    \n",
    "    plt.plot(data_2.easting, data_2.northing, marker='.', color='whitesmoke', \n",
    "             linestyle='-', markersize=0.1, alpha=0.7, transform=crs)\n",
    "\n",
    "    plt.plot(point[0],point[1], marker='s', markersize = 20, color ='red', transform=crs) \n",
    "    plt.xlabel('Easting (m)' )\n",
    "    plt.ylabel('Northing (m)')\n",
    "    \n",
    "    return fig"
   ]
  },
  {
   "cell_type": "markdown",
   "metadata": {},
   "source": [
    "#### Map Inset Inputs"
   ]
  },
  {
   "cell_type": "code",
   "execution_count": null,
   "metadata": {},
   "outputs": [],
   "source": [
    "############################### BEGIN USER INPUTS #############################\n",
    "line = 3\n",
    "zoom_level = 15  \n",
    "map_edge_buffer = 150 \n",
    "map_background = 'satellite' \n",
    " \n",
    "############################### END USER INPUTS ###############################\n",
    "\n",
    "#>>>>>>>>>>>>>>>>>>>>>>>>>>>>>> OUTPUT <<<<<<<<<<<<<<<<<<<<<<<<<<<<<<<<<<<<<<<#  \n",
    "point = (391000,4871690)\n",
    "inset_map = UTM_inset_map(data_1, data_2, point, zoom_level, map_edge_buffer, map_background)\n",
    "\n",
    "inset_map.savefig('./maps/inset_map.png')"
   ]
  },
  {
   "cell_type": "markdown",
   "metadata": {},
   "source": [
    "#### Import Topography Profile Data"
   ]
  },
  {
   "cell_type": "code",
   "execution_count": null,
   "metadata": {},
   "outputs": [],
   "source": [
    "topo_file = './input_data/TB_line_topo.csv'\n",
    "topo_data = import_data(topo_file)\n",
    "topo_data['el'] = topo_data.el_ft /3.2808399 #convert feet to meters\n",
    "print(topo_data)"
   ]
  },
  {
   "cell_type": "markdown",
   "metadata": {},
   "source": [
    "#### Reproject Topographic Coordinates From Lat/Lon To UTM"
   ]
  },
  {
   "cell_type": "code",
   "execution_count": null,
   "metadata": {},
   "outputs": [],
   "source": [
    "#REPROJECTION INPUTS\n",
    "#** always check the proper UTM zone (default = North,12 (Midwest U.S))** - Only CHANGE REPROJECTION INPUTS IF NEEDED\n",
    "zone = 12\n",
    "projection = 'utm'\n",
    "ellipse = 'WGS84'\n",
    "units = 'm'\n",
    "definitions = 'no_defs'\n",
    "hemisphere = 'north'\n",
    "\n",
    "#TRASNFORMATION DIRECTION\n",
    "#inverse='True' #for UTM to Lat/Lon\n",
    "inverse='False' #for Lat/Lon to UTM\n",
    "\n",
    "#REPROJECTION FUNCTION\n",
    "myProj = Proj(\"+proj=\"+str(projection)+' '+\"+zone=\"+str(zone)+\\\n",
    "              ', '+'+'+str(hemisphere)+' '+\"+ellps=\"+str(ellipse)+\\\n",
    "              ' '+\"+datum=\"+str(ellipse)+' '+\"+units=\"+str(units))\n",
    "\n",
    "reproject(topo_data, myProj, inverse)\n",
    "print(topo_data)"
   ]
  },
  {
   "cell_type": "markdown",
   "metadata": {},
   "source": [
    "#### Magnetic Profile With Topographic Profile And Location Map Insert"
   ]
  },
  {
   "cell_type": "code",
   "execution_count": null,
   "metadata": {},
   "outputs": [],
   "source": [
    "def complete_profile(data, data_2, map_image, zoom, position, box, direction, name):\n",
    "    fig = plt.figure(figsize=(15, 7))\n",
    "    ax1 = fig.add_subplot(111)\n",
    "    min_east = 388000 #actual value = 388200 from line 6aw_and 5b_2\n",
    "    max_east = 396800 #actual value = 396712 from line 6aw_and 5b_2\n",
    "    #ax3 = fig.add_subplot()\n",
    "    if direction == 'ns':\n",
    "        p1, = ax1.plot(data.northing,data.cleaned_mag, linestyle='-', color='blue',label = 'Magnetic Anomaly (nT)')\n",
    "        plt.title(str(name))\n",
    "        ax1.set_ylabel('Magnetic Anomaly (nT)')\n",
    "        ax1.set_ylim(-700,1400)\n",
    "        ax1.set_xlabel('Northing (m)')\n",
    "        ax1.axhline(0,color='k',linestyle='--')\n",
    "        ax1.yaxis.label.set_color(p2.get_color())\n",
    "        ax1.yaxis.label.set_fontsize(14)\n",
    "        ax1.ticklabel_format(useOffset=False, style='plain')\n",
    "        imagebox = OffsetImage(map_image, zoom = zoom)\n",
    "        #Annotation box for solar pv logo\n",
    "        #Container for the imagebox referring to a specific position *xy*.\n",
    "        ab = AnnotationBbox(imagebox, (position[0], position[1]), frameon = False)\n",
    "        ax1.add_artist(ab)\n",
    "        ax1.tick_params(axis='y', colors=p1.get_color(), labelsize=14)\n",
    "\n",
    "        #add rectangle to plot\n",
    "        ax1.add_patch(Rectangle((box[0], box[1]), box[2], box[3], ls=\"--\", ec =\"red\", fill=False))\n",
    "        \n",
    "        #Add third axis to plot\n",
    "        ax2 = ax1.twinx() \n",
    "        p2, = ax2.plot(data_2.northing,data_2.el, ls=\"-\", color='black', linewidth=1, label = 'Elevation (masl)')\n",
    "        ax2.grid(False) # turn off grid #2\n",
    "        ax2.set_ylabel('Elevation (m)')\n",
    "        ax2.set_ylim(1450,1800)\n",
    "        ax2.yaxis.label.set_color(p2.get_color())\n",
    "        ax2.yaxis.label.set_fontsize(14)\n",
    "        ax2.tick_params(axis='y', colors=p2.get_color(), labelsize=14)\n",
    "\n",
    "    elif direction == 'ew':\n",
    "        p1, = ax1.plot(data.easting,data.cleaned_mag,linestyle='-', color='blue', label = 'Magnetic Anomaly (nT)')\n",
    "        plt.title(str(name))\n",
    "        ax1.set_ylabel('Magnetic Anomaly (nT)')\n",
    "        ax1.set_ylim(-700,1400)\n",
    "        ax1.set_xlabel('Easting (m)')\n",
    "        ax1.axhline(0,color='k',linestyle='--')\n",
    "        ax1.yaxis.label.set_fontsize(14)\n",
    "        ax1.ticklabel_format(useOffset=False, style='plain')\n",
    "        imagebox = OffsetImage(map_image, zoom = zoom)\n",
    "        #Annotation box for solar pv logo\n",
    "        #Container for the imagebox referring to a specific position *xy*.\n",
    "        ab = AnnotationBbox(imagebox, (position[0], position[1]), frameon = False)\n",
    "        ax1.add_artist(ab)\n",
    "        ax1.tick_params(axis='y', colors=p1.get_color(), labelsize=14)\n",
    "        \n",
    "        #add rectangle to plot\n",
    "        ax1.add_patch(Rectangle((box[0], box[1]), box[2], box[3], ls=\"--\", ec =\"red\", fill=False))\n",
    "        \n",
    "        #Add third axis to plot\n",
    "        ax2 = ax1.twinx() \n",
    "        p2, = ax2.plot(data_2.easting, data_2.el, ls=\"-\", color='black', linewidth=1, label = 'Elevation (masl)')\n",
    "        ax2.grid(False) # turn off grid #2\n",
    "        ax2.set_ylabel('Elevation (m)')\n",
    "        ax2.set_ylim(1450,1800)\n",
    "        ax2.yaxis.label.set_color(p2.get_color())\n",
    "        ax2.yaxis.label.set_fontsize(14)\n",
    "        ax2.tick_params(axis='y', colors=p2.get_color(), labelsize=14)\n",
    "        \n",
    "        # ask matplotlib for the plotted objects and their labels\n",
    "        lines, labels = ax1.get_legend_handles_labels()\n",
    "        lines2, labels2 = ax2.get_legend_handles_labels()\n",
    "        ax2.legend(lines + lines2, labels + labels2, loc='upper left')\n",
    "\n",
    "    return fig"
   ]
  },
  {
   "cell_type": "markdown",
   "metadata": {},
   "source": [
    "#### Complete Profile Inputs "
   ]
  },
  {
   "cell_type": "code",
   "execution_count": null,
   "metadata": {},
   "outputs": [],
   "source": [
    "#NEED TO RUN BOTH THE FUNCTION AND INPUT CELLS TO GET IT TO PLOT\n",
    "image_file = './maps/inset_map.png'\n",
    "map_image = image.imread(image_file)\n",
    "zoom = 0.4\n",
    "inset_position = (397575, 985)\n",
    "box_position = (390200,-550,1600,1750) #bottom left corner =(1, 1), width = 2, height = 6))\n",
    "name = 'Magnetic Anomaly (rolling average) and Elevation vs. Distance'\n",
    "complete_profile = complete_profile(rolling_average_out, topo_data, map_image, zoom, inset_position, box_position, direction, name)"
   ]
  },
  {
   "cell_type": "markdown",
   "metadata": {},
   "source": [
    "#### Save Complete Profile"
   ]
  },
  {
   "cell_type": "code",
   "execution_count": null,
   "metadata": {},
   "outputs": [],
   "source": [
    "complete_profile.savefig('./profiles/complete_profile.png')"
   ]
  }
 ],
 "metadata": {
  "kernelspec": {
   "display_name": "Python 3 (ipykernel)",
   "language": "python",
   "name": "python3"
  },
  "language_info": {
   "codemirror_mode": {
    "name": "ipython",
    "version": 3
   },
   "file_extension": ".py",
   "mimetype": "text/x-python",
   "name": "python",
   "nbconvert_exporter": "python",
   "pygments_lexer": "ipython3",
   "version": "3.10.10"
  }
 },
 "nbformat": 4,
 "nbformat_minor": 4
}
