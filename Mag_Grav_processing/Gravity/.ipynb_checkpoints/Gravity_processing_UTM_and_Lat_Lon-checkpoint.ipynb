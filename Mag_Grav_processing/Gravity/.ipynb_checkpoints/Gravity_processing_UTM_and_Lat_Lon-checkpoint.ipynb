{
 "cells": [
  {
   "cell_type": "markdown",
   "id": "ee4b9404",
   "metadata": {},
   "source": [
    "<b>Created by:</b> <i>Troy Berkey</i>\n",
    "\n",
    "<b>Created on:</b> <i>3/20/2022</i>\n",
    "\n",
    "<b>Revised on:</b> <i>4/10/2023</i>\n",
    "\n",
    "</br>"
   ]
  },
  {
   "cell_type": "markdown",
   "id": "23569c75",
   "metadata": {},
   "source": [
    "<font size=\"18\"><font color = \"grey\"> Gravity Data Processing and Visualizations\n",
    "    </font>"
   ]
  },
  {
   "cell_type": "markdown",
   "id": "08692eb4",
   "metadata": {},
   "source": [
    "# Notebook Purpose:"
   ]
  },
  {
   "cell_type": "markdown",
   "id": "4e1a04ea",
   "metadata": {},
   "source": [
    "To input raw gravity survey data and reduce the observed gravity for each gravity station collected over an area of interest. The corrections done in this notebook are the first steps performed for investigating the regional gravity over a target. These corrections are done to assist in to identifying gravity anomalies associated with compositional variation over the region.\n",
    "<br>\n",
    "<br>\n",
    "<font color = \"blue\">\n",
    "<b><i>Corrections performed are:</i></b>\n",
    "    </font>\n",
    "\n",
    "1) <b>Drift correction </b>\n",
    "    \n",
    "2) <b>Theoretical gravity correction </b>\n",
    "    \n",
    "3) <b>Atmospheric correction </b>\n",
    "\n",
    "4) <b>Free-air correction </b>\n",
    "    \n",
    "5) <b>Bouguer correction </b>\n",
    "\n",
    "<br>\n",
    "<font color = \"blue\">\n",
    "<b><i>These corrections are used to solve for the Free-Air and Bouguer gravity anomalies:</i></b>\n",
    "</font>\n",
    "<br>\n",
    "<br>\n",
    "1) <b>Free-air Gravity Anomaly: </b>\n",
    "\n",
    "$$\\text{(Observed Gravity - Drift Corrected Base Gravity) - Theoretical Gravity Correction - Free Air Correction + Atmospheric Correction}$$\n",
    "  \n",
    "<br>\n",
    "\n",
    "2) <b>Bouguer gravity Anomaly:</b>\n",
    "\n",
    "$$ \\text{Free-Air Gravity Anomaly - Bouguer Correction} $$\n",
    "<br>"
   ]
  },
  {
   "cell_type": "markdown",
   "id": "49a551d1",
   "metadata": {},
   "source": [
    "<font size=\"5\"><b><u>Input Data Format</u><b></font>\n",
    "\n",
    "<b><font size=\"4\">File type required:</b>\n",
    "    <br>\n",
    "    <br>\n",
    "    \n",
    "<font color = \"red\">\n",
    "<b><font size=\"4\">csv</b> (comma-seperated values, no UTF-8 encoding)\n",
    "</font>\n",
    "<br>  \n",
    "    <br>\n",
    "    \n",
    "<b><font size=\"4\">Required Column Names:</b>\n",
    "</font>\n",
    "                  \n",
    "<b>project:</b> alpha numeric (object)\n",
    "\n",
    "<b>station_ID:</b> numeric (object)\n",
    "\n",
    "<b>date:</b> MM/DD/YYYY   (integer64)\n",
    "\n",
    "<b>time:</b> HH:MM (float64)\n",
    "\n",
    "<b>minutes:</b> Minutes (int64)\n",
    "\n",
    "<b>lat:</b> decimal degrees (float64)\n",
    "\n",
    "<b>lat_rads:</b> decimal (float64)\n",
    "\n",
    "<b>lon: </b> decimal degrees (float64)\n",
    "\n",
    "<b>el:</b> numeric value (float64)\n",
    "\n",
    "<b>drift_corr_grav:</b> pre-calculated in supplied data for notebook (float64) \n",
    "<br>\n",
    "    <br>"
   ]
  },
  {
   "cell_type": "markdown",
   "id": "80508f36",
   "metadata": {},
   "source": [
    "### Import Python Libraries/Modules"
   ]
  },
  {
   "cell_type": "code",
   "execution_count": null,
   "id": "1da1433d",
   "metadata": {},
   "outputs": [],
   "source": [
    "import numpy as np\n",
    "import pandas as pd\n",
    "import matplotlib.pyplot as plt\n",
    "import cartopy.crs as ccrs\n",
    "from cartopy.io.img_tiles import GoogleTiles\n",
    "import csv\n",
    "import matplotlib.pyplot as plt\n",
    "import matplotlib.tri as tri\n",
    "from pyproj import Proj"
   ]
  },
  {
   "cell_type": "markdown",
   "id": "55c46de9",
   "metadata": {},
   "source": [
    "#### Import data"
   ]
  },
  {
   "cell_type": "code",
   "execution_count": null,
   "id": "c8db5ef0",
   "metadata": {},
   "outputs": [],
   "source": [
    "def import_data(data_file):\n",
    "    #Read data_in file \n",
    "    file = pd.read_csv(data_file)\n",
    "    \n",
    "    return file"
   ]
  },
  {
   "cell_type": "markdown",
   "id": "78972567",
   "metadata": {},
   "source": [
    "<br>\n",
    "<br>\n",
    "<font size=\"18\"><font color = \"blue\">Processing Functions</font>"
   ]
  },
  {
   "cell_type": "markdown",
   "id": "c6ae8ade",
   "metadata": {},
   "source": [
    "### Drift Correction"
   ]
  },
  {
   "cell_type": "markdown",
   "id": "0720704a",
   "metadata": {},
   "source": [
    "<b>Drift correction:</b> this correction solves for the instrument drift associated with variations in gravity only due to the fact that the gravity meter registers different readings with time, due to mechanical, thermal, and electrical changes in the instrument\n",
    "\n",
    "<u><i>For the first day:</i></u>\n",
    "\n",
    "<b>drift corrected gravity  =</b>\n",
    "\n",
    "$$\\text{observed gravity - daily drift correction}$$\n",
    "\n",
    "<u><i>For subsequent days:</i></u>\n",
    "    \n",
    "<b>drift corrected gravity  =</b>\n",
    "\n",
    "$$\\text{(observed gravity - daily drift correction) - (susequent day corrected gravity - drift corrected gravity of first day base station)}$$\n",
    "<br>\n",
    "<br>"
   ]
  },
  {
   "cell_type": "code",
   "execution_count": null,
   "id": "4c6843fe",
   "metadata": {},
   "outputs": [],
   "source": [
    "def gravity_drift(data, day, start_base_grav, end_base_grav, first_day_start_base): #FOR MINUTE TIME\n",
    "    #Create variables for use in the function\n",
    "    gravity = data.obs_grav #observe gravity from data file\n",
    "    base_grav_diff = end_base_grav - start_base_grav # Daily base station gravity difference (called from inputs: end_base_grav, first_day_start_base)\n",
    "    total_time = max(data.minutes) # total daily time in minutes\n",
    "    sample_time = data.minutes #time of gravity staiton reading in minutes\n",
    "    \n",
    "    #create lists for calculated drift correction and drift corrected gravity\n",
    "    drift_correction = [] #list for calculated drift correction values for each gravity station\n",
    "    drift_corr_grav = [] #list for calculated drift corrected gravity values\n",
    "    \n",
    "    #calculate drift correction and drift corrected gravity\n",
    "    for i in range(len(data)):\n",
    "        #calculate drift correction based on slope between last and first base station (delta gravity/delta time in minutes)\n",
    "        gravity_drift = gravity[i] - ((base_grav_diff) * (sample_time[i] / total_time))     \n",
    "        #Append calculated value to drift_correction list\n",
    "        drift_correction.append(round(gravity_drift,3))\n",
    "            \n",
    "    #calculate gravity drift relative to 1st day base station (assumed to be linear)\n",
    "    total_drift = drift_correction[-1] - drift_correction[0]\n",
    "\n",
    "    if day == 1:\n",
    "        drift_corrected_grav = drift_correction - total_drift\n",
    "        \n",
    "    if day > 1:\n",
    "            \n",
    "        daily_drift_corrected_grav = drift_correction - total_drift #this line is working\n",
    "        daily_difference = daily_drift_corrected_grav[0] - first_day_start_base #this line is working\n",
    "            \n",
    "        for k in range(len(daily_drift_corrected_grav)):\n",
    "            drift_corrected_grav = daily_drift_corrected_grav - daily_difference\n",
    "\n",
    "    return drift_corrected_grav"
   ]
  },
  {
   "cell_type": "markdown",
   "id": "ccfed2c8",
   "metadata": {},
   "source": [
    "## Theoretical Gravity Correction"
   ]
  },
  {
   "cell_type": "markdown",
   "id": "925601fd",
   "metadata": {},
   "source": [
    "<b>Theoretical gravity correction: </b>this corrections accounts for the shape and rotation of the Earth (from 1984 Formula)\n",
    "\n",
    "<b>Theoretical gravity =</b>\n",
    "\n",
    "$$978032.67714 \\times{\\frac{[1+0.00193185138639(\\text{sin(L)}^2))}{\\sqrt(1-0.00669437999013(\\text{sin(L)}^2)]}}$$\n",
    "\n",
    "Where, \n",
    "\n",
    "L = latitude of the gavity station in radians\n",
    "<br>\n",
    "<br>"
   ]
  },
  {
   "cell_type": "code",
   "execution_count": null,
   "id": "268e46b4",
   "metadata": {},
   "outputs": [],
   "source": [
    "def theo_corr(lat, lat_base): # lat_base = gravity reading for most northern point\n",
    "    e = 0.0066943800229 \n",
    "    k = 0.001931851353 \n",
    "    ge = 978032.67715 \n",
    "    \n",
    "    station_num = ge*(1+k*(np.sin(lat*np.pi/180))**2) \n",
    "    station_denom = (1-e*(np.sin(lat*np.pi/180))**2)**0.5\n",
    "    station_theo_grav_corr = station_num/station_denom \n",
    "    \n",
    "    base_num = ge*(1+k*(np.sin(lat_base*np.pi/180))**2) \n",
    "    base_denom = (1-e*(np.sin(lat_base*np.pi/180))**2)**0.5\n",
    "    base_theo_grav_corr = base_num/base_denom \n",
    "    \n",
    "    theoretical_correction = station_theo_grav_corr - base_theo_grav_corr\n",
    "\n",
    "    return theoretical_correction"
   ]
  },
  {
   "cell_type": "markdown",
   "id": "727159ca",
   "metadata": {},
   "source": [
    "## Atmospheric Correction"
   ]
  },
  {
   "cell_type": "markdown",
   "id": "7dcc4209",
   "metadata": {},
   "source": [
    "<b>Atmospheric correction:</b> this correction accounts for varying density of the atmosphere with elevation\n",
    "\n",
    "<b>Atmospheric correction =</b>\n",
    "$$(0.874 - (9.9 \\times{ 10^{-5}} \\times{\\Delta  \\text{ elevation}}) + ((3.56 \\times{10^{-9}}) \\times{(\\Delta  \\text{ elevation}^{2})})$$\n",
    "<br>"
   ]
  },
  {
   "cell_type": "code",
   "execution_count": null,
   "id": "a3b1c38a",
   "metadata": {},
   "outputs": [],
   "source": [
    "def atmos_corr(h_diff):\n",
    "    atmos_corr = 0.874-9.9e-5*h_diff+3.56e-9*h_diff**2\n",
    "   \n",
    "    return atmos_corr"
   ]
  },
  {
   "cell_type": "markdown",
   "id": "6933c436",
   "metadata": {},
   "source": [
    "## Free-Air Correction"
   ]
  },
  {
   "cell_type": "markdown",
   "id": "ee51acb4",
   "metadata": {},
   "source": [
    "<b>Free-air gravity anomaly:</b> this correction accounts for variations in gravitational acceleration with elevation\n",
    "\n",
    "<b>Free-air gravity anomaly =</b>\n",
    "$$\\text{drift corrected gravity} - (\\pm \\text{ free air correction})$$\n",
    "<br>"
   ]
  },
  {
   "cell_type": "code",
   "execution_count": null,
   "id": "a60e5d48",
   "metadata": {},
   "outputs": [],
   "source": [
    "def free_air_corr(lat, h_diff):\n",
    "    free_air_corr = -(0.3087691-0.0004398*(np.sin(lat*np.pi/180))**2)*h_diff + (7.2125e-8*(h_diff**2))\n",
    "\n",
    "    return free_air_corr"
   ]
  },
  {
   "cell_type": "markdown",
   "id": "9b179d7a",
   "metadata": {},
   "source": [
    "## Bouguer Correction"
   ]
  },
  {
   "cell_type": "markdown",
   "id": "0b7ea72f",
   "metadata": {},
   "source": [
    "<b>Bouguer correction:</b> this correction accounts for the mass of the Earth between the reference datum and the gravity station as a function of elevation. \n",
    "\n",
    "<b>Bouguer_correction =</b> \n",
    "\n",
    "$$\\text{2} \\pi G \\rho h \\times{10^5} \\text{(converted from m/s$^2$ to mGal)} $$\n",
    "\n",
    "$\\text{where,}$\n",
    "\n",
    "$\\text{G = 6.6743} \\pm 0.00015 \\times 10^{-11} \\frac{m^{3}}{kg s^{2}}$\n",
    "\n",
    "$\\rho = \\text{density of Bouguer slab}$\n",
    "\n",
    "$\\text{h = height difference of gravity station relative to most northern gravity station}$\n",
    "<br>\n",
    "<br>"
   ]
  },
  {
   "cell_type": "code",
   "execution_count": null,
   "id": "b4e986a8",
   "metadata": {},
   "outputs": [],
   "source": [
    "def simple_bouguer_corr(h_diff,rho):\n",
    "    bouguer_corr = 0.04188 * (h_diff) * rho\n",
    "\n",
    "    return bouguer_corr"
   ]
  },
  {
   "cell_type": "markdown",
   "id": "c9335f86",
   "metadata": {},
   "source": [
    "<br>\n",
    "<br>\n",
    "<font size=\"18\"><font color = \"blue\">Visualization Functions</font>"
   ]
  },
  {
   "cell_type": "markdown",
   "id": "6292a69e",
   "metadata": {},
   "source": [
    "#### Plot profiles using lat/lon"
   ]
  },
  {
   "cell_type": "code",
   "execution_count": null,
   "id": "967b3633",
   "metadata": {},
   "outputs": [],
   "source": [
    "def plot_profile_lat_lon(x, y, direction, title_name, y_name, x_buffer, y_buffer):\n",
    "    \n",
    "    #for north-south profiles\n",
    "    if direction == 'ns':\n",
    "        fig, ax = plt.subplots(figsize=(15, 7)) #creates a fig with dimensions (W, H)\n",
    "        plt.title(str(title_name)) #Creates the title of the pplot - calls a input string (title_name)\n",
    "        plt.ylabel(str(y_name)) # y-label input - calls a input string (y_name)\n",
    "        plt.xlabel('Latitude') # x-label \n",
    "        plt.axhline(0,color='r',linestyle='--') # Creates a horizontal line at zero\n",
    "        plt.xlim(min(x)-x_buffer,max(x)+x_buffer) # Imposes a limit to the x-axis using the min and max values plus a buffer \n",
    "        plt.ylim(min(y)-y_buffer,max(y)+y_buffer) # Imposes a limit to the y-axis using the min and max values plus a buffer \n",
    "        ax.set_facecolor('whitesmoke') # set the backgoround color of the plot\n",
    "        plt.ticklabel_format(useOffset=False, style='plain') # Allows for the printing of full coordinates (no scientific notation)\n",
    "        ax.scatter(x, y, marker='.', color='blue', s=100) # Creates a scatter plot with size 100 blue ellipses \n",
    "        plt.grid() # overlays a grid onto the plot\n",
    "        \n",
    "    #for east-west profiles\n",
    "    elif direction == 'ew':\n",
    "        fig, ax = plt.subplots(figsize=(15, 7))\n",
    "        plt.title(str(title_name))\n",
    "        plt.ylabel('Magnetic Anomaly (nT)')\n",
    "        plt.xlabel('Longitude')\n",
    "        plt.axhline(0,color='r',linestyle='--')\n",
    "        plt.xlim(min(x)-x_buffer,max(x)+x_buffer)\n",
    "        plt.ylim(min(y)-y_buffer,max(y)+y_buffer)\n",
    "        ax.set_facecolor('whitesmoke')\n",
    "        plt.ticklabel_format(useOffset=False, style='plain')\n",
    "        ax.scatter(x, y, marker='.', color='blue', s=100)\n",
    "        plt.grid()\n",
    "        \n",
    "        \n",
    "    return plot_profile_lat_lon"
   ]
  },
  {
   "cell_type": "markdown",
   "id": "d017f5ed",
   "metadata": {},
   "source": [
    "#### Plot profiles UTM"
   ]
  },
  {
   "cell_type": "code",
   "execution_count": null,
   "id": "0b17555f",
   "metadata": {},
   "outputs": [],
   "source": [
    "def plot_profile_UTM(x, y, direction, title_name, y_name, x_buffer, y_buffer):\n",
    "    #for north-south profiles\n",
    "    if direction == 'ns':\n",
    "        #creates a fig with dimensions (W, H)\n",
    "        fig, ax = plt.subplots(figsize=(15, 7)) \n",
    "        #Creates the title of the pplot - calls a input string (title_name)\n",
    "        plt.title(str(title_name)) \n",
    "        # y-label input - calls a input string (y_name)\n",
    "        plt.ylabel(str(y_name)) \n",
    "        # x-label\n",
    "        #plt.xlabel('Distance North (m)')  \n",
    "        plt.xlabel('Northing (m)')\n",
    "        # Creates a horizontal line at zero\n",
    "        plt.axhline(0,color='r',linestyle='--') \n",
    "        # Imposes a limit to the x-axis using the min and max values plus a buffer \n",
    "        plt.xlim(min(x)-x_buffer,max(x)+x_buffer)\n",
    "        # Imposes a limit to the y-axis using the min and max values plus a buffer \n",
    "        plt.ylim(min(y)-y_buffer,max(y)+y_buffer) \n",
    "        # set the backgoround color of the plot\n",
    "        ax.set_facecolor('whitesmoke') \n",
    "        # Allows for the printing of full coordinates (no scientific notation)\n",
    "        plt.ticklabel_format(useOffset=False, style='plain') \n",
    "        # Creates a scatter plot with size 100 blue ellipses \n",
    "        ax.scatter(x, y, marker='.', color='blue', s=100) \n",
    "        # overlays a grid onto the plot\n",
    "        plt.grid() \n",
    "        \n",
    "    #for east-west profiles    \n",
    "    elif direction == 'ew':\n",
    "        fig, ax = plt.subplots(figsize=(15, 7))\n",
    "        plt.title(str(title_name))\n",
    "        plt.ylabel('Magnetic Anomaly (nT)')\n",
    "        plt.xlabel('Easting (m)')\n",
    "        plt.axhline(0,color='r',linestyle='--')\n",
    "        plt.xlim(min(x)-x_buffer,max(x)+x_buffer)\n",
    "        plt.ylim(min(y)-y_buffer,max(y)+y_buffer)\n",
    "        ax.set_facecolor('whitesmoke')\n",
    "        plt.ticklabel_format(useOffset=False, style='plain')\n",
    "        ax.scatter(x, y, marker='.', color='blue', s=100)\n",
    "        plt.grid()\n",
    "        \n",
    "        \n",
    "    return plot_profile_UTM"
   ]
  },
  {
   "cell_type": "markdown",
   "id": "026107ef",
   "metadata": {},
   "source": [
    "#### Plot Profiles Relative to Distance North"
   ]
  },
  {
   "cell_type": "code",
   "execution_count": null,
   "id": "41446674",
   "metadata": {},
   "outputs": [],
   "source": [
    "def plot_dist_north(x, y, direction, title_name, y_name, x_buffer, y_buffer):\n",
    "\n",
    "    fig, ax = plt.subplots(figsize=(15, 7)) #creates a fig with dimensions (W, H)\n",
    "    plt.title(str(title_name)) #Creates the title of the pplot - calls a input string (title_name)\n",
    "    plt.ylabel(str(y_name)) # y-label input - calls a input string (y_name)\n",
    "    plt.xlabel('Distance North (m)') # x-label \n",
    "    plt.axhline(0,color='r',linestyle='--') # Creates a horizontal line at zero\n",
    "    plt.xlim(min(x)-x_buffer,max(x)+x_buffer) # Imposes a limit to the x-axis using the min and max values plus a buffer \n",
    "    plt.ylim(min(y)-y_buffer,max(y)+y_buffer) # Imposes a limit to the y-axis using the min and max values plus a buffer \n",
    "    ax.set_facecolor('whitesmoke') # set the backgoround color of the plot\n",
    "    plt.ticklabel_format(useOffset=False, style='plain') # Allows for the printing of full coordinates (no scientific notation)\n",
    "    ax.scatter(x, y, marker='.', color='blue', s=100) # Creates a scatter plot with size 100 blue ellipses \n",
    "    plt.grid() # overlays a grid onto the plot\n",
    "        \n",
    "    return plot_dist_north"
   ]
  },
  {
   "cell_type": "markdown",
   "id": "dbbec177",
   "metadata": {},
   "source": [
    "<br>\n",
    "<br>\n",
    "<font size=\"12\"><font color = \"red\"> Processing Inputs and Visualizations\n",
    "    </font>"
   ]
  },
  {
   "cell_type": "markdown",
   "id": "a60f4d1a",
   "metadata": {},
   "source": [
    "### Import Gravity Data"
   ]
  },
  {
   "cell_type": "code",
   "execution_count": null,
   "id": "1efa76d1",
   "metadata": {},
   "outputs": [],
   "source": [
    "file_in = './input_data/TB_gravity.csv' #directory location of data file\n",
    "data_in = import_data(file_in) #import input data\n",
    "data_out = data_in.copy() #makes a copy of the input data to add new columns to\n",
    "print(data_out.head(1)) #print first five entries in the data"
   ]
  },
  {
   "cell_type": "markdown",
   "id": "6617f39b",
   "metadata": {},
   "source": [
    "### Import Additional Data For Plotting"
   ]
  },
  {
   "cell_type": "code",
   "execution_count": null,
   "id": "f0e8366a",
   "metadata": {},
   "outputs": [],
   "source": [
    "file_in_2 = './input_data/TB_outline_UTM.csv'\n",
    "data_2 = import_data(file_in_2)\n",
    "print(data_2.head(1))"
   ]
  },
  {
   "cell_type": "markdown",
   "id": "c1f7a0ae",
   "metadata": {},
   "source": [
    "### Find The Most Northern Station In The Gravity Data"
   ]
  },
  {
   "cell_type": "code",
   "execution_count": null,
   "id": "58fc67d9",
   "metadata": {},
   "outputs": [],
   "source": [
    "#Find maximum northing index for all days\n",
    "max_northing_index = np.argmax(data_in.northing)\n",
    "\n",
    "#Extract maximum northing value using the index value\n",
    "max_northing = data_in.northing[max_northing_index]\n",
    "\n",
    "print(data_in.values[max_northing_index])"
   ]
  },
  {
   "cell_type": "markdown",
   "id": "fea9fc58",
   "metadata": {},
   "source": [
    "### Solve For The Distance From The Most Northern Station"
   ]
  },
  {
   "cell_type": "code",
   "execution_count": null,
   "id": "2366da14",
   "metadata": {},
   "outputs": [],
   "source": [
    "#Solve for distance difference from most northern survey point.\n",
    "northing_difference = data_in.northing - max_northing # (m)\n",
    "\n",
    "#Add new column to data for the northing difference\n",
    "data_out['dist_north'] = northing_difference # (m)\n",
    "\n",
    "all_column_values = data_in.loc[[max_northing_index]] # (m)\n",
    "print(data_out.head(1)) #print first five entries in the data"
   ]
  },
  {
   "cell_type": "markdown",
   "id": "92bbf44f",
   "metadata": {},
   "source": [
    "### Solve For The Elevation Difference Between The Most Northern Gravity Station And All Other Stations"
   ]
  },
  {
   "cell_type": "code",
   "execution_count": null,
   "id": "5d2cf5aa",
   "metadata": {},
   "outputs": [],
   "source": [
    "#Extract maximum norhting value using the index value\n",
    "max_northing_el = data_in.el[max_northing_index] #(m)\n",
    "#print(\"Elevation value for the survey maximum northing = \", max_northing_el,'m',\"\\n\")\n",
    "\n",
    "#Solve for distance difference from most northern survey point.\n",
    "el_diff = data_in.el - max_northing_el #(m)\n",
    "\n",
    "#Add new column to data for the elevation difference\n",
    "data_out['el_diff'] = el_diff #(m)"
   ]
  },
  {
   "cell_type": "markdown",
   "id": "08a75c65",
   "metadata": {},
   "source": [
    "## Variable inputs"
   ]
  },
  {
   "cell_type": "code",
   "execution_count": null,
   "id": "d8f3be6c",
   "metadata": {},
   "outputs": [],
   "source": [
    "#base station values\n",
    "lat_base = data_in.lat[max_northing_index] # latitude of the most northern station\n",
    "h_base = data_in.el[max_northing_index] # meters\n",
    "corr_grav_base = data_in.drift_corr_grav[max_northing_index] # mGals\n",
    "\n",
    "#data variables\n",
    "long = data_in.lon # longitudes values for all gravity stations\n",
    "lat = data_in.lat #latitude values for all gravity stations\n",
    "utm_x = data_in.easting #eastings for all gravity stations\n",
    "utm_y = data_in.northing #northing for all gravity staitons\n",
    "elev = data_in.el #elevations for all gravity stations\n",
    "grav = data_in.drift_corr_grav #drift corrected gravity for all stations\n",
    "\n",
    "h_diff = elev-h_base # height (elevation) difference between the most northern station and all others\n",
    "lat_diff = lat - lat_base #difference in latitude from most northern stationa dn all others\n",
    "\n",
    "#Density for Simple Bouguer Slab calculation\n",
    "density = 2 #g/cm3"
   ]
  },
  {
   "cell_type": "markdown",
   "id": "a4a7e57d",
   "metadata": {},
   "source": [
    "## Calculate Theoretical, Atmospheric, Free-Air, and Bouguer Corrections"
   ]
  },
  {
   "cell_type": "code",
   "execution_count": null,
   "id": "6e0be5ad",
   "metadata": {},
   "outputs": [],
   "source": [
    "# Calls function and calculates the Theoretical gravity correction\n",
    "theoretical_corr = theo_corr(lat,lat_base)\n",
    "#Adds a new calumn to the data_out dataFrame for the Theoretical Gravity\n",
    "data_out['theoretical_gravity'] = theoretical_corr\n",
    "\n",
    "# Calls function and calculates the Atmospheric gravity correction\n",
    "atmospheric_corr = atmos_corr(elev)\n",
    "#Adds a new calumn to the data_out dataFrame for the Atmospheric gravity correction\n",
    "data_out['atmospheric_correction'] = atmospheric_corr\n",
    "\n",
    "# Calls function and calculates the Free-Air gravity correction\n",
    "FA_corr = free_air_corr(lat_diff,h_diff)\n",
    "#Adds a new calumn to the data_out dataFrame for the Free-Air gravity correction\n",
    "data_out['free_air_correction'] = FA_corr\n",
    "\n",
    "# Calls function and calculates the simple Bouguer gravity correction\n",
    "boug_corr = simple_bouguer_corr(h_diff,density)\n",
    "#Add a new column to data_out dataFrame for the Bouguer gravity correction\n",
    "data_out['bouguer_correction'] = boug_corr"
   ]
  },
  {
   "cell_type": "markdown",
   "id": "175e3273",
   "metadata": {},
   "source": [
    "## Calculate Free-Air and Bouguer Gravity Anomalies"
   ]
  },
  {
   "cell_type": "markdown",
   "id": "fecedf88",
   "metadata": {},
   "source": [
    "<b>Free-air gravity anomaly:</b>\n",
    "\n",
    "Free-air gravity anomaly: = (Observed Gravity- Drift Corrected Base Gravity) - Theoretical Gravity Correction - Free Air Correction + Atmospheric Correction\n",
    "\n",
    "<b>Bouguer gravity anamoly:</b>\n",
    "\n",
    "Bouguer gravity anamoly = Free-air Gravity Anomaly - Bouguer Correction\n",
    "<br>\n",
    "<br>"
   ]
  },
  {
   "cell_type": "code",
   "execution_count": null,
   "id": "a94d405b",
   "metadata": {},
   "outputs": [],
   "source": [
    "# Calculate the Free-Air anomaly\n",
    "free_air_anomaly = (grav - corr_grav_base) - theoretical_corr - FA_corr + atmospheric_corr\n",
    "#Add a new column to data_out dataFrame for the Free-Air gravity anomaly\n",
    "data_out['free_air_anomaly'] = free_air_anomaly\n",
    "\n",
    "# Calculate the simple Bouguer gravity anomaly (simple means no terrain correction was performed)\n",
    "bouguer_anomaly = free_air_anomaly - boug_corr\n",
    "#Add a new column to data_out dataFrame for the simple Bouguer gravity anomaly\n",
    "data_out['bouguer_gravity_anomaly'] = bouguer_anomaly\n",
    "\n",
    "print(data_out.head(1)) #print first five entries in output data file"
   ]
  },
  {
   "cell_type": "markdown",
   "id": "9a0b35fc",
   "metadata": {},
   "source": [
    "#### Save Output Data"
   ]
  },
  {
   "cell_type": "code",
   "execution_count": null,
   "id": "04e3ef5d",
   "metadata": {},
   "outputs": [],
   "source": [
    "data_out.to_csv( './output_data/corrected_gravity.csv')"
   ]
  },
  {
   "cell_type": "markdown",
   "id": "6743a615",
   "metadata": {},
   "source": [
    "# Visualize Corrected Gravity Data"
   ]
  },
  {
   "cell_type": "markdown",
   "id": "9748a2ac",
   "metadata": {},
   "source": [
    "## Makes Plots Relative To Distance North"
   ]
  },
  {
   "cell_type": "markdown",
   "id": "fb12331f",
   "metadata": {},
   "source": [
    "#### Copy output data and remove base station locations"
   ]
  },
  {
   "cell_type": "code",
   "execution_count": null,
   "id": "f666c3ef",
   "metadata": {},
   "outputs": [],
   "source": [
    "#make a copy of the final corrected data dataFrame\n",
    "new_data = data_out.copy()\n",
    "\n",
    "#Identify and drop the rows associated with the daily base stations\n",
    "new_data = new_data.drop(new_data[new_data.station_ID.str.contains(r'[PCaf]')].index) #creates new dataFrame without base stations\n",
    "new_data.reset_index(drop=True, inplace=True) #resests the index and drops the old index column\n",
    "\n",
    "print(new_data.head(1))"
   ]
  },
  {
   "cell_type": "markdown",
   "id": "eac61e6f",
   "metadata": {},
   "source": [
    "#### Distance north vs. elevation difference"
   ]
  },
  {
   "cell_type": "code",
   "execution_count": null,
   "id": "24a145b9",
   "metadata": {},
   "outputs": [],
   "source": [
    "x = new_data.dist_north\n",
    "y = new_data.el_diff\n",
    "direction = 'ns'\n",
    "title_name = 'Distance North vs. Elevation Difference'\n",
    "y_name = 'Elevation (m)'\n",
    "y_buffer = 10\n",
    "x_buffer = 1000\n",
    "\n",
    "plot_dist_north(x, y, direction, title_name, y_name, x_buffer, y_buffer)"
   ]
  },
  {
   "cell_type": "markdown",
   "id": "32003516",
   "metadata": {},
   "source": [
    "#### Drift Corrected Gravity vs. Distance North"
   ]
  },
  {
   "cell_type": "code",
   "execution_count": null,
   "id": "6feb3740",
   "metadata": {},
   "outputs": [],
   "source": [
    "x = new_data.dist_north\n",
    "y = new_data.drift_corr_grav\n",
    "direction = 'ns'\n",
    "title_name = 'Drift Corrected Gravity vs. Distance North'\n",
    "y_name = 'Latitude correction (m)'\n",
    "y_buffer = 10\n",
    "x_buffer = 1000\n",
    "\n",
    "plot_dist_north(x, y, direction, title_name, y_name, x_buffer, y_buffer)"
   ]
  },
  {
   "cell_type": "markdown",
   "id": "148d1b18",
   "metadata": {},
   "source": [
    "#### Free-Air Anomaly vs. Distance north"
   ]
  },
  {
   "cell_type": "code",
   "execution_count": null,
   "id": "be40435f",
   "metadata": {},
   "outputs": [],
   "source": [
    "x = new_data.dist_north\n",
    "y = new_data.free_air_anomaly\n",
    "direction = 'ns'\n",
    "title_name = 'Free-Air Anomaly vs. Distance North'\n",
    "y_name = 'Free-Air gravity anomaly (mGal)'\n",
    "y_buffer = 10\n",
    "x_buffer = 100\n",
    "\n",
    "plot_dist_north(x, y, direction, title_name, y_name, x_buffer, y_buffer)"
   ]
  },
  {
   "cell_type": "markdown",
   "id": "6423c9b4",
   "metadata": {},
   "source": [
    "#### Bouguer Anomaly vs. Distance north"
   ]
  },
  {
   "cell_type": "code",
   "execution_count": null,
   "id": "05a29f41",
   "metadata": {},
   "outputs": [],
   "source": [
    "x = new_data.dist_north\n",
    "y = new_data.bouguer_gravity_anomaly\n",
    "direction = 'ns'\n",
    "title_name = 'Bouguer Gravity Anomaly vs. Distance North'\n",
    "y_name = 'Bouguer Gravity Anomaly (mGal)'\n",
    "y_buffer = 10\n",
    "x_buffer = 1000\n",
    "\n",
    "plot_dist_north(x, y, direction, title_name, y_name, x_buffer, y_buffer)"
   ]
  },
  {
   "cell_type": "markdown",
   "id": "54927c01",
   "metadata": {},
   "source": [
    "## Plot E-W And N-S Trends Seperately"
   ]
  },
  {
   "cell_type": "markdown",
   "id": "49a0ce1f",
   "metadata": {},
   "source": [
    "#### Create copy of the gravity survey data and remove the base stations"
   ]
  },
  {
   "cell_type": "code",
   "execution_count": null,
   "id": "5e673dad",
   "metadata": {},
   "outputs": [],
   "source": [
    "#Creat two dataFrame sopies from the output data \n",
    "n_s_line = new_data.copy() #for extracting North-South gravity stations\n",
    "e_w_line = new_data.copy() #for extracting East-West gravity stations\n",
    "\n",
    "n_s_line = n_s_line.iloc[[0,1,2,3,4,5,6,7,13,14,15,16,17,18,19,20,21,22,23,30]] #extracting North-South gravity station\n",
    "n_s_line.reset_index(inplace=True) #resets index back to 0-n\n",
    "#print(n_s_line)\n",
    "\n",
    "e_w_line = e_w_line.iloc[[10,11,12,24,25,26,27,30]] #extracting East-West gravity station\n",
    "e_w_line.reset_index(inplace=True) #resets index back to 0-n\n",
    "#print(e_w_line)\n",
    "\n",
    "#Save each dataset\n",
    "#n_s_line.to_csv('./n_s_grav_out.csv')\n",
    "#e_w_line.to_csv('./e_w_grav_out.csv')"
   ]
  },
  {
   "cell_type": "markdown",
   "id": "a5e6ed7b",
   "metadata": {},
   "source": [
    "# Make Plots and Maps in UTM"
   ]
  },
  {
   "cell_type": "markdown",
   "id": "070dd1c1",
   "metadata": {},
   "source": [
    "####  N-S stations Bouguer Anomaly vs. Northing"
   ]
  },
  {
   "cell_type": "code",
   "execution_count": null,
   "id": "480e4b76",
   "metadata": {},
   "outputs": [],
   "source": [
    "x = n_s_line.northing\n",
    "y = n_s_line.bouguer_gravity_anomaly\n",
    "direction = 'ns'\n",
    "title_name = 'Bouguer Gravity Anomaly vs. Northing'\n",
    "y_name = 'Bouguer Gravity Anomaly (mGal)'\n",
    "y_buffer = 10\n",
    "x_buffer = 1000\n",
    "\n",
    "plot_profile_UTM(x, y, direction, title_name, y_name, x_buffer, y_buffer)"
   ]
  },
  {
   "cell_type": "markdown",
   "id": "e3534559",
   "metadata": {},
   "source": [
    "####  E-W stations Bouguer Anomaly vs. Northing"
   ]
  },
  {
   "cell_type": "code",
   "execution_count": null,
   "id": "385d4fcf",
   "metadata": {},
   "outputs": [],
   "source": [
    "x = e_w_line.easting\n",
    "y = e_w_line.bouguer_gravity_anomaly\n",
    "direction = 'ns'\n",
    "title_name = 'Bouguer Gravity Anomaly vs. Northing'\n",
    "y_name = 'Bouguer Gravity Anomaly (mGal)'\n",
    "y_buffer = 10\n",
    "x_buffer = 1000\n",
    "\n",
    "plot_profile_UTM(x, y, direction, title_name, y_name, x_buffer, y_buffer)"
   ]
  },
  {
   "cell_type": "markdown",
   "id": "d160c463",
   "metadata": {},
   "source": [
    "## Make UTM Plots with labels"
   ]
  },
  {
   "cell_type": "markdown",
   "id": "859b6510",
   "metadata": {},
   "source": [
    "###  E-W stations Bouguer Anomaly vs. Northing with station labels"
   ]
  },
  {
   "cell_type": "code",
   "execution_count": null,
   "id": "880fb3d5",
   "metadata": {},
   "outputs": [],
   "source": [
    "n_s_line['index1'] = n_s_line.index\n",
    "index = n_s_line.index\n",
    "x = n_s_line.northing\n",
    "y = n_s_line.bouguer_gravity_anomaly\n",
    "station = n_s_line.station_ID\n",
    "direction = 'ns'\n",
    "title_name = 'Bouguer Gravity Anomaly vs.Northing'\n",
    "y_name = 'Bouguer Gravity Anomaly (mGal)'\n",
    "y_buffer = 10\n",
    "x_buffer = 1000\n",
    "\n",
    "fig, ax = plt.subplots(figsize=(15, 7))\n",
    "plt.title(str(title_name))\n",
    "plt.ylabel(str(y_name))\n",
    "plt.xlabel('Northing (m)')\n",
    "plt.axhline(0,color='r',linestyle='--')\n",
    "plt.xlim(min(x)-x_buffer,max(x)+x_buffer)\n",
    "plt.ylim(min(y)-y_buffer,max(y)+y_buffer)\n",
    "ax.set_facecolor('whitesmoke')\n",
    "plt.ticklabel_format(useOffset=False, style='plain')\n",
    "\n",
    "# annotate lines\n",
    "for i,j,k in zip(x, y,'TBg_0'+station):\n",
    "    ax.text(i, j-1.8, k, family='sans-serif',\n",
    "            fontsize=8, color ='k', \n",
    "            ha='center', va='center', rotation='vertical')\n",
    "\n",
    "ax.scatter(x, y, marker='.', color='blue', s=100)\n",
    "plt.grid()\n",
    "plt.show()\n"
   ]
  },
  {
   "cell_type": "markdown",
   "id": "98a488d1",
   "metadata": {},
   "source": [
    "#### Save N-S profile"
   ]
  },
  {
   "cell_type": "code",
   "execution_count": null,
   "id": "832c7d71",
   "metadata": {},
   "outputs": [],
   "source": [
    "fig.savefig('./profiles/N-S_labeled_grav_profile')"
   ]
  },
  {
   "cell_type": "markdown",
   "id": "fcbdfd82",
   "metadata": {},
   "source": [
    "###  E-W stations Bouguer Anomaly vs. Easting with labels"
   ]
  },
  {
   "cell_type": "code",
   "execution_count": null,
   "id": "6dc2af13",
   "metadata": {},
   "outputs": [],
   "source": [
    "e_w_line['index1'] = e_w_line.index\n",
    "index = e_w_line.index\n",
    "x = e_w_line.easting\n",
    "y = e_w_line.bouguer_gravity_anomaly\n",
    "station = e_w_line.station_ID\n",
    "direction = 'ew'\n",
    "title_name = 'Bouguer Gravity Anomaly vs Easting'\n",
    "y_name = 'Bouguer Gravity Anomaly (mGal)'\n",
    "y_buffer = 10\n",
    "x_buffer = 1000\n",
    "\n",
    "#fig = plt.gcf()\n",
    "fig, ax = plt.subplots(figsize=(15, 7))\n",
    "plt.title(str(title_name))\n",
    "plt.ylabel(str(y_name))\n",
    "plt.xlabel('Easting (m)')\n",
    "plt.axhline(0,color='r',linestyle='--')\n",
    "plt.xlim(min(x)-x_buffer,max(x)+x_buffer)\n",
    "plt.ylim(min(y)-y_buffer,max(y)+y_buffer)\n",
    "ax.set_facecolor('whitesmoke')\n",
    "plt.ticklabel_format(useOffset=False, style='plain')\n",
    "\n",
    "# annotate lines\n",
    "for i,j,k in zip(x, y,'TBg_0'+station):\n",
    "    ax.text(i, j-1.8, k, family='sans-serif',\n",
    "            fontsize=8, color ='k', \n",
    "            ha='center', va='center', rotation='vertical')\n",
    "\n",
    "ax.scatter(x, y, marker='.', color='blue', s=100)\n",
    "plt.grid()\n",
    "plt.show()"
   ]
  },
  {
   "cell_type": "markdown",
   "id": "492d4285",
   "metadata": {},
   "source": [
    "#### Save E-W profile"
   ]
  },
  {
   "cell_type": "code",
   "execution_count": null,
   "id": "090b77f0",
   "metadata": {},
   "outputs": [],
   "source": [
    "fig.savefig('./profiles/E-W_labeled_grav_profile')"
   ]
  },
  {
   "cell_type": "markdown",
   "id": "08254f74",
   "metadata": {},
   "source": [
    "## UTM Location map with gravity locations"
   ]
  },
  {
   "cell_type": "code",
   "execution_count": null,
   "id": "494e4310",
   "metadata": {},
   "outputs": [],
   "source": [
    "def scale_bar(ax, length, location=(0.5, 0.05), linewidth=3):\n",
    "    '''\n",
    "    ax is the axes to draw the scalebar on.\n",
    "    length is the length of the scalebar in km.\n",
    "    location is center of the scalebar in axis coordinates.\n",
    "    (ie. 0.5 is the middle of the plot)\n",
    "    linewidth is the thickness of the scalebar.\n",
    "    '''\n",
    "    #designate crs for creating map coordinates (crs = Coordinate Reference System)\n",
    "    crs = ccrs.UTM(zone=\"12N\") #ccrs = cartopy coordinates system\n",
    "    \n",
    "    #Get the limits of the axis in lat long\n",
    "    llx0, llx1, lly0, lly1 = ax.get_extent(crs)\n",
    "\n",
    "    #Get the extent of the plotted area in coordinates in metres\n",
    "    x0, x1, y0, y1 = ax.get_extent(crs)\n",
    "    \n",
    "    #Turn the specified scalebar location into coordinates in metres\n",
    "    sbx = x0 + (x1 - x0) * location[0]\n",
    "    sby = y0 + (y1 - y0) * location[1]\n",
    "\n",
    "    #Calculate a scale bar length if none has been given\n",
    "    if not length: \n",
    "        length = (x1 - x0) / 5000 #in km\n",
    "        ndim = int(np.floor(np.log10(length))) #number of digits in number\n",
    "        length = round(length, -ndim) #round to 1sf\n",
    "        \n",
    "        #Returns numbers starting with the list\n",
    "        def scale_number(x):\n",
    "            if str(x)[0] in ['1', '2', '5']: return int(x)        \n",
    "            else: return scale_number(x - 10 ** ndim)\n",
    "        length = scale_number(length) \n",
    "\n",
    "    #Generate the x coordinate for the ends of the scalebar\n",
    "    bar_xs = [sbx - length * 500, sbx + length * 500]\n",
    "    \n",
    "    #Plot the scalebar\n",
    "    ax.plot(bar_xs, [sby, sby], transform=crs, color='white', linewidth=linewidth)\n",
    "    \n",
    "    #Plot the scalebar label\n",
    "    ax.text(sbx, sby, str(length) + ' km', transform=crs,\n",
    "            horizontalalignment='center', color='white',verticalalignment='bottom', fontsize = 16)\n",
    "\n",
    "def label_utm_grid():\n",
    "    ''' Warning: should only use with smaller area UTM maps '''\n",
    "    x_coords = [] #creates a list for the x coordinates\n",
    "    y_coords = [] #creates a list for the y coordinates\n",
    "    \n",
    "    ax = plt.gca()  # gca = get current axes\n",
    "    \n",
    "    #Create a zip object for x and y axis values and labels\n",
    "    for val,label in zip(ax.get_xticks(), ax.get_xticklabels()): #gets values and labels for xticks \n",
    "        label.set_text(str(val)) # creates the tick label\n",
    "        label.set_position((val,0))  #sets the position of the tick label\n",
    "        x_coords.append(val) #appends the value of the tick mark to the x coord list\n",
    "    \n",
    "    for val,label in zip(ax.get_yticks(), ax.get_yticklabels()):   \n",
    "        label.set_text(str(val))\n",
    "        label.set_position((0,val)) \n",
    "        y_coords.append(val)\n",
    "        \n",
    "    #Plot tick marks on the plot\n",
    "    plt.tick_params(bottom=True,top=True,left=True,right=True,\n",
    "            labelbottom=True,labeltop=False,labelleft=True,labelright=False)\n",
    "    \n",
    "    #Show x and y axis\n",
    "    ax.xaxis.set_visible(True)\n",
    "    ax.yaxis.set_visible(True)\n",
    "    \n",
    "    #overlays a grid to the plot\n",
    "    plt.grid(True)\n",
    "    \n",
    "    return x_coords, y_coords\n",
    "    \n",
    "def plot_sample_points(data, data_2, zoom, buffer, style):\n",
    "    fig = plt.figure(figsize=(20,15))\n",
    "    tiler = GoogleTiles(style=style)\n",
    "    mercator = tiler.crs\n",
    "    crs = ccrs.UTM(zone=\"12N\")\n",
    "    ax = plt.axes(projection=crs)\n",
    "   \n",
    "    \n",
    "    #Set map extent\n",
    "    stations = data.station_ID\n",
    "    easting = data.easting\n",
    "    northing = data.northing\n",
    "    station = data.station_ID\n",
    "    easting_min = min(easting) - buffer\n",
    "    easting_max = max(easting) + buffer\n",
    "    northing_min = min(northing) - buffer\n",
    "    northing_max = max(northing) + buffer\n",
    "    extent = (easting_min, easting_max, northing_min, northing_max)\n",
    "    ax.set_extent(extent,crs=crs)\n",
    "\n",
    "    ax.add_image(tiler, zoom)\n",
    "        \n",
    "    plt.plot(easting, northing, marker='.', color='yellow', linestyle='None',\n",
    "             markersize=10, alpha=0.7, transform=crs)\n",
    "    \n",
    "    plt.plot(data_2.easting, data_2.northing, marker='.', color='k', \n",
    "             linestyle='-', markersize=2, alpha=0.7, transform=crs)\n",
    "       \n",
    "    x_lines, y_lines = label_utm_grid()\n",
    "    \n",
    "    for i in range(len(y_lines)):\n",
    "        plt.hlines(y_lines[i], easting_min, easting_max, linewidth=0.5, color='k')\n",
    "    for i in range(len(x_lines)):\n",
    "        plt.vlines(x_lines[i], northing_min, northing_max, linewidth=0.5, color='k')\n",
    "    \n",
    "    ax.ticklabel_format(useOffset=False, style='plain')\n",
    "    \n",
    "    # annotate lines\n",
    "    for i,j,k in zip(easting,northing,station):\n",
    "        ax.text(i, j, 'TBg 0'+k, family='sans-serif',\n",
    "                fontsize=8, color ='white', \n",
    "                ha='left', va='baseline',\n",
    "                transform=crs)\n",
    "        \n",
    "    #plot a N array\n",
    "    x, y, arrow_length = 0.1, 0.15, .03\n",
    "    ax.annotate('N', xy=(x, y), xytext=(x, y-(arrow_length*2)),family='sans-serif', \n",
    "                color ='white', \n",
    "                arrowprops=dict(facecolor='white',width=5, headwidth=15), \n",
    "                ha='center', va='center', \n",
    "                fontsize=28, xycoords=ax.transAxes)\n",
    "    \n",
    "    plt.xlabel('Easting (m)' )\n",
    "    plt.ylabel('Northing (m)')\n",
    "\n",
    "    scale_bar(ax, 2)\n",
    "    plt.show()\n",
    "    \n",
    "    return fig"
   ]
  },
  {
   "cell_type": "markdown",
   "id": "c6c7962e",
   "metadata": {},
   "source": [
    "#### UTM Location Map Inputs"
   ]
  },
  {
   "cell_type": "code",
   "execution_count": null,
   "id": "434894a4",
   "metadata": {
    "scrolled": true
   },
   "outputs": [],
   "source": [
    "############################### BEGIN USER INPUTS #############################\n",
    "\n",
    "zoom_level = 15  #Don't go higher than 18 if avoidable\n",
    "map_edge_buffer = 2000 # keep between 500-2000 for UTM coordintes\n",
    "map_background = 'satellite' #‘satellite’, ‘terrain’, ‘street’, ‘only_streets'\n",
    " \n",
    "############################### END USER INPUTS ###############################\n",
    "\n",
    "#>>>>>>>>>>>>>>>>>>>>>>>>>>>>>> OUTPUT <<<<<<<<<<<<<<<<<<<<<<<<<<<<<<<<<<<<<<<#  \n",
    "\n",
    "#Call function to create map\n",
    "location_map = plot_sample_points(new_data, data_2, zoom_level, map_edge_buffer, map_background)\n",
    "\n",
    "location_map.savefig('./maps/gravity_location_map.png')"
   ]
  },
  {
   "cell_type": "markdown",
   "id": "a5f32568",
   "metadata": {},
   "source": [
    "## UTM Bubble Plot Of Corrected Gravity With Feature Outline"
   ]
  },
  {
   "cell_type": "code",
   "execution_count": null,
   "id": "e57c6e0f",
   "metadata": {},
   "outputs": [],
   "source": [
    "#Create variables for plotting\n",
    "eastings = new_data.easting # UTM eastings (m)\n",
    "northings = new_data.northing # UTM northings (m)\n",
    "eastings_2 = data_2.easting # UTM easting of feature outline (m)\n",
    "northings_2 = data_2.northing # UTM northings of feature outline (m)\n",
    "gravity = new_data.bouguer_gravity_anomaly # calculated simple Bouguer gravity anoamly\n",
    "\n",
    "#list comprhension for calculating sizes of scatter plot points based on gravity Bouguer gravity\n",
    "s_linear = [5**gravity[n] for n in range(len(gravity))] #\n",
    "\n",
    "\n",
    "fig, ax = plt.subplots(figsize=(16, 16)) #Create figure with size (W,H) and denote axis\n",
    "ax.set_facecolor('whitesmoke') #Set backgound color\n",
    "\n",
    "#create a bubble scatter plot of the gravity points\n",
    "ax.scatter(eastings, northings, #input varibles created above\n",
    "           s=s_linear, # s = size, determined based on ampplitude ogf Bouguer gravity \n",
    "           c=s_linear, #value used in cmap - based on size value\n",
    "           cmap='coolwarm', #color map (red-blue) used for scatter points\n",
    "           linewidth=2, # Width of edge line of scatter plot points\n",
    "           edgecolor='black', # edge color of scatter plot points\n",
    "           alpha=0.4) # #change transpernecy of scatter plot points (1 = solid color, 0 = not visible)\n",
    "\n",
    "ax.plot(eastings_2, northings_2, color='black') #plot feature outline\n",
    "ax.ticklabel_format(useOffset=False, style='plain') #Show full tick mark values (no scientific notation)\n",
    "plt.axis('scaled') #Sets x&y scales equal by changing the dimensions of the plot box instead of the axis data limits\n",
    "plt.xlabel('Easting (m)') # x-label\n",
    "plt.ylabel('Northing (m)') #y-label\n",
    "plt.xlim(min(eastings)-3000, max(eastings)+3000) # set x-axis limits (lowest_value, highest_value) with abuffer of 3000\n",
    "plt.ylim(min(northings)-2000, max(northings)+2000)  # set y-axis limits (lowest_value, highest_value) with abuffer of 2000\n",
    "plt.grid() #overlays a grid to the plot\n",
    "plt.show()"
   ]
  },
  {
   "cell_type": "markdown",
   "id": "b7438428",
   "metadata": {},
   "source": [
    "#### Save Bubble Plot"
   ]
  },
  {
   "cell_type": "code",
   "execution_count": null,
   "id": "ae813b03",
   "metadata": {},
   "outputs": [],
   "source": [
    "fig.savefig('./maps/gravity_bubble_plot_UTM')"
   ]
  },
  {
   "cell_type": "markdown",
   "id": "b2fa55d4",
   "metadata": {},
   "source": [
    "# Make Plots and Maps in Lat/Lon"
   ]
  },
  {
   "cell_type": "markdown",
   "id": "37a2c017",
   "metadata": {},
   "source": [
    "####  N-S stations Bouguer Anomaly vs. Latitude"
   ]
  },
  {
   "cell_type": "code",
   "execution_count": null,
   "id": "ef16617f",
   "metadata": {},
   "outputs": [],
   "source": [
    "x = n_s_line.lat\n",
    "y = n_s_line.bouguer_gravity_anomaly\n",
    "direction = 'ns'\n",
    "title_name = 'Bouguer Gravity Anomaly vs. Distance North'\n",
    "y_name = 'Bouguer Gravity Anomaly (mGal)'\n",
    "y_buffer = 10\n",
    "x_buffer = 0.01\n",
    "\n",
    "plot_profile_lat_lon(x, y, direction, title_name, y_name, x_buffer, y_buffer)"
   ]
  },
  {
   "cell_type": "markdown",
   "id": "887d9feb",
   "metadata": {},
   "source": [
    "####  E-W stations Bouguer Anomaly vs. Longitude"
   ]
  },
  {
   "cell_type": "code",
   "execution_count": null,
   "id": "92f55283",
   "metadata": {},
   "outputs": [],
   "source": [
    "x = e_w_line.lon\n",
    "y = e_w_line.bouguer_gravity_anomaly\n",
    "direction = 'ew'\n",
    "title_name = 'Bouguer Gravity Anomaly vs. Distance North'\n",
    "y_name = 'Bouguer Gravity Anomaly (mGal)'\n",
    "y_buffer = 10\n",
    "x_buffer = 0.01\n",
    "\n",
    "plot_profile_lat_lon(x, y, direction, title_name, y_name, x_buffer, y_buffer)"
   ]
  },
  {
   "cell_type": "markdown",
   "id": "86127d12",
   "metadata": {},
   "source": [
    "#### Lat/Lon Location map with gravity locations"
   ]
  },
  {
   "cell_type": "code",
   "execution_count": null,
   "id": "f6ab41c4",
   "metadata": {},
   "outputs": [],
   "source": [
    "def scale_bar(ax, length, location=(0.5, 0.05), linewidth=3):\n",
    "    \"\"\"\n",
    "    ax is the axes to draw the scalebar on.\n",
    "    length is the length of the scalebar in km.\n",
    "    location is center of the scalebar in axis coordinates.\n",
    "    (ie. 0.5 is the middle of the plot)\n",
    "    linewidth is the thickness of the scalebar.\n",
    "    \"\"\"\n",
    "    #Get the limits of the axis in lat long\n",
    "    llx0, llx1, lly0, lly1 = ax.get_extent(ccrs.Geodetic())\n",
    "    #Make tmc horizontally centred on the middle of the map,\n",
    "    #vertically at scale bar location\n",
    "    sbllx = (llx1 + llx0) / 2\n",
    "    sblly = lly0 + (lly1 - lly0) * location[1]\n",
    "    tmc = ccrs.TransverseMercator(sbllx, sblly)\n",
    "    #Get the extent of the plotted area in coordinates in metres\n",
    "    x0, x1, y0, y1 = ax.get_extent(tmc)\n",
    "    #Turn the specified scalebar location into coordinates in metres\n",
    "    sbx = x0 + (x1 - x0) * location[0]\n",
    "    sby = y0 + (y1 - y0) * location[1]\n",
    "\n",
    "    #Calculate a scale bar length if none has been given\n",
    "    #(Theres probably a more pythonic way of rounding the number but this works)\n",
    "    if not length: \n",
    "        length = (x1 - x0) / 5000 #in km\n",
    "        ndim = int(np.floor(np.log10(length))) #number of digits in number\n",
    "        length = round(length, -ndim) #round to 1sf\n",
    "        #Returns numbers starting with the list\n",
    "        def scale_number(x):\n",
    "            if str(x)[0] in ['1', '2', '5']: return int(x)        \n",
    "            else: return scale_number(x - 10 ** ndim)\n",
    "        length = scale_number(length) \n",
    "\n",
    "    #Generate the x coordinate for the ends of the scalebar\n",
    "    bar_xs = [sbx - length * 500, sbx + length * 500]\n",
    "    #Plot the scalebar\n",
    "    ax.plot(bar_xs, [sby, sby], transform=tmc, color='white', linewidth=linewidth)\n",
    "    #Plot the scalebar label\n",
    "    ax.text(sbx, sby, str(length) + ' km', transform=tmc,\n",
    "            horizontalalignment='center', color='white',verticalalignment='bottom', fontsize = 16)\n",
    "    \n",
    "def plot_sample_points(data, data_2, zoom, buffer, style):\n",
    "    fig = plt.figure(figsize=(20,15))\n",
    "    tiler = GoogleTiles(style=style)\n",
    "    mercator = tiler.crs\n",
    "    ax = plt.axes(projection=tiler.crs)\n",
    "\n",
    "    #Set map extent\n",
    "    lon = data.lon\n",
    "    lat = data.lat\n",
    "    station = data.station_ID\n",
    "    lon_min = min(lon) - buffer\n",
    "    lon_max = max(lon) + buffer\n",
    "    lat_min = min(lat) - buffer\n",
    "    lat_max = max(lat) + buffer\n",
    "    ax.set_extent((lon_min, lon_max, lat_min, lat_max))\n",
    "    ax.add_image(tiler, zoom)\n",
    "        \n",
    "    plt.plot(lon, lat, marker='.', color='yellow', linestyle='None', markersize=10, alpha=0.7, transform=ccrs.Geodetic())\n",
    "    plt.plot(data_2.lon, data_2.lat, marker='.', color='k', linestyle='-', markersize=2, alpha=0.7, transform=ccrs.Geodetic())\n",
    "    \n",
    "    # annotate lines\n",
    "    for i,j,k in zip(lon,lat,station):\n",
    "        ax.text(i, j, 'TBg 0'+k, family='sans-serif',\n",
    "                fontsize=8, color ='white', \n",
    "                ha='left', va='bottom',\n",
    "                transform=ccrs.Geodetic())\n",
    "    #plot a N array\n",
    "    x, y, arrow_length = 0.1, 0.15, .03\n",
    "    ax.annotate('N', xy=(x, y), xytext=(x, y-(arrow_length*2)),family='sans-serif', \n",
    "                color ='white', \n",
    "                arrowprops=dict(facecolor='white',width=5, headwidth=15), \n",
    "                ha='center', va='center', \n",
    "                fontsize=28, xycoords=ax.transAxes)\n",
    "\n",
    "    gl = ax.gridlines(draw_labels=True)\n",
    "    gl.top_labels = False\n",
    "    gl.right_labels = False\n",
    "    scale_bar(ax, 2)\n",
    "     \n",
    "    plt.show()\n",
    "    \n",
    "    return fig"
   ]
  },
  {
   "cell_type": "markdown",
   "id": "b1d3b7bf",
   "metadata": {},
   "source": [
    "#### Lat/Lon Location Map Inputs"
   ]
  },
  {
   "cell_type": "code",
   "execution_count": null,
   "id": "633afc12",
   "metadata": {},
   "outputs": [],
   "source": [
    "############################### BEGIN USER INPUTS #############################\n",
    "\n",
    "zoom_level = 15  #Don't go higher than 18 if avoidable\n",
    "map_edge_buffer = 0.07 # keep small (under .005) for GPS lat/lon coordintes\n",
    "map_background = 'satellite' #‘satellite’, ‘terrain’, ‘street’, ‘only_streets'\n",
    " \n",
    "############################### END USER INPUTS ###############################\n",
    "\n",
    "#>>>>>>>>>>>>>>>>>>>>>>>>>>>>>> OUTPUT <<<<<<<<<<<<<<<<<<<<<<<<<<<<<<<<<<<<<<<#  \n",
    "\n",
    "location_map = plot_sample_points(new_data, data_2, zoom_level, map_edge_buffer, map_background)\n",
    "\n",
    "#transect_map.savefig('./maps/location_transects.png')"
   ]
  },
  {
   "cell_type": "markdown",
   "id": "60d43cbd",
   "metadata": {},
   "source": [
    "#### Lat/Lon Bubble plot of corrected gravity with feature outline"
   ]
  },
  {
   "cell_type": "code",
   "execution_count": null,
   "id": "724b5ab2",
   "metadata": {},
   "outputs": [],
   "source": [
    "#Create variables for plotting\n",
    "lon = new_data.lon # UTM eastings (m)\n",
    "lat = new_data.lat # UTM northings (m)\n",
    "lon_2 = data_2.lon # UTM easting of feature outline (m)\n",
    "lat_2 = data_2.lat # UTM northings of feature outline (m)\n",
    "gravity = new_data.bouguer_gravity_anomaly # calculated simple Bouguer gravity anoamly\n",
    "\n",
    "#list comprhension for calculating sizes of scatter plot points based on gravity Bouguer gravity\n",
    "s_linear = [5**gravity[n] for n in range(len(gravity))] #\n",
    "\n",
    "\n",
    "fig, ax = plt.subplots(figsize=(20, 15)) #Create figure with size (W,H) and denote axis\n",
    "ax.set_facecolor('whitesmoke') #Set backgound color\n",
    "\n",
    "#create a bubble scatter plot of the gravity points\n",
    "ax.scatter(lon, lat, #input varibles created above\n",
    "           s=s_linear, # s = size, determined based on ampplitude ogf Bouguer gravity \n",
    "           c=s_linear, #value used in cmap - based on size value\n",
    "           cmap='coolwarm', #color map (red-blue) used for scatter points\n",
    "           linewidth=2, # Width of edge line of scatter plot points\n",
    "           edgecolor='black', # edge color of scatter plot points\n",
    "           alpha=0.4) # #change transpernecy of scatter plot points (1 = solid color, 0 = not visible)\n",
    "\n",
    "ax.plot(lon_2,lat_2, color='black') #plot feature outline\n",
    "ax.ticklabel_format(useOffset=False, style='plain') #Show full tick mark values (no scientific notation)\n",
    "plt.axis('scaled') #Sets x&y scales equal by changing the dimensions of the plot box instead of the axis data limits\n",
    "plt.xlabel('Easting (m)') # x-label\n",
    "plt.ylabel('Northing (m)') #y-label\n",
    "plt.xlim(min(lon)-0.02, max(lon)+0.02) # set x-axis limits (lowest_value, highest_value) with a buffer of 0.02\n",
    "plt.ylim(min(lat)-0.02, max(lat)+0.02)  # set y-axis limits (lowest_value, highest_value) with a buffer of 0.02\n",
    "plt.grid() #overlays a grid to the plot\n"
   ]
  }
 ],
 "metadata": {
  "kernelspec": {
   "display_name": "Python 3 (ipykernel)",
   "language": "python",
   "name": "python3"
  },
  "language_info": {
   "codemirror_mode": {
    "name": "ipython",
    "version": 3
   },
   "file_extension": ".py",
   "mimetype": "text/x-python",
   "name": "python",
   "nbconvert_exporter": "python",
   "pygments_lexer": "ipython3",
   "version": "3.10.10"
  }
 },
 "nbformat": 4,
 "nbformat_minor": 5
}
