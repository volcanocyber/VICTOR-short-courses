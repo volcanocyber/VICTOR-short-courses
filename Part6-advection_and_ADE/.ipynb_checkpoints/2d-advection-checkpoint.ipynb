{
 "cells": [
  {
   "cell_type": "markdown",
   "id": "2d0c88e7",
   "metadata": {},
   "source": [
    "# Victor 2D: combining diffusion and linear advection / linear convection\n",
    "\n",
    "### Diffusion equation in finite differences\n",
    "\n",
    "We saw that 2D diffusion equation can be represented by algebraic expressions that are easily solved using finite differences. In 2D Cartesian coordinates, the diffusion equation is:\n",
    "\n",
    "$$\\frac{\\partial T}{\\partial t} = \\alpha \\left [ \\frac{\\partial^2 T}{\\partial x^2} +  \\frac{\\partial^2 T}{\\partial y^2} \\right ] $$\n",
    "\n",
    "Assuming that $\\Delta x = \\Delta y = s$\n",
    "\n",
    "$$T_{i,j}^{k+1} = T_{i,j}^{k} + \\frac{\\Delta t \\alpha}{s^2} \n",
    "\\left [ T_{i,j-1}^k + T_{i-1,j}^k  - 4T_{i,j}^k + T_{i+1,j}^k + T_{i,j+1}^k   \\right ] $$\n",
    "\n",
    "The maximum time step depends on the grid spacing and the diffusivity:\n",
    "\n",
    "$$\\Delta t_{max} = \\frac{\\Delta x^2 \\Delta y^2 }{2 \\alpha (\\Delta x^2 + \\Delta y^2)} = \\frac{s^2}{4 \\alpha}$$\n",
    "\n",
    "\n",
    "### Advection in finite differences\n",
    "\n",
    "Linear convection is the process of transporting material (gas, water, particles) in an externally applied field. For example, tephra particles are transported in a wind field. This is an advection problem if one assumes the tephra particles have no impact on the wind field and diffusion of tephra particles is neglected. Advection is sometimes referred to as forced convection. Both phrases mean that the velocity field is determined independently of the partcles / fluid being transported.\n",
    "\n",
    "Although the concept is simple, it is useful to write out the differential equation for advection:\n",
    "$$\\frac{\\partial T}{\\partial t} + w  \\frac{\\partial T}{\\partial x} +  v \\frac{\\partial T}{\\partial y} = 0$$\n",
    "\n",
    "In this case we are updating the concentration $T$, or the temperature in the following examples. For example, consider a packet of hot air being blown in a windfield, or a \"packet\" of water transported in a groundwater transport problem. \n",
    "\n",
    "Assuming that $\\Delta x = \\Delta y = s$\n",
    "\n",
    "$$T_{i,j}^{k+1} = T_{i,j}^{k} - w \\frac{\\Delta t}{s} \n",
    "\\left [ T_{i,j}^k - T_{i-1,j}^k \\right ] - v \\frac{\\Delta t}{s} \n",
    "\\left [ T_{i,j}^k - T_{i,j-1}^k \\right ]$$\n",
    "\n",
    "In this case, \n",
    "\n",
    "$$\\Delta t_{max} = \\frac{s}{2 \\times \\text{max}(w,v)} $$\n",
    "\n",
    "This discretization assumes that $w$ and $v$ are positive. That is, the updated value in the cell depends on the values in the cells that are \"up wind\". The solution does not work if the values of $w$ or $v$ are negative. That is, the cells downwind from cell($i,j$) do not contain information about what will flow into that cell in the next step.\n",
    "\n",
    "\n",
    "### Simplified script for solution to the 2D advection equation"
   ]
  },
  {
   "cell_type": "code",
   "execution_count": 1,
   "id": "e34fb7f8",
   "metadata": {},
   "outputs": [],
   "source": [
    "import numpy as np\n",
    "import matplotlib.pyplot as plt"
   ]
  },
  {
   "cell_type": "code",
   "execution_count": 2,
   "id": "9f35c0c8",
   "metadata": {},
   "outputs": [],
   "source": [
    "# 2D advection finite difference\n",
    "# this equation only works if w_x and v_y are positive\n",
    "def one_time_step_2D_linear_convection(u0, u, w_x, v_y, dt, dx, dy):\n",
    "    u[1:, 1:] = u0[1:, 1:] - w_x * dt * (u0[1:, 1:] - u0[1:, :-1])/dx - v_y * dt * (u0[1:, 1:] - u0[:-1,1:])/dy\n",
    "    u0 = u.copy()\n",
    "    return u0, u"
   ]
  },
  {
   "cell_type": "code",
   "execution_count": 3,
   "id": "d15bde10",
   "metadata": {},
   "outputs": [],
   "source": [
    "#run a simple test\n",
    "\n",
    "#specify model space\n",
    "w = h = 5000.\n",
    "# intervals in x-, y- directions, m\n",
    "dx = dy = 10\n",
    "# set the wind speed\n",
    "w_x = 10 # m/s\n",
    "v_y = 10 # m/s\n",
    "\n",
    "Tcool, Thot = 200, 1200\n",
    "\n",
    "nx, ny = int(w/dx), int(h/dy)\n",
    "dt = dx/(2*max(w_x, v_y))\n",
    "\n",
    "u0 = Tcool*np.ones((nx, ny))\n",
    "u = u0.copy()\n",
    "\n",
    "u0[200:300, 200:300] = Thot\n"
   ]
  },
  {
   "cell_type": "markdown",
   "id": "e41f77f1",
   "metadata": {},
   "source": [
    "### Here is the starting condition"
   ]
  },
  {
   "cell_type": "code",
   "execution_count": 4,
   "id": "deed1480",
   "metadata": {},
   "outputs": [
    {
     "data": {
      "image/png": "[encoded data removed]",
      "text/plain": [
       "<Figure size 432x288 with 2 Axes>"
      ]
     },
     "metadata": {
      "needs_background": "light"
     },
     "output_type": "display_data"
    },
    {
     "name": "stdout",
     "output_type": "stream",
     "text": [
      "time elapsed =  0 s\n"
     ]
    }
   ],
   "source": [
    "plt.imshow(u0, cmap='jet', vmin=Tcool,vmax=Thot)\n",
    "plt.colorbar()\n",
    "plt.show()\n",
    "print (\"time elapsed = \", 0, \"s\")\n"
   ]
  },
  {
   "cell_type": "markdown",
   "id": "bdc7d05a",
   "metadata": {},
   "source": [
    "### Run through time"
   ]
  },
  {
   "cell_type": "code",
   "execution_count": 5,
   "id": "a94dafee",
   "metadata": {},
   "outputs": [],
   "source": [
    "# Number of timesteps\n",
    "nsteps = 300\n",
    "\n",
    "for m in range(nsteps):\n",
    "    u0, u = one_time_step_2D_linear_convection(u0, u, w_x, v_y, dt, dx, dy)\n"
   ]
  },
  {
   "cell_type": "code",
   "execution_count": 6,
   "id": "4e5d1369",
   "metadata": {},
   "outputs": [
    {
     "data": {
      "image/png": "[encoded data removed]",
      "text/plain": [
       "<Figure size 432x288 with 2 Axes>"
      ]
     },
     "metadata": {
      "needs_background": "light"
     },
     "output_type": "display_data"
    },
    {
     "name": "stdout",
     "output_type": "stream",
     "text": [
      "time elapsed =  150.0 s\n"
     ]
    }
   ],
   "source": [
    "plt.imshow(u0, cmap='jet', vmin=Tcool,vmax=Thot)\n",
    "plt.colorbar()\n",
    "plt.show()\n",
    "print (\"time elapsed = \", nsteps*dt, \"s\")\n"
   ]
  },
  {
   "cell_type": "markdown",
   "id": "adc49e8e",
   "metadata": {},
   "source": [
    "The results make sense generally because the starting box has moved (advected) to the SE in positive $w, v$ directions. Note that there is diffusion of the box as a result of the numerical approximation of the advection. This is referred to as numerical diffusion. It is an artifact of the numerical approximation to the advection equation. Try adjusting the size of the grid ($w,h$) and the cell spacing ($dx, dy$) to see the change in numerical diffusion as a function of the elapsed time ($nsteps \\times dt$). Although roughly correct, this method of solving the advection equation is generally unstable, for reasons developed in the following. So do not use this simple approach. What happens when you change one or both wind speeds to be negative numbers?"
   ]
  },
  {
   "cell_type": "markdown",
   "id": "55aeb622",
   "metadata": {},
   "source": [
    "### Solve for the problem of wind direction\n",
    "\n",
    "This solution is quite close to the previous solution but solves the problem of wind direction (positive or negative) in a straightforward way\n",
    "\n",
    "$$T_i^{k+1} = T_i^k - \\frac{\\Delta t}{\\Delta x} \\left [ F_{i+1/2}^k - F_{i-1/2}^k\\right ] $$\n",
    "where:\n",
    "$$F_{i + 1/2}^k = \\frac{w_x}{2}(T_{i+1}^k + T_{i}^k) - \\frac{| w_x |}{2} (T_{i+1}^k - T_{i}^k)$$\n",
    "$$F_{i - 1/2}^k = \\frac{w_x}{2}(T_{i-1}^k + T_{i}^k) - \\frac{| w_x |}{2} (T_{i-1}^k - T_{i}^k)$$\n",
    "Working through the algebra:\n",
    "\n",
    "If $w_x > 0$:\n",
    "$$T_i^{k+1} = T_i^k - \\frac{w_x \\Delta t}{\\Delta x}\\left [ T_{i}^k - T_{i-1}^k\\right ] $$\n",
    "\n",
    "If $w_x < 0$:\n",
    "$$T_i^{k+1} = T_i^k + \\frac{w_x \\Delta t}{\\Delta x}\\left [ T_{i+1}^k - T_{i}^k\\right ] $$\n",
    "\n",
    "If $w_x = 0$:\n",
    "$$T_i^{k+1} = T_i^k $$\n"
   ]
  },
  {
   "cell_type": "code",
   "execution_count": 7,
   "id": "f4f9a52c",
   "metadata": {},
   "outputs": [],
   "source": [
    "# 2D advection finite difference\n",
    "# this equation only works if w_x and v_y are positive or negative\n",
    "def one_time_step_1D_linear_convection_staggered(u0, u, w_x, dt, dx):\n",
    "  \n",
    "    if w_x > 0:\n",
    "        u[1:] = u0[1:] - dt/dx * (u0[1:] - u0[:-1]) \n",
    "    elif w_x < 0:\n",
    "        u[:-1] = u0[:-1] + dt/dx * (u0[1:] - u0[:-1])\n",
    "    else:\n",
    "        u0[:] = u[:]\n",
    "   \n",
    "    u0 = u.copy()\n",
    "    return u0, u"
   ]
  },
  {
   "cell_type": "code",
   "execution_count": 8,
   "id": "598eb76c",
   "metadata": {},
   "outputs": [],
   "source": [
    "#run a simple test\n",
    "\n",
    "#specify model space\n",
    "w = 5000.\n",
    "# intervals in x-, y- directions, m\n",
    "dx = 10\n",
    "# set the wind speed\n",
    "w_x = -10 # m/s\n",
    "\n",
    "\n",
    "Tcool, Thot = 200, 1200\n",
    "\n",
    "nx = int(w/dx)\n",
    "dt = dx/(2*abs(w_x))\n",
    "\n",
    "u0 = Tcool*np.ones((nx))\n",
    "u = u0.copy()\n",
    "\n",
    "u0[250:300] = Thot\n",
    "\n",
    "x = np.linspace(-w/2*dx,w/2*dx, nx)\n",
    "u_start = u0.copy()"
   ]
  },
  {
   "cell_type": "code",
   "execution_count": 9,
   "id": "70ccdd1b",
   "metadata": {},
   "outputs": [],
   "source": [
    "# Number of timesteps\n",
    "nsteps = 3000\n",
    "\n",
    "for m in range(nsteps):\n",
    "    u0, u = one_time_step_1D_linear_convection_staggered(u0, u, w_x, dt, dx)"
   ]
  },
  {
   "cell_type": "code",
   "execution_count": 10,
   "id": "882edc07",
   "metadata": {},
   "outputs": [
    {
     "data": {
      "image/png": "[encoded data removed]",
      "text/plain": [
       "<Figure size 432x288 with 1 Axes>"
      ]
     },
     "metadata": {
      "needs_background": "light"
     },
     "output_type": "display_data"
    },
    {
     "name": "stdout",
     "output_type": "stream",
     "text": [
      "windspeed =  -10\n",
      "time step =  0.5 s\n",
      "elapsed time =  1500.0 s\n"
     ]
    }
   ],
   "source": [
    "plt.plot(x, u_start)\n",
    "plt.plot(x,u0)\n",
    "plt.xlabel(\"Displacement (m)\")\n",
    "plt.ylabel(\"Concentration\")\n",
    "plt.show()\n",
    "print(\"windspeed = \", w_x)\n",
    "print(\"time step = \", dt, \"s\")\n",
    "print(\"elapsed time = \", dt*nsteps, \"s\")"
   ]
  },
  {
   "cell_type": "markdown",
   "id": "f0fd47d5",
   "metadata": {},
   "source": [
    "###  two step Lax - Wendroff scheme for the 1D advection equation\n",
    "\n",
    "The previous example solves the problem of wind direction, but the numerical diffusion remains a problem! The Lax-Wendroff method solves this problem using a two step process. The finite difference approximation to the 1D advection equation becomes:\n",
    "\n",
    "$$T_{i}^{k+1} = T_{i}^{k}  - \\alpha \\left [\\frac{1}{2} (T_{i+ 1 }^{k} + T_{i}^{k})\n",
    " - \\frac{1}{2} \\alpha (T_{i+ 1 }^{k} - T_{i}^{k}) \n",
    "- \\frac{1}{2} (T_{i}^{k} + T_{i-1}^{k}) \n",
    "+ \\frac{1}{2} \\alpha (T_{i}^{k} - T_{i-1}^{k}) \n",
    "\\right ] $$\n",
    "\n",
    "where:\n",
    "\n",
    "$$\\alpha = \\frac{w \\Delta t}{\\Delta x} $$\n",
    "\n",
    "and the method is numerically stable for\n",
    "\n",
    "$$\\Delta t \\le \\frac{\\Delta x}{| w |} $$"
   ]
  },
  {
   "cell_type": "code",
   "execution_count": 11,
   "id": "caef9394",
   "metadata": {},
   "outputs": [],
   "source": [
    "def LaxWendroff1Dadvection(u0, u, w_x, dt, dx):\n",
    "    alpha = w_x*dt/dx\n",
    "    u[1:-1] = u0[1:-1]- alpha*(1/2*(u0[2:]+u0[1:-1])\n",
    "                             - 1/2 * alpha*(u0[2:]-u0[1:-1])\n",
    "                             - 1/2* (u0[1:-1]+u0[:-2]) \n",
    "                              + 1/2 * alpha * (u0[1:-1]-u0[:-2]))\n",
    "    u0 = u.copy()\n",
    "    return u0, u"
   ]
  },
  {
   "cell_type": "code",
   "execution_count": 12,
   "id": "d95893a6",
   "metadata": {},
   "outputs": [],
   "source": [
    "#run a simple test\n",
    "\n",
    "#specify model space\n",
    "w = 5000.\n",
    "# intervals in x-, y- directions, m\n",
    "dx = 1\n",
    "# set the wind speed\n",
    "w_x = -10 # m/s\n",
    "\n",
    "\n",
    "Tcool, Thot = 200, 1200\n",
    "\n",
    "nx = int(w/dx)\n",
    "dt = dx/(abs(w_x))\n",
    "\n",
    "u0 = Tcool*np.ones((nx))\n",
    "u = u0.copy()\n",
    "\n",
    "u0[2500:3000] = Thot\n",
    "\n",
    "x = np.linspace(-w/2*dx,w/2*dx, nx)\n",
    "u_start = u0.copy()"
   ]
  },
  {
   "cell_type": "code",
   "execution_count": 13,
   "id": "fd5e11c5",
   "metadata": {},
   "outputs": [],
   "source": [
    "# Number of timesteps\n",
    "nsteps = 2000\n",
    "\n",
    "for m in range(nsteps):\n",
    "    u0, u = LaxWendroff1Dadvection(u0, u, w_x, dt, dx)"
   ]
  },
  {
   "cell_type": "code",
   "execution_count": 14,
   "id": "e0a9d6cf",
   "metadata": {},
   "outputs": [
    {
     "data": {
      "image/png": "[encoded data removed]",
      "text/plain": [
       "<Figure size 432x288 with 1 Axes>"
      ]
     },
     "metadata": {
      "needs_background": "light"
     },
     "output_type": "display_data"
    },
    {
     "name": "stdout",
     "output_type": "stream",
     "text": [
      "windspeed =  -10\n",
      "time step =  0.1 s\n",
      "elapsed time =  200.0 s\n"
     ]
    }
   ],
   "source": [
    "plt.plot(x, u_start)\n",
    "plt.plot(x,u0)\n",
    "plt.xlabel(\"Displacement (m)\")\n",
    "plt.ylabel(\"Concentration\")\n",
    "plt.show()\n",
    "print(\"windspeed = \", w_x)\n",
    "print(\"time step = \", dt, \"s\")\n",
    "print(\"elapsed time = \", dt*nsteps, \"s\")"
   ]
  },
  {
   "cell_type": "markdown",
   "id": "10f0c150",
   "metadata": {},
   "source": [
    "### Go to 2D with the two step Lax - Wendroff scheme for the advection equation\n",
    "\n"
   ]
  },
  {
   "cell_type": "code",
   "execution_count": 15,
   "id": "c66be163",
   "metadata": {},
   "outputs": [],
   "source": [
    "def LaxWendroff2Dadvection(u0, u, w_x, v_y, dt, dx, dy):\n",
    "    a_x = w_x*dt/dx\n",
    "    a_y = v_y*dt/dy\n",
    "    \n",
    "    term_x = np.zeros_like(u0)\n",
    "    term_y = np.zeros_like(u0)\n",
    "    \n",
    "    term_y[1:-1,1:-1]=a_y*(1/2*(u0[2:,1:-1] + u0[1:-1, 1:-1])\n",
    "                           -1/2*a_y*(u0[2:,1:-1] - u0[1:-1, 1:-1])\n",
    "                           -1/2*(u0[1:-1, 1:-1] + u0[:-2, 1:-1])\n",
    "                           + 1/2*a_y*(u0[1:-1, 1:-1] - u0[:-2, 1:-1]))\n",
    "    \n",
    "    term_x[1:-1,1:-1]=a_x*(1/2*(u0[1:-1, 2:] + u0[1:-1, 1:-1])\n",
    "                           -1/2*a_x*(u0[1:-1, 2:] - u0[1:-1, 1:-1])\n",
    "                           -1/2*(u0[1:-1, 1:-1] + u0[1:-1, :-2])\n",
    "                           + 1/2*a_x*(u0[1:-1, 1:-1] - u0[1:-1,:-2]))\n",
    "   \n",
    "    u[1:-1,1:-1] = u0[1:-1,1:-1] - term_x[1:-1,1:-1] - term_y[1:-1,1:-1]\n",
    "    \n",
    "    u0 = u.copy()\n",
    "    \n",
    "    return u0, u"
   ]
  },
  {
   "cell_type": "code",
   "execution_count": 129,
   "id": "ab52ebf1",
   "metadata": {},
   "outputs": [
    {
     "name": "stdout",
     "output_type": "stream",
     "text": [
      "0.08\n"
     ]
    }
   ],
   "source": [
    "#run a simple test\n",
    "\n",
    "#specify model space\n",
    "w = h = 5000.\n",
    "# intervals in x-, y- directions, m\n",
    "dx = dy = 10\n",
    "# set the wind speed\n",
    "w_x = -5 # m/s\n",
    "v_y = -5 # m/s\n",
    "\n",
    "Tcool, Thot = 200, 1200\n",
    "\n",
    "nx, ny = int(w/dx), int(h/dy)\n",
    "dt = dx/(25*abs(w_x))\n",
    "print (dt)\n",
    "u0 = Tcool*np.ones((nx, ny))\n",
    "u = u0.copy()\n",
    "\n",
    "u0[int(nx/2)-10:int(nx/2)+10, int(ny/2) - 10: int(ny/2) + 10] = Thot\n"
   ]
  },
  {
   "cell_type": "code",
   "execution_count": 130,
   "id": "d543860b",
   "metadata": {},
   "outputs": [
    {
     "data": {
      "image/png": "[encoded data removed]",
      "text/plain": [
       "<Figure size 432x288 with 2 Axes>"
      ]
     },
     "metadata": {
      "needs_background": "light"
     },
     "output_type": "display_data"
    },
    {
     "name": "stdout",
     "output_type": "stream",
     "text": [
      "time elapsed =  0 s\n"
     ]
    }
   ],
   "source": [
    "plt.imshow(u0, cmap='jet', vmin=Tcool,vmax=Thot)\n",
    "plt.colorbar()\n",
    "plt.show()\n",
    "print (\"time elapsed = \", 0, \"s\")\n"
   ]
  },
  {
   "cell_type": "code",
   "execution_count": 131,
   "id": "53544397",
   "metadata": {},
   "outputs": [],
   "source": [
    "# Number of timesteps\n",
    "nsteps = 5000\n",
    "for m in range(nsteps):\n",
    "    u0, u = LaxWendroff2Dadvection(u0, u, w_x, v_y, dt, dx, dy)\n",
    "    u0[int(nx/2)-10:int(nx/2)+10, int(ny/2) - 10: int(ny/2) + 10] = Thot"
   ]
  },
  {
   "cell_type": "code",
   "execution_count": 132,
   "id": "f13c355f",
   "metadata": {},
   "outputs": [
    {
     "data": {
      "image/png": "[encoded data removed]",
      "text/plain": [
       "<Figure size 432x288 with 2 Axes>"
      ]
     },
     "metadata": {
      "needs_background": "light"
     },
     "output_type": "display_data"
    },
    {
     "name": "stdout",
     "output_type": "stream",
     "text": [
      "time elapsed =  400.0 s\n"
     ]
    }
   ],
   "source": [
    "plt.imshow(u0, cmap='jet', vmin=Tcool,vmax=Thot)\n",
    "plt.colorbar()\n",
    "plt.show()\n",
    "print (\"time elapsed = \", nsteps*dt, \"s\")\n"
   ]
  },
  {
   "cell_type": "markdown",
   "id": "261361b3",
   "metadata": {},
   "source": [
    "Hmmm, still a bit unstable, but not SO BAD."
   ]
  },
  {
   "cell_type": "code",
   "execution_count": null,
   "id": "5c64899e",
   "metadata": {},
   "outputs": [],
   "source": []
  }
 ],
 "metadata": {
  "kernelspec": {
   "display_name": "Python 3",
   "language": "python",
   "name": "python3"
  },
  "language_info": {
   "codemirror_mode": {
    "name": "ipython",
    "version": 3
   },
   "file_extension": ".py",
   "mimetype": "text/x-python",
   "name": "python",
   "nbconvert_exporter": "python",
   "pygments_lexer": "ipython3",
   "version": "3.8.8"
  }
 },
 "nbformat": 4,
 "nbformat_minor": 5
}
