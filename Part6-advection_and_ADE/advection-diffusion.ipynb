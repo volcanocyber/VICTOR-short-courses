{
 "cells": [
  {
   "cell_type": "markdown",
   "id": "1138b01c",
   "metadata": {},
   "source": [
    "## Victor: Advection - Diffusion equation and implementation in 2D\n",
    "\n",
    "Tephra fallout is most often modeled using the advection-diffusion equation. It is important to realize that this equation is used in a wide variety of problem solving activities in hazard assessment, including radionuclide dispersion in the atmosphere and contaminant transport in groundwater. For tephra fallout, the advection-diffusion equation is expressed by a simplified mass-conservation equation:\n",
    "\\begin{equation}\n",
    "\\frac{\\partial C_j}{\\partial t}+w_{x}\\frac{\\partial C_j}{\\partial x}+w_{y}\\frac{\\partial C_j}{\\partial y}-v_{l,j}\\frac{\\partial C_j}{\\partial z}=K\\frac{\\partial^{2} C_j}{\\partial x^{2}}+K\\frac{\\partial^{2} C_j}{\\partial y^{2}}+\\Phi\n",
    "\\end{equation}\n",
    "where, $x$, $y$, and $z$ are spatial coordinates expressed in meters; $C_{j}$ is the mass concentration of particles (kg\\,m$^{-3}$) of a given particle size class, $j$; $w_{x}$ and $w_{y}$ are the $x$ and $y$ components of the wind velocity (m\\,s$^{-1}$); $K$ is a horizontal diffusion coefficient for tephra in the atmosphere (m$^{2}$ s$^{-1}$); $v_{l,j}$ is the terminal settling velocity (m\\,s$^{-1}$) for particles of size class, $j$, as these particles fall through a level in the atmosphere, $l$; $\\Phi$ is the change in particle concentration at the source with time, $t$ (kg\\,m$^{-3}$\\,s$^{-1}$). In this expression, negligible vertical wind velocity and negligible vertical diffusion are assumed. Also, a constant and isotropic horizontal diffusion coefficient ($K$ = $K_{x}$ = $K_{y}$) is assumed.  The terminal settling velocity, $v$, is calculated for each particle size, $j$, at each atmospheric level, $l$, as a function of the particle's Reynolds number, which varies with atmospheric density. Wind velocity is allowed to vary as a function of height in the atmosphere, and may vary laterially within a specific atmospheric level.\n",
    "\n",
    "Consider the units of this partial differential equation. For example,$\\frac{\\partial C}{\\partial t}$ describes the change in concentration of tephra within some volume of space as a function of time. Dimensionally, $\\frac{\\partial C}{\\partial t} = M/(L^3T)$, where $M$ is mass, $L$ is length, and $T$ is time. Similarly, the wind velocity $w = L/T$, dimensionally, and the diffusion coefficient $K=L^2/T$. Replacing the notion in the above equation with dimensions gives:\n",
    "\\begin{equation}\n",
    "\\frac{M}{L^3 T} + \\frac{L}{T} \\frac{M}{L^4} + \\frac{L}{T} \\frac{M}{L^4} - \\frac{L}{T} \\frac{M}{L^4} =  \\frac{L^2}{T} \\frac{M}{L^5} + \\frac{L^2}{T} \\frac{M}{L^5} + \\frac{M}{L^3T}\n",
    "\\end{equation}\n",
    "\n",
    "### Forget the settling velocity for now!\n",
    "To implement the advection - diffusion equation in 2D, we can drop the settling velocity term (or think of it as making the settling velocity = 0.\n",
    "\\begin{equation}\n",
    "\\frac{\\partial C_j}{\\partial t}+w_{x}\\frac{\\partial C_j}{\\partial x}+w_{y}\\frac{\\partial C_j}{\\partial y}=K\\frac{\\partial^{2} C_j}{\\partial x^{2}}+K\\frac{\\partial^{2} C_j}{\\partial y^{2}}+\\Phi\n",
    "\\end{equation}\n",
    "Prove to yourself that the units still work out fine.\n",
    "\n",
    "### Implementation in finite differences\n",
    "Since we have already implemented the diffusion equation in 2D, and already implemented the advection equation in 2D, using finite differences, it is no problem to combine these solutions algebraically.\n",
    "\n",
    "\n",
    "In fact, in the following we use the same functions developed previously:"
   ]
  },
  {
   "cell_type": "code",
   "execution_count": 1,
   "id": "087571fe",
   "metadata": {},
   "outputs": [],
   "source": [
    "import numpy as np\n",
    "import matplotlib.pyplot as plt"
   ]
  },
  {
   "cell_type": "code",
   "execution_count": 3,
   "id": "318f4e9d",
   "metadata": {},
   "outputs": [],
   "source": [
    "# basic implementation of advection - diffusion\n",
    "\n",
    "#2D advection - from Numerical Recipes - roughly\n",
    "def LaxWendroff2Dadvection(u0, u, w_x, v_y, dt, dx, dy):\n",
    "    a_x = w_x*dt/dx\n",
    "    a_y = v_y*dt/dy\n",
    "    \n",
    "    term_x = np.zeros_like(u0)\n",
    "    term_y = np.zeros_like(u0)\n",
    "    \n",
    "    term_y[1:-1,1:-1]=a_y*(1/2*(u0[2:,1:-1] + u0[1:-1, 1:-1])\n",
    "                           -1/2*a_y*(u0[2:,1:-1] - u0[1:-1, 1:-1])\n",
    "                           -1/2*(u0[1:-1, 1:-1] + u0[:-2, 1:-1])\n",
    "                           + 1/2*a_y*(u0[1:-1, 1:-1] - u0[:-2, 1:-1]))\n",
    "    \n",
    "    term_x[1:-1,1:-1]=a_x*(1/2*(u0[1:-1, 2:] + u0[1:-1, 1:-1])\n",
    "                           -1/2*a_x*(u0[1:-1, 2:] - u0[1:-1, 1:-1])\n",
    "                           -1/2*(u0[1:-1, 1:-1] + u0[1:-1, :-2])\n",
    "                           + 1/2*a_x*(u0[1:-1, 1:-1] - u0[1:-1,:-2]))\n",
    "   \n",
    "    u[1:-1,1:-1] = u0[1:-1,1:-1] - term_x[1:-1,1:-1] - term_y[1:-1,1:-1]\n",
    "    \n",
    "    u0 = u.copy()\n",
    "    \n",
    "    return u0, u\n",
    "\n",
    "# 2D diffusion finite difference - from Numerical Recipes - roughly\n",
    "def one_time_step_2D_diffusion(u0, u, D, dt, dx2, dy2):\n",
    "    # Propagate with forward-difference in time, central-difference in space\n",
    "    u[1:-1, 1:-1] = u0[1:-1, 1:-1] + D * dt * (\n",
    "          (u0[2:, 1:-1] - 2*u0[1:-1, 1:-1] + u0[:-2, 1:-1])/dx2\n",
    "          + (u0[1:-1, 2:] - 2*u0[1:-1, 1:-1] + u0[1:-1, :-2])/dy2 )\n",
    "\n",
    "    u0 = u.copy()\n",
    "    return u0, u\n"
   ]
  },
  {
   "cell_type": "markdown",
   "id": "6e390ef1",
   "metadata": {},
   "source": [
    "### Test run\n",
    "We develop a simple test run for the advection-diffusion model. A source, $\\Phi$, is placed near the center of the grid, in this case emitting heat. \n",
    "\n",
    "This simple model led to some problems in the stability criterion for $\\Delta t$. the criterion used in the following is too simple, not general enough, but works ok for this problem.\n",
    "\n",
    "Note that velocity terms (advection) and a diffusivity term (diffusion) are specified:"
   ]
  },
  {
   "cell_type": "code",
   "execution_count": 11,
   "id": "d38b47e0",
   "metadata": {},
   "outputs": [
    {
     "name": "stdout",
     "output_type": "stream",
     "text": [
      "time step =  0.2\n"
     ]
    }
   ],
   "source": [
    "#run a simple test\n",
    "\n",
    "#specify model space\n",
    "w = h = 5000.\n",
    "# intervals in x-, y- directions, m\n",
    "dx = dy = 10\n",
    "dx2 = dx*dx\n",
    "dy2 = dy*dy\n",
    "\n",
    "# set the wind speed\n",
    "w_x = -5 # m/s\n",
    "v_y = -5 # m/s\n",
    "\n",
    "Tcool, Thot = 200, 1200\n",
    "\n",
    "nx, ny = int(w/dx), int(h/dy)\n",
    "dt = dx/(10*abs(w_x)) #this time step needs to be improved!\n",
    "\n",
    "D = 50 #m2/s\n",
    "\n",
    "u0 = Tcool*np.ones((nx, ny))\n",
    "u = u0.copy()\n",
    "\n",
    "u0[int(nx/2)-10:int(nx/2)+10, int(ny/2) - 10: int(ny/2) + 10] = Thot\n",
    "print (\"time step = \", dt)"
   ]
  },
  {
   "cell_type": "markdown",
   "id": "37afe575",
   "metadata": {},
   "source": [
    "### Iterate\n",
    "\n",
    "The following code steps through time, Note that advection is run first by calling the two step Lax-Wendroff finite difference solution, then the 2D diffusion function is called. That way the functions do not need to be re-written, and a bonus is that the diffusion removes some numerical instability in the advection term with each iteration, for the chosen value of $\\Delta t$, which was found by experimentation.\n",
    "\n",
    "After these function calls, more material/heat is added at the source cells for each iteration.\n"
   ]
  },
  {
   "cell_type": "code",
   "execution_count": 12,
   "id": "5e31ff2f",
   "metadata": {},
   "outputs": [],
   "source": [
    "# Number of timesteps\n",
    "nsteps = 1500\n",
    "for m in range(nsteps):\n",
    "    u0, u = LaxWendroff2Dadvection(u0, u, w_x, v_y, dt, dx, dy)\n",
    "    u0,u = one_time_step_2D_diffusion(u0, u, D, dt, dx2, dy2)\n",
    "    u0[int(nx/2)-10:int(nx/2)+10, int(ny/2) - 10: int(ny/2) + 10] = Thot"
   ]
  },
  {
   "cell_type": "code",
   "execution_count": 13,
   "id": "9000e463",
   "metadata": {},
   "outputs": [
    {
     "data": {
      "image/png": "[encoded data removed]",
      "text/plain": [
       "<Figure size 640x480 with 2 Axes>"
      ]
     },
     "metadata": {},
     "output_type": "display_data"
    },
    {
     "name": "stdout",
     "output_type": "stream",
     "text": [
      "time elapsed =  300.0 s\n"
     ]
    }
   ],
   "source": [
    "plt.imshow(u0, cmap='jet', vmin=Tcool,vmax=Thot)\n",
    "plt.colorbar()\n",
    "plt.savefig(\"./advection-diffusion1.png\", dpi=300)\n",
    "plt.show()\n",
    "\n",
    "print (\"time elapsed = \", nsteps*dt, \"s\")\n"
   ]
  },
  {
   "cell_type": "markdown",
   "id": "ba903cd5",
   "metadata": {},
   "source": [
    "### getting a more realistic model\n",
    "\n",
    "The following script is exactly the same, but changes the location of the source, and allows the wind-field to vary spatially. Note that this is accomplished by modifying the Lax-Wendroff advection function."
   ]
  },
  {
   "cell_type": "code",
   "execution_count": 6,
   "id": "c258ad31",
   "metadata": {},
   "outputs": [],
   "source": [
    "# basic implementation of advection - diffusion\n",
    "\n",
    "def LaxWendroff2Dadvection(u0, u, w_x, v_y, dt, dx, dy):\n",
    "    a_x = dt/dx\n",
    "    a_y = dt/dy\n",
    "    \n",
    "    term_x = np.zeros_like(u0)\n",
    "    term_y = np.zeros_like(u0)\n",
    "    \n",
    "    term_y[1:-1,1:-1]=a_y*v_y[1:-1, 1:-1]*(1/2*(u0[2:,1:-1] + u0[1:-1, 1:-1])\n",
    "                           -1/2*a_y*v_y[1:-1, 1:-1]*(u0[2:,1:-1] - u0[1:-1, 1:-1])\n",
    "                           -1/2*(u0[1:-1, 1:-1] + u0[:-2, 1:-1])\n",
    "                           + 1/2*a_y*v_y[1:-1, 1:-1]*(u0[1:-1, 1:-1] - u0[:-2, 1:-1]))\n",
    "    \n",
    "    term_x[1:-1,1:-1]=a_x*w_x[1:-1, 1:-1]*(1/2*(u0[1:-1, 2:] + u0[1:-1, 1:-1])\n",
    "                           -1/2*a_x*w_x[1:-1, 1:-1]*(u0[1:-1, 2:] - u0[1:-1, 1:-1])\n",
    "                           -1/2*(u0[1:-1, 1:-1] + u0[1:-1, :-2])\n",
    "                           + 1/2*a_x*w_x[1:-1, 1:-1]*(u0[1:-1, 1:-1] - u0[1:-1,:-2]))\n",
    "   \n",
    "    u[1:-1,1:-1] = u0[1:-1,1:-1] - term_x[1:-1,1:-1] - term_y[1:-1,1:-1]\n",
    "    \n",
    "    u0 = u.copy()\n",
    "    \n",
    "    return u0, u\n",
    "\n",
    "# 2D diffusion finite difference - from Gerya (Numerical Geodynamic Modelling)\n",
    "def one_time_step_2D_diffusion(u0, u, D, dt, dx2, dy2):\n",
    "    # Propagate with forward-difference in time, central-difference in space\n",
    "    u[1:-1, 1:-1] = u0[1:-1, 1:-1] + D * dt * (\n",
    "          (u0[2:, 1:-1] - 2*u0[1:-1, 1:-1] + u0[:-2, 1:-1])/dx2\n",
    "          + (u0[1:-1, 2:] - 2*u0[1:-1, 1:-1] + u0[1:-1, :-2])/dy2 )\n",
    "\n",
    "    u0 = u.copy()\n",
    "    return u0, u\n",
    "\n"
   ]
  },
  {
   "cell_type": "code",
   "execution_count": 7,
   "id": "b6faa4b5",
   "metadata": {},
   "outputs": [
    {
     "name": "stdout",
     "output_type": "stream",
     "text": [
      "time step =  0.25\n"
     ]
    }
   ],
   "source": [
    "#run a simple test\n",
    "\n",
    "#specify model space\n",
    "w = h = 5000.\n",
    "# intervals in x-, y- directions, m\n",
    "dx = dy = 10\n",
    "dx2 = dx*dx\n",
    "dy2 = dy*dy\n",
    "\n",
    "\n",
    "\n",
    "Tcool, Thot = 200, 1200\n",
    "\n",
    "nx, ny = int(w/dx), int(h/dy)\n",
    "dt = dx/(8*5) #this time step needs to be improved!\n",
    "\n",
    "D = 100 #m2/s\n",
    "\n",
    "u0 = Tcool*np.ones((nx, ny))\n",
    "u = u0.copy()\n",
    "v_y = -5 * np.ones((nx, ny))\n",
    "w_x = 0 * np.ones((nx, ny))\n",
    "for i in range (0,nx):\n",
    "    w_x[i:,1:-1] = -(nx - float(i))/100\n",
    "\n",
    "\n",
    "\n",
    "u0[nx - 10: nx, int(4*ny/5)-10:int(4*ny/5)+10] = Thot\n",
    "print (\"time step = \", dt)"
   ]
  },
  {
   "cell_type": "code",
   "execution_count": 8,
   "id": "614273ac",
   "metadata": {},
   "outputs": [],
   "source": [
    "# Number of timesteps\n",
    "nsteps = 4000\n",
    "for m in range(nsteps):\n",
    "    u0, u = LaxWendroff2Dadvection(u0, u, w_x, v_y, dt, dx, dy)\n",
    "    u0,u = one_time_step_2D_diffusion(u0, u, D, dt, dx2, dy2)\n",
    "    u0[nx - 10: nx, int(4*ny/5)-10:int(4*ny/5)+10] = Thot  #constant source"
   ]
  },
  {
   "cell_type": "code",
   "execution_count": 9,
   "id": "fea9876c",
   "metadata": {},
   "outputs": [
    {
     "data": {
      "image/png": "[encoded data removed]",
      "text/plain": [
       "<Figure size 432x288 with 2 Axes>"
      ]
     },
     "metadata": {
      "needs_background": "light"
     },
     "output_type": "display_data"
    },
    {
     "name": "stdout",
     "output_type": "stream",
     "text": [
      "time elapsed =  1000.0 s\n"
     ]
    }
   ],
   "source": [
    "plt.imshow(u0, cmap='jet', vmin=Tcool,vmax=Thot)\n",
    "plt.colorbar()\n",
    "plt.savefig(\"./advection-diffusion2.png\", dpi=300)\n",
    "plt.show()\n",
    "\n",
    "print (\"time elapsed = \", nsteps*dt, \"s\")\n"
   ]
  },
  {
   "cell_type": "markdown",
   "id": "8ff62d7f",
   "metadata": {},
   "source": [
    "### More Applications\n",
    "\n",
    "1. The above code might work for showing particle concentraton in a bent-over volcanic plume in the atmosphere. The rise velocity, $v_y$, in the above implementation is constant. How would you modify the code to make the plume bend over at a given height? Consider using a simplified version of Briggs' equation where the maximum plume centerline height is:\n",
    "$$h_{max} = 2.4 \\left [\\frac{F}{us} \\right ]^{1/3} $$\n",
    "and $F$ is the buoyancy parameter (e.g., 20000 m$^4$/s$^3$), $u$ is the horizontal wind velocity (e.g., 4 m/s), and $s$ is the atmospheric stability factor (e.g., $2 \\times 10^{-4}$ s$^{-2}$).\n",
    "\n",
    "2. Consider a gas advection and diffusion in dry volcanic systems. Bouyancy-driven flow velocities can be calculated:\n",
    "\n",
    "$$v_y = \\frac{-k}{\\mu} \\left [ \\frac{dP_T}{dy} + \\rho(P_T) g\\right ] $$\n",
    "where $k$ is permeability (m$^2$), $\\mu$ is viscosity (Pa s), $P_T$ is the total gas pressure in pore spaces (Pa), $\\rho$ is the gas density (kg/m$^3$) and is a function of the total pressure, and $g$ is gravity (m/s$^{2}$). $\\rho(P_T)$ might be found using the ideal gas law:\n",
    "$$\\rho(P_T) = \\frac{P_T M}{RT} $$\n",
    "watch the units here(!): density (g/liter (L)), pressure in atmospheres, temperature in Kelvin, and the gas constant is 0.0821 L atm/mol K. How might you implement these expressions in the advection-diffusion model?\n"
   ]
  },
  {
   "cell_type": "code",
   "execution_count": null,
   "id": "5ab3f050",
   "metadata": {},
   "outputs": [],
   "source": []
  },
  {
   "cell_type": "code",
   "execution_count": null,
   "id": "a29e31c8",
   "metadata": {},
   "outputs": [],
   "source": []
  }
 ],
 "metadata": {
  "kernelspec": {
   "display_name": "Python [conda env:notebook] *",
   "language": "python",
   "name": "conda-env-notebook-py"
  },
  "language_info": {
   "codemirror_mode": {
    "name": "ipython",
    "version": 3
   },
   "file_extension": ".py",
   "mimetype": "text/x-python",
   "name": "python",
   "nbconvert_exporter": "python",
   "pygments_lexer": "ipython3",
   "version": "3.10.11"
  }
 },
 "nbformat": 4,
 "nbformat_minor": 5
}
