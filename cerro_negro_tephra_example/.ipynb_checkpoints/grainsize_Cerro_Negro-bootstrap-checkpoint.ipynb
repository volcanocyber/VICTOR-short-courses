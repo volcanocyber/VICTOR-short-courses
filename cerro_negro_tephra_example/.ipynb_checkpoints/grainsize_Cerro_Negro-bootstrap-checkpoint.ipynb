{
 "cells": [
  {
   "cell_type": "markdown",
   "metadata": {},
   "source": [
    "## Investigate the Cerro Negro Median grainsize as a function of distance from the volcano using a bootstrap.\n",
    "\n",
    "\n",
    "Median grainsize is expected to decrease as a function of distance from a volcano within a given tephra layer. The grainsize tells volcano scientists about the explosivity of the volcanic eruption and is useful for forecasting future volcanic hazards. \n",
    "\n",
    "In the following:\n",
    "\n",
    "The grainsize distribution is compared for two tephra layers located the same distance from the volcano. The grainsize of differences between the layers correlates with their explosisivity in this case, with the coarse grained layer corresponding to the more explosive, more voluminous erupiton.\n",
    "\n",
    "A simple plot is made to show the the change in median grainsize with distance from the volcano with dfferent layers\n",
    "\n",
    "A ordinary least squares model is fit to the data to estimate the median grainsize at the vent (the intercept) based on the rate of change in median grainsize with distance.\n",
    "\n",
    "A bootstrap method is demonstrated to show the uncertainty in the median grainsize at the vent given the sparse data that we have.\n",
    "\n",
    "The first step is to learn about the input data\n",
    "\n",
    "\n",
    "### Metadata\n",
    "\n",
    "The data were collected after the 1992 eruption of Cerro Negro volcano (Nicaragua) to learn more about eruption source parameters (ESPs). The data file consists of 21 columns these are:\n",
    "\n",
    "1. Sample ID - this simply a number corresponding to a specific sample location. In some cases more than one sample is collected at a specific location, so the sample ID is repeated in the data set. One location has one sample ID.\n",
    "\n",
    "2. Layer - The 1992 eruption occurred in 2 phases and these two phases deposited 2 layers which can be distinguished in some stratigraphic sections. The layers are \"a\" and \"b\". Layer a is stratigraphically below layer b. The first phase of the eruption deposited layer a, then there was a pause, followed by a second eruption that deposited layer b. In some sections the layers are not distinguished. For example, far from the volcano it is difficult to know if a layer is a or b. These layers are designated layer \"m\", for mixed. But they are probably not actually mixed, they are just not distinguished. Think of M as a combined measurement.\n",
    "\n",
    "3. easting - this is the UTM easting location of the Sample ID location (m)\n",
    "\n",
    "4. northing - this is the UTM northing of the Sample ID location (m)\n",
    "\n",
    "5. total(kg/m2) - this is the mass loading in kg/m2 dry deposit observed at each Sample ID location and for each layer (a,b, of m). Mass loading can be converted to thickness since the deposit density is 1000 kg/m3\n",
    "\n",
    "6-21. This is the mass loading by grainsize, from phi class equal to or coarser than $-4 \\phi$ (coarse particles) to fine particles $>3 \\phi$, seived in $1/2 \\phi$ increments. If one adds the phi size mass loadings together, one should get the total (column 5). This can be used as a check on the data quality.\n",
    "\n",
    "So the column headers are specific parameters, the rows are analyses associated with each sample location. The index goes from zero to the total number of observations. Sample ID is not used as an index because often two samples are collected at each location."
   ]
  },
  {
   "cell_type": "code",
   "execution_count": 1,
   "metadata": {},
   "outputs": [],
   "source": [
    "import pandas as pd\n",
    "import numpy as np\n",
    "from scipy import stats\n",
    "from statsmodels.formula.api import ols"
   ]
  },
  {
   "cell_type": "code",
   "execution_count": 2,
   "metadata": {},
   "outputs": [
    {
     "data": {
      "text/html": [
       "<div>\n",
       "<style scoped>\n",
       "    .dataframe tbody tr th:only-of-type {\n",
       "        vertical-align: middle;\n",
       "    }\n",
       "\n",
       "    .dataframe tbody tr th {\n",
       "        vertical-align: top;\n",
       "    }\n",
       "\n",
       "    .dataframe thead th {\n",
       "        text-align: right;\n",
       "    }\n",
       "</style>\n",
       "<table border=\"1\" class=\"dataframe\">\n",
       "  <thead>\n",
       "    <tr style=\"text-align: right;\">\n",
       "      <th></th>\n",
       "      <th>sample</th>\n",
       "      <th>layer</th>\n",
       "      <th>easting</th>\n",
       "      <th>northing</th>\n",
       "      <th>total(kg/m2)</th>\n",
       "      <th>&lt;=-4phi</th>\n",
       "      <th>&lt;=-3.5phi</th>\n",
       "      <th>&lt;=-3phi</th>\n",
       "      <th>&lt;=-2.5phi</th>\n",
       "      <th>&lt;=-2phi</th>\n",
       "      <th>...</th>\n",
       "      <th>&lt;=-1phi</th>\n",
       "      <th>&lt;=-0.5phi</th>\n",
       "      <th>&lt;=0phi</th>\n",
       "      <th>&lt;=0.5phi</th>\n",
       "      <th>&lt;=1phi</th>\n",
       "      <th>&lt;=1.5phi</th>\n",
       "      <th>&lt;=2phi</th>\n",
       "      <th>&lt;=2.5phi</th>\n",
       "      <th>&lt;=3phi</th>\n",
       "      <th>&gt;3phi</th>\n",
       "    </tr>\n",
       "  </thead>\n",
       "  <tbody>\n",
       "    <tr>\n",
       "      <th>0</th>\n",
       "      <td>1</td>\n",
       "      <td>a</td>\n",
       "      <td>526774</td>\n",
       "      <td>1381087</td>\n",
       "      <td>324.22</td>\n",
       "      <td>1.21</td>\n",
       "      <td>3.45</td>\n",
       "      <td>12.69</td>\n",
       "      <td>49.02</td>\n",
       "      <td>39.56</td>\n",
       "      <td>...</td>\n",
       "      <td>64.53</td>\n",
       "      <td>39.58</td>\n",
       "      <td>23.64</td>\n",
       "      <td>13.24</td>\n",
       "      <td>1.62</td>\n",
       "      <td>0.31</td>\n",
       "      <td>0.07</td>\n",
       "      <td>0.02</td>\n",
       "      <td>0.0</td>\n",
       "      <td>0.0</td>\n",
       "    </tr>\n",
       "  </tbody>\n",
       "</table>\n",
       "<p>1 rows × 21 columns</p>\n",
       "</div>"
      ],
      "text/plain": [
       "   sample layer  easting  northing  total(kg/m2)  <=-4phi  <=-3.5phi  <=-3phi  \\\n",
       "0       1     a   526774   1381087        324.22     1.21       3.45    12.69   \n",
       "\n",
       "   <=-2.5phi  <=-2phi  ...   <=-1phi  <=-0.5phi  <=0phi  <=0.5phi  <=1phi  \\\n",
       "0      49.02    39.56  ...     64.53      39.58   23.64     13.24    1.62   \n",
       "\n",
       "   <=1.5phi  <=2phi  <=2.5phi  <=3phi  >3phi  \n",
       "0      0.31    0.07      0.02     0.0    0.0  \n",
       "\n",
       "[1 rows x 21 columns]"
      ]
     },
     "execution_count": 2,
     "metadata": {},
     "output_type": "execute_result"
    }
   ],
   "source": [
    "#Read in the dataframe\n",
    "#specific the row\n",
    "#print the row data\n",
    "\n",
    "cn = pd.read_csv('./cerro_negro.dat')\n",
    "\n",
    "#change the index to chose the grainsize distribution\n",
    "# for a different sample\n",
    "my_index = 0\n",
    "\n",
    "#print the data for this sample\n",
    "cn.loc[[my_index]]\n"
   ]
  },
  {
   "cell_type": "markdown",
   "metadata": {},
   "source": [
    "### Step 2\n",
    "\n",
    "For the selected row, calculate the median, $M_{\\phi}$ and the sorting\n",
    "\n",
    "Now, instead of \"brute forcing\" the code, the calculation of Inman parameters is in a function. This helps generalize the code."
   ]
  },
  {
   "cell_type": "code",
   "execution_count": 3,
   "metadata": {
    "scrolled": true
   },
   "outputs": [],
   "source": [
    "# this function is an interpolation method\n",
    "# find the point less than the inman threshold (e.g., median)\n",
    "# find the point greater than teh inman threshold\n",
    "#interpolate to find the inman parameter (e.g., median)\n",
    "def interpolate_inman(phi, cum_mass_frac, inman_param, index):\n",
    "    y1 = phi[index]\n",
    "    yo = phi[index+1]\n",
    "    x1 = cum_mass_frac[index]\n",
    "    xo = cum_mass_frac[index+1]\n",
    "    x = inman_param #median\n",
    "    y = (y1-yo)/(x1-xo) * (x-xo) + yo\n",
    "    return y\n",
    "\n",
    "\n",
    "def inman_params(cn, my_index):\n",
    "    #this function returns the median and the sorting of the grainsize distribution\n",
    "    #cn is the pandas dataframe as described earlier, \n",
    "    #my_index is the index of the row for the sample id and layer of interest\n",
    "   \n",
    "    #it is assumed the grainsize data starts at minphi\n",
    "    #and goes to max phi in 0.5 phi increments\n",
    "    #change the ranges if this is not true!\n",
    "    \n",
    "    #minphi is the coarsest grainsize class\n",
    "    #num_phi is the number of grainsize classes\n",
    "    minphi = -4\n",
    "    num_classes = 16\n",
    "    \n",
    "    #inman parameter thresholds\n",
    "    inman_med = 0.5  #median\n",
    "    inman_low = 0.16 #16th percentile\n",
    "    inman_hi = 0.84  #84th percentile\n",
    "\n",
    "    #extract the grainsize data for my_index\n",
    "    #part of one row of the dataframe\n",
    "    #the grainsize data are in columns 5 to 21\n",
    "    sample1 = cn.iloc[my_index:my_index+1, 5:21]\n",
    "    series = sample1.squeeze()\n",
    "    \n",
    "    gs = series.tolist() #list of grainsizes for the sample\n",
    "\n",
    "    #for these grainsize data, calculate\n",
    "    #cumulative mass fraction as a function\n",
    "    # of graisize class\n",
    "    phi =[]\n",
    "    cum_mass_frac = []\n",
    "\n",
    "    ct = minphi #smallest phi size in this dataset\n",
    "    cumulative_mass = 0\n",
    "\n",
    "    #initialize variables for inman calculation\n",
    "    min_low_index = 0\n",
    "    min_hi_index = 0\n",
    "    min_median_index = 0\n",
    "    my_phi84 = 0\n",
    "    my_phi16 =0\n",
    "    my_median = 0\n",
    "    my_total_mass = sum(gs)\n",
    "    for x in range (0,num_classes): #goes from -4 phi to >3 phi in 1/2 phi increment\n",
    "        ct=minphi + x/2 #1/2 phi seive increments\n",
    "        phi.append(ct)\n",
    "        \n",
    "        cumulative_mass = cumulative_mass+gs[x]/my_total_mass\n",
    "        cum_mass_frac.append(cumulative_mass)\n",
    "    \n",
    "        if (cumulative_mass < inman_med):\n",
    "            min_median_index = x\n",
    "        \n",
    "        if (cumulative_mass < inman_low):\n",
    "            min_low_index = x\n",
    "        \n",
    "        if (cumulative_mass < inman_hi):\n",
    "            min_hi_index = x\n",
    "\n",
    "    my_median = interpolate_inman(phi, \n",
    "                              cum_mass_frac, \n",
    "                              inman_med, \n",
    "                              min_median_index)\n",
    "\n",
    "    #the gs analysis cuts off without\n",
    "    #getting enough fraction of the fines\n",
    "\n",
    "    if (min_hi_index == len(phi)-1) or (min_low_index == 0):\n",
    "        print(\"cannot calculate sorting\")\n",
    "        my_sorting = \"out of range\"\n",
    "    else:\n",
    "        my_phi84 = interpolate_inman(phi, cum_mass_frac, inman_hi, min_hi_index)\n",
    "        my_phi16 = interpolate_inman(phi,cum_mass_frac, inman_low, min_low_index)\n",
    "        my_sorting = my_phi84-my_phi16\n",
    "\n",
    "    return my_median, my_sorting, cum_mass_frac, phi"
   ]
  },
  {
   "cell_type": "markdown",
   "metadata": {},
   "source": [
    "### Step 3\n",
    "\n",
    "call the functions to calculate two grainsize distributions for two different layers at the same location. Notice that the \"b\" layer is finer grained than the \"a\" layer"
   ]
  },
  {
   "cell_type": "code",
   "execution_count": 4,
   "metadata": {},
   "outputs": [
    {
     "name": "stdout",
     "output_type": "stream",
     "text": [
      "Sample ID:  1 Layer:   a\n",
      "Median:  -1.6268597236981934\n",
      "Sorting:  1.9839347110387335\n",
      "\n",
      "\n",
      "Sample ID:  1 Layer:   b\n",
      "Median:  -0.7646434160518669\n",
      "Sorting:  1.8726323786473036\n"
     ]
    }
   ],
   "source": [
    "the_first_median, the_first_sorting, the_first_cdf, the_first_phi = inman_params(cn, my_index)\n",
    "\n",
    "first_sample_id = cn.iloc[my_index][\"sample\"]\n",
    "first_sample_layer = cn.iloc[my_index]['layer']\n",
    "print(\"Sample ID: \", first_sample_id, \"Layer: \", first_sample_layer)\n",
    "print (\"Median: \",the_first_median)\n",
    "print(\"Sorting: \",the_first_sorting)\n",
    "\n",
    "print (\"\\n\")\n",
    "\n",
    "the_second_median, the_second_sorting, the_second_cdf, the_second_phi = inman_params(cn, my_index+1)\n",
    "\n",
    "second_sample_id = cn.iloc[my_index+1][\"sample\"]\n",
    "second_sample_layer = cn.iloc[my_index+1]['layer']\n",
    "print(\"Sample ID: \", second_sample_id, \"Layer: \", second_sample_layer)\n",
    "print (\"Median: \",the_second_median)\n",
    "print(\"Sorting: \",the_second_sorting)\n"
   ]
  },
  {
   "cell_type": "markdown",
   "metadata": {},
   "source": [
    "### Step 4: \n",
    "Plot the two grainsize distributions for two different layers at the same sample location"
   ]
  },
  {
   "cell_type": "code",
   "execution_count": 5,
   "metadata": {
    "scrolled": true
   },
   "outputs": [
    {
     "data": {
      "image/png": "[encoded data removed]",
      "text/plain": [
       "<Figure size 432x288 with 1 Axes>"
      ]
     },
     "metadata": {
      "needs_background": "light"
     },
     "output_type": "display_data"
    }
   ],
   "source": [
    "import matplotlib.pyplot as plt\n",
    "\n",
    "plt.plot(the_first_phi, the_first_cdf)\n",
    "plt.plot(the_second_phi, the_second_cdf)\n",
    "\n",
    "plt.plot(the_first_median, 0.5, \"o\")\n",
    "plt.plot(the_second_median, 0.5, \"o\")\n",
    "plt.xlabel (\"grainsize (phi)\")\n",
    "plt.ylabel(\"cumulative mass fraction\")\n",
    "mytitle = str(first_sample_id) + str(first_sample_layer) + \" vs \" + str(second_sample_id) + str(second_sample_layer)\n",
    "plt.title(mytitle)\n",
    "plt.show()\n",
    "\n"
   ]
  },
  {
   "cell_type": "markdown",
   "metadata": {},
   "source": [
    "### Step 5\n",
    "Now get fancy. Plot the median grainsize as a function of distance from the volcanic vent. Color code by \"a\", \"b\", and \"m\"\n",
    "\n",
    "For all layers, the median grainsize decreases with distance from the volcanc vent, pretty noisy, probably because some samples are on the major axis of dispersion,and some are not."
   ]
  },
  {
   "cell_type": "code",
   "execution_count": 6,
   "metadata": {},
   "outputs": [
    {
     "name": "stdout",
     "output_type": "stream",
     "text": [
      "cannot calculate sorting\n",
      "cannot calculate sorting\n"
     ]
    }
   ],
   "source": [
    "vent_utm_east = 532350\n",
    "vent_utm_north = 1382700\n",
    "\n",
    "a_easting = []\n",
    "a_northing =[]\n",
    "b_easting = []\n",
    "b_northing =[]\n",
    "m_easting = []\n",
    "m_northing =[]\n",
    "a_from_vent=[]\n",
    "a_median = []\n",
    "b_from_vent=[]\n",
    "b_median = []\n",
    "m_from_vent=[]\n",
    "m_median = []\n",
    "\n",
    "for x in range(len(cn.index)):\n",
    "    sample_easting = cn.iloc[x][\"easting\"]\n",
    "    sample_northing = cn.iloc[x][\"northing\"]\n",
    "    from_vent = ((vent_utm_east - sample_easting)**2 + (vent_utm_north - sample_northing)**2)**0.5\n",
    "    \n",
    "    the_median, the_sorting, the_cdf, the_phi = inman_params(cn, x) \n",
    "    if (cn.iloc[x][\"layer\"] == \" a\"):\n",
    "        a_from_vent.append(from_vent)\n",
    "        a_median.append(the_median)\n",
    "        a_easting.append(sample_easting)\n",
    "        a_northing.append(sample_northing)\n",
    "    elif (cn.iloc[x][\"layer\"] == \" b\"):\n",
    "        b_from_vent.append(from_vent)\n",
    "        b_median.append(the_median)\n",
    "        b_easting.append(sample_easting)\n",
    "        b_northing.append(sample_northing)\n",
    "    else:\n",
    "        m_from_vent.append(from_vent)\n",
    "        m_median.append(the_median)\n",
    "        m_easting.append(sample_easting)\n",
    "        m_northing.append(sample_northing)"
   ]
  },
  {
   "cell_type": "code",
   "execution_count": 30,
   "metadata": {},
   "outputs": [
    {
     "data": {
      "image/png": "[encoded data removed]",
      "text/plain": [
       "<Figure size 432x288 with 1 Axes>"
      ]
     },
     "metadata": {
      "needs_background": "light"
     },
     "output_type": "display_data"
    }
   ],
   "source": [
    "plt.plot(a_from_vent, a_median, \"o\")\n",
    "#plt.plot(b_from_vent, b_median, \"o\")\n",
    "#plt.plot(m_from_vent, m_median, \"o\")\n",
    "\n",
    "\n",
    "plt.xlabel (\"distance from vent (m)\")\n",
    "plt.ylabel(\"median grainsize\")\n",
    "plt.savefig(\"median_grainsize_w_distance.png\")\n",
    "plt.show()"
   ]
  },
  {
   "cell_type": "code",
   "execution_count": 8,
   "metadata": {},
   "outputs": [
    {
     "data": {
      "image/png": "[encoded data removed]",
      "text/plain": [
       "<Figure size 432x288 with 1 Axes>"
      ]
     },
     "metadata": {
      "needs_background": "light"
     },
     "output_type": "display_data"
    }
   ],
   "source": [
    "s = [-20*s for s in a_median] #adjust symbol size (for plotting only)\n",
    "\n",
    "plt.scatter(x=a_easting, y=a_northing, s=s)\n",
    "plt.plot (vent_utm_east, vent_utm_north, \"^k\")\n",
    "plt.xlabel(\"Easting (km)\")\n",
    "plt.ylabel(\"Northing (km)\")\n",
    "plt.axis('equal')\n",
    "vent_utm_east = 532350\n",
    "vent_utm_north = 1382700\n",
    "\n",
    "plt.show()"
   ]
  },
  {
   "cell_type": "code",
   "execution_count": 9,
   "metadata": {},
   "outputs": [
    {
     "data": {
      "text/plain": [
       "Intercept     -2.721984\n",
       "a_from_vent    0.000254\n",
       "dtype: float64"
      ]
     },
     "execution_count": 9,
     "metadata": {},
     "output_type": "execute_result"
    }
   ],
   "source": [
    "# an example of ordinary least squares regression\n",
    "# given the observed change in grainsize with distnce from the\n",
    "# volcanic vent, what is the intercept value of the median grainsize?\n",
    "\n",
    "grains_dict = {'a_median': a_median, 'a_from_vent': a_from_vent}\n",
    "gs = pd.DataFrame(grains_dict)\n",
    "\n",
    "res = ols('a_median ~ a_from_vent', data=gs).fit()\n",
    "\n",
    "res.params"
   ]
  },
  {
   "cell_type": "code",
   "execution_count": 10,
   "metadata": {},
   "outputs": [
    {
     "data": {
      "text/html": [
       "<table class=\"simpletable\">\n",
       "<caption>OLS Regression Results</caption>\n",
       "<tr>\n",
       "  <th>Dep. Variable:</th>        <td>a_median</td>     <th>  R-squared:         </th> <td>   0.582</td>\n",
       "</tr>\n",
       "<tr>\n",
       "  <th>Model:</th>                   <td>OLS</td>       <th>  Adj. R-squared:    </th> <td>   0.560</td>\n",
       "</tr>\n",
       "<tr>\n",
       "  <th>Method:</th>             <td>Least Squares</td>  <th>  F-statistic:       </th> <td>   26.41</td>\n",
       "</tr>\n",
       "<tr>\n",
       "  <th>Date:</th>             <td>Fri, 12 Aug 2022</td> <th>  Prob (F-statistic):</th> <td>5.83e-05</td>\n",
       "</tr>\n",
       "<tr>\n",
       "  <th>Time:</th>                 <td>16:58:49</td>     <th>  Log-Likelihood:    </th> <td> -17.136</td>\n",
       "</tr>\n",
       "<tr>\n",
       "  <th>No. Observations:</th>      <td>    21</td>      <th>  AIC:               </th> <td>   38.27</td>\n",
       "</tr>\n",
       "<tr>\n",
       "  <th>Df Residuals:</th>          <td>    19</td>      <th>  BIC:               </th> <td>   40.36</td>\n",
       "</tr>\n",
       "<tr>\n",
       "  <th>Df Model:</th>              <td>     1</td>      <th>                     </th>     <td> </td>   \n",
       "</tr>\n",
       "<tr>\n",
       "  <th>Covariance Type:</th>      <td>nonrobust</td>    <th>                     </th>     <td> </td>   \n",
       "</tr>\n",
       "</table>\n",
       "<table class=\"simpletable\">\n",
       "<tr>\n",
       "       <td></td>          <th>coef</th>     <th>std err</th>      <th>t</th>      <th>P>|t|</th>  <th>[0.025</th>    <th>0.975]</th>  \n",
       "</tr>\n",
       "<tr>\n",
       "  <th>Intercept</th>   <td>   -2.7220</td> <td>    0.319</td> <td>   -8.528</td> <td> 0.000</td> <td>   -3.390</td> <td>   -2.054</td>\n",
       "</tr>\n",
       "<tr>\n",
       "  <th>a_from_vent</th> <td>    0.0003</td> <td> 4.93e-05</td> <td>    5.139</td> <td> 0.000</td> <td>    0.000</td> <td>    0.000</td>\n",
       "</tr>\n",
       "</table>\n",
       "<table class=\"simpletable\">\n",
       "<tr>\n",
       "  <th>Omnibus:</th>       <td> 4.834</td> <th>  Durbin-Watson:     </th> <td>   1.627</td>\n",
       "</tr>\n",
       "<tr>\n",
       "  <th>Prob(Omnibus):</th> <td> 0.089</td> <th>  Jarque-Bera (JB):  </th> <td>   3.300</td>\n",
       "</tr>\n",
       "<tr>\n",
       "  <th>Skew:</th>          <td> 0.966</td> <th>  Prob(JB):          </th> <td>   0.192</td>\n",
       "</tr>\n",
       "<tr>\n",
       "  <th>Kurtosis:</th>      <td> 3.204</td> <th>  Cond. No.          </th> <td>1.64e+04</td>\n",
       "</tr>\n",
       "</table><br/><br/>Notes:<br/>[1] Standard Errors assume that the covariance matrix of the errors is correctly specified.<br/>[2] The condition number is large, 1.64e+04. This might indicate that there are<br/>strong multicollinearity or other numerical problems."
      ],
      "text/plain": [
       "<class 'statsmodels.iolib.summary.Summary'>\n",
       "\"\"\"\n",
       "                            OLS Regression Results                            \n",
       "==============================================================================\n",
       "Dep. Variable:               a_median   R-squared:                       0.582\n",
       "Model:                            OLS   Adj. R-squared:                  0.560\n",
       "Method:                 Least Squares   F-statistic:                     26.41\n",
       "Date:                Fri, 12 Aug 2022   Prob (F-statistic):           5.83e-05\n",
       "Time:                        16:58:49   Log-Likelihood:                -17.136\n",
       "No. Observations:                  21   AIC:                             38.27\n",
       "Df Residuals:                      19   BIC:                             40.36\n",
       "Df Model:                           1                                         \n",
       "Covariance Type:            nonrobust                                         \n",
       "===============================================================================\n",
       "                  coef    std err          t      P>|t|      [0.025      0.975]\n",
       "-------------------------------------------------------------------------------\n",
       "Intercept      -2.7220      0.319     -8.528      0.000      -3.390      -2.054\n",
       "a_from_vent     0.0003   4.93e-05      5.139      0.000       0.000       0.000\n",
       "==============================================================================\n",
       "Omnibus:                        4.834   Durbin-Watson:                   1.627\n",
       "Prob(Omnibus):                  0.089   Jarque-Bera (JB):                3.300\n",
       "Skew:                           0.966   Prob(JB):                        0.192\n",
       "Kurtosis:                       3.204   Cond. No.                     1.64e+04\n",
       "==============================================================================\n",
       "\n",
       "Notes:\n",
       "[1] Standard Errors assume that the covariance matrix of the errors is correctly specified.\n",
       "[2] The condition number is large, 1.64e+04. This might indicate that there are\n",
       "strong multicollinearity or other numerical problems.\n",
       "\"\"\""
      ]
     },
     "execution_count": 10,
     "metadata": {},
     "output_type": "execute_result"
    }
   ],
   "source": [
    "res.summary()"
   ]
  },
  {
   "cell_type": "code",
   "execution_count": 11,
   "metadata": {},
   "outputs": [],
   "source": [
    "param1 = []\n",
    "param2 = []\n",
    "\n",
    "ntrials = 2000\n",
    "for trial in range(ntrials):\n",
    "    boot_sample = gs.sample(frac=1, replace=True)\n",
    "\n",
    "    res = ols('a_median ~ a_from_vent', data=boot_sample).fit()\n",
    "\n",
    "    param1.append(res.params['Intercept'])\n",
    "    param2.append(res.params['a_from_vent'])"
   ]
  },
  {
   "cell_type": "code",
   "execution_count": 12,
   "metadata": {},
   "outputs": [
    {
     "data": {
      "image/png": "[encoded data removed]",
      "text/plain": [
       "<Figure size 432x288 with 1 Axes>"
      ]
     },
     "metadata": {
      "needs_background": "light"
     },
     "output_type": "display_data"
    }
   ],
   "source": [
    "plt.hist(param1, edgecolor='white')\n",
    "plt.xlabel(\"intercept value - median grainsize (phi)\")\n",
    "plt.vlines(np.mean(param1), 0, 600, \"k\")\n",
    "\n",
    "plt.show()"
   ]
  },
  {
   "cell_type": "code",
   "execution_count": 13,
   "metadata": {},
   "outputs": [
    {
     "name": "stdout",
     "output_type": "stream",
     "text": [
      "confidence interval in intercept:  -3.3254809062881265 -1.8839469243620077\n",
      "mean:  -2.7037599359542566\n"
     ]
    }
   ],
   "source": [
    "print(\"confidence interval in intercept: \", np.percentile(param1, 2.5), np.percentile(param1, 97.5))\n",
    "print (\"mean: \", np.mean(param1))"
   ]
  },
  {
   "cell_type": "code",
   "execution_count": 14,
   "metadata": {},
   "outputs": [
    {
     "data": {
      "image/png": "[encoded data removed]",
      "text/plain": [
       "<Figure size 432x288 with 1 Axes>"
      ]
     },
     "metadata": {
      "needs_background": "light"
     },
     "output_type": "display_data"
    }
   ],
   "source": [
    "plt.hist(param2, edgecolor='white')\n",
    "plt.xlabel(\"slope value - median grainsize (phi)\")\n",
    "plt.vlines(np.mean(param2), 0, 600, \"k\")\n",
    "\n",
    "plt.show()"
   ]
  },
  {
   "cell_type": "code",
   "execution_count": 15,
   "metadata": {},
   "outputs": [
    {
     "name": "stdout",
     "output_type": "stream",
     "text": [
      "confidence interval in slope:  0.0001401190560738061 0.00033646402931879004\n",
      "mean:  0.00025039447661852424\n"
     ]
    }
   ],
   "source": [
    "print(\"confidence interval in slope: \", np.percentile(param2, 2.5), np.percentile(param2, 97.5))\n",
    "print (\"mean: \", np.mean(param2))"
   ]
  },
  {
   "cell_type": "markdown",
   "metadata": {},
   "source": [
    "## Repeat for B layer\n"
   ]
  },
  {
   "cell_type": "code",
   "execution_count": 16,
   "metadata": {},
   "outputs": [
    {
     "name": "stderr",
     "output_type": "stream",
     "text": [
      "/home/HOME/cbc/anaconda3/lib/python3.8/site-packages/matplotlib/collections.py:922: RuntimeWarning: invalid value encountered in sqrt\n",
      "  scale = np.sqrt(self._sizes) * dpi / 72.0 * self._factor\n"
     ]
    },
    {
     "data": {
      "image/png": "[encoded data removed]",
      "text/plain": [
       "<Figure size 432x288 with 1 Axes>"
      ]
     },
     "metadata": {
      "needs_background": "light"
     },
     "output_type": "display_data"
    }
   ],
   "source": [
    "s =  [-20*s for s in b_median] #adjust symbol size (for plotting only)\n",
    "\n",
    "plt.scatter(x=b_easting, y=b_northing, s=s)\n",
    "plt.plot (vent_utm_east, vent_utm_north, \"^k\")\n",
    "plt.xlabel(\"Easting (km)\")\n",
    "plt.ylabel(\"Northing (km)\")\n",
    "plt.axis('equal')\n",
    "vent_utm_east = 532350\n",
    "vent_utm_north = 1382700\n",
    "\n",
    "plt.show()"
   ]
  },
  {
   "cell_type": "code",
   "execution_count": 17,
   "metadata": {},
   "outputs": [
    {
     "data": {
      "text/plain": [
       "Intercept     -0.576178\n",
       "b_from_vent    0.000057\n",
       "dtype: float64"
      ]
     },
     "execution_count": 17,
     "metadata": {},
     "output_type": "execute_result"
    }
   ],
   "source": [
    "grains_dict = {'b_median': b_median, 'b_from_vent': b_from_vent}\n",
    "gsb = pd.DataFrame(grains_dict)\n",
    "\n",
    "res = ols('b_median ~ b_from_vent', data=gsb).fit()\n",
    "\n",
    "res.params"
   ]
  },
  {
   "cell_type": "code",
   "execution_count": 18,
   "metadata": {},
   "outputs": [
    {
     "data": {
      "text/html": [
       "<table class=\"simpletable\">\n",
       "<caption>OLS Regression Results</caption>\n",
       "<tr>\n",
       "  <th>Dep. Variable:</th>        <td>b_median</td>     <th>  R-squared:         </th> <td>   0.068</td>\n",
       "</tr>\n",
       "<tr>\n",
       "  <th>Model:</th>                   <td>OLS</td>       <th>  Adj. R-squared:    </th> <td>   0.023</td>\n",
       "</tr>\n",
       "<tr>\n",
       "  <th>Method:</th>             <td>Least Squares</td>  <th>  F-statistic:       </th> <td>   1.521</td>\n",
       "</tr>\n",
       "<tr>\n",
       "  <th>Date:</th>             <td>Fri, 12 Aug 2022</td> <th>  Prob (F-statistic):</th>  <td> 0.231</td> \n",
       "</tr>\n",
       "<tr>\n",
       "  <th>Time:</th>                 <td>16:58:57</td>     <th>  Log-Likelihood:    </th> <td> -17.805</td>\n",
       "</tr>\n",
       "<tr>\n",
       "  <th>No. Observations:</th>      <td>    23</td>      <th>  AIC:               </th> <td>   39.61</td>\n",
       "</tr>\n",
       "<tr>\n",
       "  <th>Df Residuals:</th>          <td>    21</td>      <th>  BIC:               </th> <td>   41.88</td>\n",
       "</tr>\n",
       "<tr>\n",
       "  <th>Df Model:</th>              <td>     1</td>      <th>                     </th>     <td> </td>   \n",
       "</tr>\n",
       "<tr>\n",
       "  <th>Covariance Type:</th>      <td>nonrobust</td>    <th>                     </th>     <td> </td>   \n",
       "</tr>\n",
       "</table>\n",
       "<table class=\"simpletable\">\n",
       "<tr>\n",
       "       <td></td>          <th>coef</th>     <th>std err</th>      <th>t</th>      <th>P>|t|</th>  <th>[0.025</th>    <th>0.975]</th>  \n",
       "</tr>\n",
       "<tr>\n",
       "  <th>Intercept</th>   <td>   -0.5762</td> <td>    0.295</td> <td>   -1.955</td> <td> 0.064</td> <td>   -1.189</td> <td>    0.037</td>\n",
       "</tr>\n",
       "<tr>\n",
       "  <th>b_from_vent</th> <td> 5.664e-05</td> <td> 4.59e-05</td> <td>    1.233</td> <td> 0.231</td> <td>-3.89e-05</td> <td>    0.000</td>\n",
       "</tr>\n",
       "</table>\n",
       "<table class=\"simpletable\">\n",
       "<tr>\n",
       "  <th>Omnibus:</th>       <td> 1.762</td> <th>  Durbin-Watson:     </th> <td>   1.411</td>\n",
       "</tr>\n",
       "<tr>\n",
       "  <th>Prob(Omnibus):</th> <td> 0.414</td> <th>  Jarque-Bera (JB):  </th> <td>   1.165</td>\n",
       "</tr>\n",
       "<tr>\n",
       "  <th>Skew:</th>          <td> 0.265</td> <th>  Prob(JB):          </th> <td>   0.558</td>\n",
       "</tr>\n",
       "<tr>\n",
       "  <th>Kurtosis:</th>      <td> 2.033</td> <th>  Cond. No.          </th> <td>1.65e+04</td>\n",
       "</tr>\n",
       "</table><br/><br/>Notes:<br/>[1] Standard Errors assume that the covariance matrix of the errors is correctly specified.<br/>[2] The condition number is large, 1.65e+04. This might indicate that there are<br/>strong multicollinearity or other numerical problems."
      ],
      "text/plain": [
       "<class 'statsmodels.iolib.summary.Summary'>\n",
       "\"\"\"\n",
       "                            OLS Regression Results                            \n",
       "==============================================================================\n",
       "Dep. Variable:               b_median   R-squared:                       0.068\n",
       "Model:                            OLS   Adj. R-squared:                  0.023\n",
       "Method:                 Least Squares   F-statistic:                     1.521\n",
       "Date:                Fri, 12 Aug 2022   Prob (F-statistic):              0.231\n",
       "Time:                        16:58:57   Log-Likelihood:                -17.805\n",
       "No. Observations:                  23   AIC:                             39.61\n",
       "Df Residuals:                      21   BIC:                             41.88\n",
       "Df Model:                           1                                         \n",
       "Covariance Type:            nonrobust                                         \n",
       "===============================================================================\n",
       "                  coef    std err          t      P>|t|      [0.025      0.975]\n",
       "-------------------------------------------------------------------------------\n",
       "Intercept      -0.5762      0.295     -1.955      0.064      -1.189       0.037\n",
       "b_from_vent  5.664e-05   4.59e-05      1.233      0.231   -3.89e-05       0.000\n",
       "==============================================================================\n",
       "Omnibus:                        1.762   Durbin-Watson:                   1.411\n",
       "Prob(Omnibus):                  0.414   Jarque-Bera (JB):                1.165\n",
       "Skew:                           0.265   Prob(JB):                        0.558\n",
       "Kurtosis:                       2.033   Cond. No.                     1.65e+04\n",
       "==============================================================================\n",
       "\n",
       "Notes:\n",
       "[1] Standard Errors assume that the covariance matrix of the errors is correctly specified.\n",
       "[2] The condition number is large, 1.65e+04. This might indicate that there are\n",
       "strong multicollinearity or other numerical problems.\n",
       "\"\"\""
      ]
     },
     "execution_count": 18,
     "metadata": {},
     "output_type": "execute_result"
    }
   ],
   "source": [
    "res.summary()"
   ]
  },
  {
   "cell_type": "code",
   "execution_count": 19,
   "metadata": {},
   "outputs": [],
   "source": [
    "param1 = []\n",
    "param2 = []\n",
    "\n",
    "ntrials = 2000\n",
    "for trial in range(ntrials):\n",
    "    boot_sample = gsb.sample(frac=1, replace=True)\n",
    "\n",
    "    res = ols('b_median ~ b_from_vent', data=boot_sample).fit()\n",
    "\n",
    "    param1.append(res.params['Intercept'])\n",
    "    param2.append(res.params['b_from_vent'])"
   ]
  },
  {
   "cell_type": "code",
   "execution_count": 20,
   "metadata": {},
   "outputs": [
    {
     "data": {
      "image/png": "[encoded data removed]",
      "text/plain": [
       "<Figure size 432x288 with 1 Axes>"
      ]
     },
     "metadata": {
      "needs_background": "light"
     },
     "output_type": "display_data"
    }
   ],
   "source": [
    "plt.hist(param1, edgecolor='white')\n",
    "plt.xlabel(\"intercept value - median grainsize (phi)\")\n",
    "plt.vlines(np.mean(param1), 0, 600, \"k\")\n",
    "\n",
    "plt.show()"
   ]
  },
  {
   "cell_type": "code",
   "execution_count": 21,
   "metadata": {},
   "outputs": [
    {
     "data": {
      "image/png": "[encoded data removed]",
      "text/plain": [
       "<Figure size 432x288 with 1 Axes>"
      ]
     },
     "metadata": {
      "needs_background": "light"
     },
     "output_type": "display_data"
    }
   ],
   "source": [
    "plt.hist(param2, edgecolor='white')\n",
    "plt.xlabel(\"slope value - median grainsize (phi)\")\n",
    "plt.vlines(np.mean(param2), 0, 600, \"k\")\n",
    "\n",
    "plt.show()"
   ]
  },
  {
   "cell_type": "code",
   "execution_count": 22,
   "metadata": {},
   "outputs": [
    {
     "name": "stdout",
     "output_type": "stream",
     "text": [
      "confidence interval in slope:  -3.8547670309423367e-05 0.0001222645775702434\n",
      "mean:  5.266811116137427e-05\n"
     ]
    }
   ],
   "source": [
    "print(\"confidence interval in slope: \", np.percentile(param2, 2.5), np.percentile(param2, 97.5))\n",
    "print (\"mean: \", np.mean(param2))"
   ]
  },
  {
   "cell_type": "markdown",
   "metadata": {},
   "source": [
    "### Repeat for layer M"
   ]
  },
  {
   "cell_type": "code",
   "execution_count": 23,
   "metadata": {},
   "outputs": [
    {
     "data": {
      "image/png": "[encoded data removed]",
      "text/plain": [
       "<Figure size 432x288 with 1 Axes>"
      ]
     },
     "metadata": {
      "needs_background": "light"
     },
     "output_type": "display_data"
    }
   ],
   "source": [
    "s = [5*s**2 + 10 for s in m_median] #adjust symbol size (for plotting only)\n",
    "\n",
    "plt.scatter(x=m_easting, y=m_northing, s=s)\n",
    "plt.plot (vent_utm_east, vent_utm_north, \"^k\")\n",
    "plt.xlabel(\"Easting (km)\")\n",
    "plt.ylabel(\"Northing (km)\")\n",
    "plt.axis('equal')\n",
    "vent_utm_east = 532350\n",
    "vent_utm_north = 1382700\n",
    "\n",
    "plt.show()"
   ]
  },
  {
   "cell_type": "code",
   "execution_count": 24,
   "metadata": {},
   "outputs": [
    {
     "data": {
      "text/plain": [
       "Intercept     -1.325644\n",
       "m_from_vent    0.000193\n",
       "dtype: float64"
      ]
     },
     "execution_count": 24,
     "metadata": {},
     "output_type": "execute_result"
    }
   ],
   "source": [
    "grains_dict = {'m_median': m_median, 'm_from_vent': m_from_vent}\n",
    "gsm = pd.DataFrame(grains_dict)\n",
    "\n",
    "res = ols('m_median ~ m_from_vent', data=gsm).fit()\n",
    "\n",
    "res.params"
   ]
  },
  {
   "cell_type": "code",
   "execution_count": 25,
   "metadata": {},
   "outputs": [
    {
     "data": {
      "text/html": [
       "<table class=\"simpletable\">\n",
       "<caption>OLS Regression Results</caption>\n",
       "<tr>\n",
       "  <th>Dep. Variable:</th>        <td>m_median</td>     <th>  R-squared:         </th> <td>   0.502</td>\n",
       "</tr>\n",
       "<tr>\n",
       "  <th>Model:</th>                   <td>OLS</td>       <th>  Adj. R-squared:    </th> <td>   0.492</td>\n",
       "</tr>\n",
       "<tr>\n",
       "  <th>Method:</th>             <td>Least Squares</td>  <th>  F-statistic:       </th> <td>   50.38</td>\n",
       "</tr>\n",
       "<tr>\n",
       "  <th>Date:</th>             <td>Fri, 12 Aug 2022</td> <th>  Prob (F-statistic):</th> <td>4.22e-09</td>\n",
       "</tr>\n",
       "<tr>\n",
       "  <th>Time:</th>                 <td>16:59:05</td>     <th>  Log-Likelihood:    </th> <td> -49.366</td>\n",
       "</tr>\n",
       "<tr>\n",
       "  <th>No. Observations:</th>      <td>    52</td>      <th>  AIC:               </th> <td>   102.7</td>\n",
       "</tr>\n",
       "<tr>\n",
       "  <th>Df Residuals:</th>          <td>    50</td>      <th>  BIC:               </th> <td>   106.6</td>\n",
       "</tr>\n",
       "<tr>\n",
       "  <th>Df Model:</th>              <td>     1</td>      <th>                     </th>     <td> </td>   \n",
       "</tr>\n",
       "<tr>\n",
       "  <th>Covariance Type:</th>      <td>nonrobust</td>    <th>                     </th>     <td> </td>   \n",
       "</tr>\n",
       "</table>\n",
       "<table class=\"simpletable\">\n",
       "<tr>\n",
       "       <td></td>          <th>coef</th>     <th>std err</th>      <th>t</th>      <th>P>|t|</th>  <th>[0.025</th>    <th>0.975]</th>  \n",
       "</tr>\n",
       "<tr>\n",
       "  <th>Intercept</th>   <td>   -1.3256</td> <td>    0.230</td> <td>   -5.758</td> <td> 0.000</td> <td>   -1.788</td> <td>   -0.863</td>\n",
       "</tr>\n",
       "<tr>\n",
       "  <th>m_from_vent</th> <td>    0.0002</td> <td> 2.73e-05</td> <td>    7.098</td> <td> 0.000</td> <td>    0.000</td> <td>    0.000</td>\n",
       "</tr>\n",
       "</table>\n",
       "<table class=\"simpletable\">\n",
       "<tr>\n",
       "  <th>Omnibus:</th>       <td> 4.456</td> <th>  Durbin-Watson:     </th> <td>   0.919</td>\n",
       "</tr>\n",
       "<tr>\n",
       "  <th>Prob(Omnibus):</th> <td> 0.108</td> <th>  Jarque-Bera (JB):  </th> <td>   3.685</td>\n",
       "</tr>\n",
       "<tr>\n",
       "  <th>Skew:</th>          <td> 0.545</td> <th>  Prob(JB):          </th> <td>   0.158</td>\n",
       "</tr>\n",
       "<tr>\n",
       "  <th>Kurtosis:</th>      <td> 2.283</td> <th>  Cond. No.          </th> <td>2.20e+04</td>\n",
       "</tr>\n",
       "</table><br/><br/>Notes:<br/>[1] Standard Errors assume that the covariance matrix of the errors is correctly specified.<br/>[2] The condition number is large, 2.2e+04. This might indicate that there are<br/>strong multicollinearity or other numerical problems."
      ],
      "text/plain": [
       "<class 'statsmodels.iolib.summary.Summary'>\n",
       "\"\"\"\n",
       "                            OLS Regression Results                            \n",
       "==============================================================================\n",
       "Dep. Variable:               m_median   R-squared:                       0.502\n",
       "Model:                            OLS   Adj. R-squared:                  0.492\n",
       "Method:                 Least Squares   F-statistic:                     50.38\n",
       "Date:                Fri, 12 Aug 2022   Prob (F-statistic):           4.22e-09\n",
       "Time:                        16:59:05   Log-Likelihood:                -49.366\n",
       "No. Observations:                  52   AIC:                             102.7\n",
       "Df Residuals:                      50   BIC:                             106.6\n",
       "Df Model:                           1                                         \n",
       "Covariance Type:            nonrobust                                         \n",
       "===============================================================================\n",
       "                  coef    std err          t      P>|t|      [0.025      0.975]\n",
       "-------------------------------------------------------------------------------\n",
       "Intercept      -1.3256      0.230     -5.758      0.000      -1.788      -0.863\n",
       "m_from_vent     0.0002   2.73e-05      7.098      0.000       0.000       0.000\n",
       "==============================================================================\n",
       "Omnibus:                        4.456   Durbin-Watson:                   0.919\n",
       "Prob(Omnibus):                  0.108   Jarque-Bera (JB):                3.685\n",
       "Skew:                           0.545   Prob(JB):                        0.158\n",
       "Kurtosis:                       2.283   Cond. No.                     2.20e+04\n",
       "==============================================================================\n",
       "\n",
       "Notes:\n",
       "[1] Standard Errors assume that the covariance matrix of the errors is correctly specified.\n",
       "[2] The condition number is large, 2.2e+04. This might indicate that there are\n",
       "strong multicollinearity or other numerical problems.\n",
       "\"\"\""
      ]
     },
     "execution_count": 25,
     "metadata": {},
     "output_type": "execute_result"
    }
   ],
   "source": [
    "res.summary()"
   ]
  },
  {
   "cell_type": "code",
   "execution_count": 26,
   "metadata": {},
   "outputs": [],
   "source": [
    "param1 = []\n",
    "param2 = []\n",
    "\n",
    "ntrials = 2000\n",
    "for trial in range(ntrials):\n",
    "    boot_sample = gsm.sample(frac=1, replace=True)\n",
    "\n",
    "    res = ols('m_median ~ m_from_vent', data=boot_sample).fit()\n",
    "\n",
    "    param1.append(res.params['Intercept'])\n",
    "    param2.append(res.params['m_from_vent'])"
   ]
  },
  {
   "cell_type": "code",
   "execution_count": 27,
   "metadata": {},
   "outputs": [
    {
     "data": {
      "image/png": "[encoded data removed]",
      "text/plain": [
       "<Figure size 432x288 with 1 Axes>"
      ]
     },
     "metadata": {
      "needs_background": "light"
     },
     "output_type": "display_data"
    }
   ],
   "source": [
    "plt.hist(param1, edgecolor='white')\n",
    "plt.xlabel(\"intercept value - median grainsize (phi)\")\n",
    "plt.vlines(np.mean(param1), 0, 600, \"k\")\n",
    "\n",
    "plt.show()"
   ]
  },
  {
   "cell_type": "code",
   "execution_count": 28,
   "metadata": {},
   "outputs": [
    {
     "data": {
      "image/png": "[encoded data removed]",
      "text/plain": [
       "<Figure size 432x288 with 1 Axes>"
      ]
     },
     "metadata": {
      "needs_background": "light"
     },
     "output_type": "display_data"
    }
   ],
   "source": [
    "plt.hist(param2, edgecolor='white')\n",
    "plt.xlabel(\"intercept value - median grainsize (phi)\")\n",
    "plt.vlines(np.mean(param2), 0, 600, \"k\")\n",
    "\n",
    "plt.show()"
   ]
  },
  {
   "cell_type": "code",
   "execution_count": null,
   "metadata": {},
   "outputs": [],
   "source": []
  }
 ],
 "metadata": {
  "kernelspec": {
   "display_name": "Python 3",
   "language": "python",
   "name": "python3"
  },
  "language_info": {
   "codemirror_mode": {
    "name": "ipython",
    "version": 3
   },
   "file_extension": ".py",
   "mimetype": "text/x-python",
   "name": "python",
   "nbconvert_exporter": "python",
   "pygments_lexer": "ipython3",
   "version": "3.8.8"
  }
 },
 "nbformat": 4,
 "nbformat_minor": 2
}
