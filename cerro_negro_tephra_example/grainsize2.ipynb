{
 "cells": [
  {
   "cell_type": "markdown",
   "metadata": {},
   "source": [
    "## More Grainsize distribution and Pandas\n",
    "\n",
    "This notebook follows from the grainsize1 notebook. It elaborates on the method to plot 2 sample grainsize distributions on the same plot, which allows for comparison. After that, a new plot is created using every row (sample) in the dataframe.\n",
    "\n",
    "The first step is the same as before:\n",
    "\n",
    "\n",
    "### Metadata\n",
    "\n",
    "The data were collected after the 1992 eruption to learn more about eruption source parameters (ESPs). The data file consissts of 21 columns these are:\n",
    "\n",
    "1. Sample ID - this simply a number corresponding to a specific sample location. In some cases more than one sample is collected at a specific location, so the sample ID is repeated in the data set. One location has one sample ID.\n",
    "\n",
    "2. Layer - The 1992 eruption occurred in 2 phases and these two phases deposited 2 layers which can be distinguished in some stratigraphic sections. The layers are \"a\" and \"b\". Layer a is stratigraphically below layer b. The first phase of the eruption deposited layer a, then there was a pause, followed by a second eruption that deposited layer b. In some sections the layers are not distinguished. For example, far from the volcano it is difficult to know if a layer is a or b. These layers are designated layer \"m\", for mixed. But they are probably not actually mixed, they are just not distinguished. Think of M as a combined measurement.\n",
    "\n",
    "3. easting - this is the UTM easting location of the Sample ID location (m)\n",
    "\n",
    "4. northing - this is the UTM northing of the Sample ID location (m)\n",
    "\n",
    "5. total(kg/m2) - this is the mass loading in kg/m2 dry deposit observed at each Sample ID location and for each layer (a,b, of m). Mass loading can be converted to thickness since the deposit density is 1000 kg/m3\n",
    "\n",
    "6-21. This is the mass loading by grainsize, from phi class equal to or coarser than $-4 \\phi$ (coarse particles) to fine particles $>3 \\phi$, seived in $1/2 \\phi$ increments. If one adds the phi size mass loadings together, one should get the total (column 5). This can be used as a check on the data quality.\n",
    "\n",
    "So the column headers are specific parameters, the rows are analyses associated with each sample location. The index goes from zero to the total number of observations. Sample ID is not used as an index because often two samples are collected at each location."
   ]
  },
  {
   "cell_type": "code",
   "execution_count": 1,
   "metadata": {},
   "outputs": [],
   "source": [
    "import pandas as pd\n"
   ]
  },
  {
   "cell_type": "code",
   "execution_count": 2,
   "metadata": {},
   "outputs": [
    {
     "data": {
      "text/html": [
       "<div>\n",
       "<style scoped>\n",
       "    .dataframe tbody tr th:only-of-type {\n",
       "        vertical-align: middle;\n",
       "    }\n",
       "\n",
       "    .dataframe tbody tr th {\n",
       "        vertical-align: top;\n",
       "    }\n",
       "\n",
       "    .dataframe thead th {\n",
       "        text-align: right;\n",
       "    }\n",
       "</style>\n",
       "<table border=\"1\" class=\"dataframe\">\n",
       "  <thead>\n",
       "    <tr style=\"text-align: right;\">\n",
       "      <th></th>\n",
       "      <th>sample</th>\n",
       "      <th>layer</th>\n",
       "      <th>easting</th>\n",
       "      <th>northing</th>\n",
       "      <th>total(kg/m2)</th>\n",
       "      <th>&lt;=-4phi</th>\n",
       "      <th>&lt;=-3.5phi</th>\n",
       "      <th>&lt;=-3phi</th>\n",
       "      <th>&lt;=-2.5phi</th>\n",
       "      <th>&lt;=-2phi</th>\n",
       "      <th>...</th>\n",
       "      <th>&lt;=-1phi</th>\n",
       "      <th>&lt;=-0.5phi</th>\n",
       "      <th>&lt;=0phi</th>\n",
       "      <th>&lt;=0.5phi</th>\n",
       "      <th>&lt;=1phi</th>\n",
       "      <th>&lt;=1.5phi</th>\n",
       "      <th>&lt;=2phi</th>\n",
       "      <th>&lt;=2.5phi</th>\n",
       "      <th>&lt;=3phi</th>\n",
       "      <th>&gt;3phi</th>\n",
       "    </tr>\n",
       "  </thead>\n",
       "  <tbody>\n",
       "    <tr>\n",
       "      <th>0</th>\n",
       "      <td>1</td>\n",
       "      <td>a</td>\n",
       "      <td>526774</td>\n",
       "      <td>1381087</td>\n",
       "      <td>324.22</td>\n",
       "      <td>1.21</td>\n",
       "      <td>3.45</td>\n",
       "      <td>12.69</td>\n",
       "      <td>49.02</td>\n",
       "      <td>39.56</td>\n",
       "      <td>...</td>\n",
       "      <td>64.53</td>\n",
       "      <td>39.58</td>\n",
       "      <td>23.64</td>\n",
       "      <td>13.24</td>\n",
       "      <td>1.62</td>\n",
       "      <td>0.31</td>\n",
       "      <td>0.07</td>\n",
       "      <td>0.02</td>\n",
       "      <td>0.0</td>\n",
       "      <td>0.0</td>\n",
       "    </tr>\n",
       "  </tbody>\n",
       "</table>\n",
       "<p>1 rows × 21 columns</p>\n",
       "</div>"
      ],
      "text/plain": [
       "   sample layer  easting  northing  total(kg/m2)  <=-4phi  <=-3.5phi  <=-3phi  \\\n",
       "0       1     a   526774   1381087        324.22     1.21       3.45    12.69   \n",
       "\n",
       "   <=-2.5phi  <=-2phi  ...   <=-1phi  <=-0.5phi  <=0phi  <=0.5phi  <=1phi  \\\n",
       "0      49.02    39.56  ...     64.53      39.58   23.64     13.24    1.62   \n",
       "\n",
       "   <=1.5phi  <=2phi  <=2.5phi  <=3phi  >3phi  \n",
       "0      0.31    0.07      0.02     0.0    0.0  \n",
       "\n",
       "[1 rows x 21 columns]"
      ]
     },
     "execution_count": 2,
     "metadata": {},
     "output_type": "execute_result"
    }
   ],
   "source": [
    "#Read in the dataframe\n",
    "#specific the row\n",
    "#print the row data\n",
    "\n",
    "cn = pd.read_csv('./cerro_negro.dat')\n",
    "\n",
    "#change the index to chose the grainsize distribution\n",
    "# for a different sample\n",
    "my_index = 0\n",
    "\n",
    "#print the data for this sample\n",
    "cn.loc[[my_index]]\n"
   ]
  },
  {
   "cell_type": "markdown",
   "metadata": {},
   "source": [
    "### Step 2\n",
    "\n",
    "For the selected row, calculate the median, $M_{\\phi}$ and the sorting\n",
    "\n",
    "Now, instead of \"brute forcing\" the code, the calculation of Inman parameters is in a function. This helps generalize the code."
   ]
  },
  {
   "cell_type": "code",
   "execution_count": 3,
   "metadata": {
    "scrolled": true
   },
   "outputs": [],
   "source": [
    "# this function is an interpolation method\n",
    "# find the point less than the inman threshold (e.g., median)\n",
    "# find the point greater than teh inman threshold\n",
    "#interpolate to find the inman parameter (e.g., median)\n",
    "def interpolate_inman(phi, cum_mass_frac, inman_param, index):\n",
    "    y1 = phi[index]\n",
    "    yo = phi[index+1]\n",
    "    x1 = cum_mass_frac[index]\n",
    "    xo = cum_mass_frac[index+1]\n",
    "    x = inman_param #median\n",
    "    y = (y1-yo)/(x1-xo) * (x-xo) + yo\n",
    "    return y\n",
    "\n",
    "\n",
    "def inman_params(cn, my_index):\n",
    "    #this function returns the median and the sorting of the grainsize distribution\n",
    "    #cn is the pandas dataframe as described earlier, \n",
    "    #my_index is the index of the row for the sample id and layer of interest\n",
    "   \n",
    "    #it is assumed the grainsize data starts at minphi\n",
    "    #and goes to max phi in 0.5 phi increments\n",
    "    #change the ranges if this is not true!\n",
    "    \n",
    "    #minphi is the coarsest grainsize class\n",
    "    #num_phi is the number of grainsize classes\n",
    "    minphi = -4\n",
    "    num_classes = 16\n",
    "    \n",
    "    #inman parameter thresholds\n",
    "    inman_med = 0.5  #median\n",
    "    inman_low = 0.16 #16th percentile\n",
    "    inman_hi = 0.84  #84th percentile\n",
    "\n",
    "    #extract the grainsize data for my_index\n",
    "    #part of one row of the dataframe\n",
    "    #the grainsize data are in columns 5 to 21\n",
    "    sample1 = cn.iloc[my_index:my_index+1, 5:21]\n",
    "    series = sample1.squeeze()\n",
    "    \n",
    "    gs = series.tolist() #list of grainsizes for the sample\n",
    "\n",
    "    #for these grainsize data, calculate\n",
    "    #cumulative mass fraction as a function\n",
    "    # of graisize class\n",
    "    phi =[]\n",
    "    cum_mass_frac = []\n",
    "\n",
    "    ct = minphi #smallest phi size in this dataset\n",
    "    cumulative_mass = 0\n",
    "\n",
    "    #initialize variables for inman calculation\n",
    "    min_low_index = 0\n",
    "    min_hi_index = 0\n",
    "    min_median_index = 0\n",
    "    my_phi84 = 0\n",
    "    my_phi16 =0\n",
    "    my_median = 0\n",
    "    my_total_mass = sum(gs)\n",
    "    for x in range (0,num_classes): #goes from -4 phi to >3 phi in 1/2 phi increment\n",
    "        ct=minphi + x/2 #1/2 phi seive increments\n",
    "        phi.append(ct)\n",
    "        \n",
    "        cumulative_mass = cumulative_mass+gs[x]/my_total_mass\n",
    "        cum_mass_frac.append(cumulative_mass)\n",
    "    \n",
    "        if (cumulative_mass < inman_med):\n",
    "            min_median_index = x\n",
    "        \n",
    "        if (cumulative_mass < inman_low):\n",
    "            min_low_index = x\n",
    "        \n",
    "        if (cumulative_mass < inman_hi):\n",
    "            min_hi_index = x\n",
    "\n",
    "    my_median = interpolate_inman(phi, \n",
    "                              cum_mass_frac, \n",
    "                              inman_med, \n",
    "                              min_median_index)\n",
    "\n",
    "    #the gs analysis cuts off without\n",
    "    #getting enough fraction of the fines\n",
    "\n",
    "    if (min_hi_index == len(phi)-1) or (min_low_index == 0):\n",
    "        print(\"cannot calculate sorting\")\n",
    "        my_sorting = \"out of range\"\n",
    "    else:\n",
    "        my_phi84 = interpolate_inman(phi, cum_mass_frac, inman_hi, min_hi_index)\n",
    "        my_phi16 = interpolate_inman(phi,cum_mass_frac, inman_low, min_low_index)\n",
    "        my_sorting = my_phi84-my_phi16\n",
    "\n",
    "    return my_median, my_sorting, cum_mass_frac, phi"
   ]
  },
  {
   "cell_type": "markdown",
   "metadata": {},
   "source": [
    "### Step 3\n",
    "\n",
    "call the functions to calculate two grainsize distributions for two different layers at the same location. Notice that the \"b\" layer is finer grained than the \"a\" layer"
   ]
  },
  {
   "cell_type": "code",
   "execution_count": 4,
   "metadata": {},
   "outputs": [
    {
     "name": "stdout",
     "output_type": "stream",
     "text": [
      "Sample ID:  1 Layer:   a\n",
      "Median:  -1.6268597236981934\n",
      "Sorting:  1.9839347110387335\n",
      "\n",
      "\n",
      "Sample ID:  1 Layer:   b\n",
      "Median:  -0.7646434160518669\n",
      "Sorting:  1.8726323786473036\n"
     ]
    }
   ],
   "source": [
    "the_first_median, the_first_sorting, the_first_cdf, the_first_phi = inman_params(cn, my_index)\n",
    "\n",
    "first_sample_id = cn.iloc[my_index][\"sample\"]\n",
    "first_sample_layer = cn.iloc[my_index]['layer']\n",
    "print(\"Sample ID: \", first_sample_id, \"Layer: \", first_sample_layer)\n",
    "print (\"Median: \",the_first_median)\n",
    "print(\"Sorting: \",the_first_sorting)\n",
    "\n",
    "print (\"\\n\")\n",
    "\n",
    "the_second_median, the_second_sorting, the_second_cdf, the_second_phi = inman_params(cn, my_index+1)\n",
    "\n",
    "second_sample_id = cn.iloc[my_index+1][\"sample\"]\n",
    "second_sample_layer = cn.iloc[my_index+1]['layer']\n",
    "print(\"Sample ID: \", second_sample_id, \"Layer: \", second_sample_layer)\n",
    "print (\"Median: \",the_second_median)\n",
    "print(\"Sorting: \",the_second_sorting)\n"
   ]
  },
  {
   "cell_type": "markdown",
   "metadata": {},
   "source": [
    "### Step 4: \n",
    "Plot the two grainsize distributiosn for two different layers at the same sample location"
   ]
  },
  {
   "cell_type": "code",
   "execution_count": 5,
   "metadata": {
    "scrolled": true
   },
   "outputs": [
    {
     "data": {
      "image/png": "[encoded data removed]",
      "text/plain": [
       "<Figure size 432x288 with 1 Axes>"
      ]
     },
     "metadata": {
      "needs_background": "light"
     },
     "output_type": "display_data"
    }
   ],
   "source": [
    "import matplotlib.pyplot as plt\n",
    "\n",
    "plt.plot(the_first_phi, the_first_cdf)\n",
    "plt.plot(the_second_phi, the_second_cdf)\n",
    "\n",
    "plt.plot(the_first_median, 0.5, \"o\")\n",
    "plt.plot(the_second_median, 0.5, \"o\")\n",
    "plt.xlabel (\"grainsize (phi)\")\n",
    "plt.ylabel(\"cumulative mass fraction\")\n",
    "mytitle = str(first_sample_id) + str(first_sample_layer) + \" vs \" + str(second_sample_id) + str(second_sample_layer)\n",
    "plt.title(mytitle)\n",
    "plt.show()\n",
    "\n"
   ]
  },
  {
   "cell_type": "markdown",
   "metadata": {},
   "source": [
    "### Step 5\n",
    "Now get fancy. Plot the median grainsize as a function of distance from the volcanic vent. Color code by \"a\", \"b\", and \"m\"\n",
    "\n",
    "For all layers, the median grainsize decreases with distance from the volcanc vent, pretty noisy, probably because some samples are on the major axis of dispersion,and some are not."
   ]
  },
  {
   "cell_type": "code",
   "execution_count": 6,
   "metadata": {},
   "outputs": [
    {
     "name": "stdout",
     "output_type": "stream",
     "text": [
      "cannot calculate sorting\n",
      "cannot calculate sorting\n"
     ]
    }
   ],
   "source": [
    "vent_utm_east = 532350\n",
    "vent_utm_north = 1382700\n",
    "\n",
    "a_from_vent=[]\n",
    "a_median = []\n",
    "b_from_vent=[]\n",
    "b_median = []\n",
    "m_from_vent=[]\n",
    "m_median = []\n",
    "for x in range(len(cn.index)):\n",
    "    sample_easting = cn.iloc[x][\"easting\"]\n",
    "    sample_northing = cn.iloc[x][\"northing\"]\n",
    "    from_vent = ((vent_utm_east - sample_easting)**2 + (vent_utm_north - sample_northing)**2)**0.5\n",
    "    \n",
    "    the_median, the_sorting, the_cdf, the_phi = inman_params(cn, x) \n",
    "    if (cn.iloc[x][\"layer\"] == \" a\"):\n",
    "        a_from_vent.append(from_vent)\n",
    "        a_median.append(the_median)\n",
    "    elif (cn.iloc[x][\"layer\"] == \" b\"):\n",
    "        b_from_vent.append(from_vent)\n",
    "        b_median.append(the_median)\n",
    "    else:\n",
    "        m_from_vent.append(from_vent)\n",
    "        m_median.append(the_median)"
   ]
  },
  {
   "cell_type": "code",
   "execution_count": 7,
   "metadata": {},
   "outputs": [
    {
     "data": {
      "image/png": "[encoded data removed]",
      "text/plain": [
       "<Figure size 432x288 with 1 Axes>"
      ]
     },
     "metadata": {
      "needs_background": "light"
     },
     "output_type": "display_data"
    }
   ],
   "source": [
    "plt.plot(a_from_vent, a_median, \"o\")\n",
    "plt.plot(b_from_vent, b_median, \"o\")\n",
    "plt.plot(m_from_vent, m_median, \"o\")\n",
    "\n",
    "\n",
    "plt.xlabel (\"distance from vent (m)\")\n",
    "plt.ylabel(\"median grainsize\")\n",
    "\n",
    "plt.show()"
   ]
  },
  {
   "cell_type": "code",
   "execution_count": 8,
   "metadata": {},
   "outputs": [
    {
     "data": {
      "image/png": "[encoded data removed]",
      "text/plain": [
       "<Figure size 432x288 with 1 Axes>"
      ]
     },
     "metadata": {
      "needs_background": "light"
     },
     "output_type": "display_data"
    }
   ],
   "source": [
    "import numpy as np\n",
    "model_from_vent = np.arange(0,12000,100)\n",
    "\n",
    "model_median = 0.75/2000*model_from_vent -4\n",
    "\n",
    "\n",
    "plt.plot(a_from_vent, a_median, \"o\")\n",
    "plt.plot(model_from_vent, model_median)\n",
    "\n",
    "plt.xlabel (\"distance from vent (m)\")\n",
    "plt.ylabel(\"median grainsize\")\n",
    "plt.xlim(0,14000)\n",
    "plt.ylim(-4,3.5)\n",
    "plt.show()"
   ]
  },
  {
   "cell_type": "code",
   "execution_count": 9,
   "metadata": {},
   "outputs": [
    {
     "name": "stdout",
     "output_type": "stream",
     "text": [
      "distance at which median grainsize is 10 phi =  37333.33333333333 m\n"
     ]
    }
   ],
   "source": [
    "#how far from the vent is the median grainsize 10 phi (clay, 1 micron)?\n",
    "phi10_dist = 2000/0.75*(10+4)\n",
    "print(\"distance at which median grainsize is 10 phi = \", phi10_dist, \"m\")"
   ]
  },
  {
   "cell_type": "code",
   "execution_count": 10,
   "metadata": {},
   "outputs": [
    {
     "name": "stdout",
     "output_type": "stream",
     "text": [
      "LinregressResult(slope=0.00025355974843205384, intercept=-2.7219839773700882, rvalue=0.762621901125377, pvalue=5.8326937439740306e-05, stderr=4.9339431729226055e-05, intercept_stderr=0.31918962320379146)\n"
     ]
    }
   ],
   "source": [
    "from scipy import stats\n",
    "print(stats.linregress(a_from_vent, a_median))\n"
   ]
  },
  {
   "cell_type": "markdown",
   "metadata": {},
   "source": [
    "I guess the linear change in median grainsize with distance from the volcano indicates there is a strong (not bent over) plume for layer \"a\". It would be interesting to calculate the model with tephra2 and plot the theoretical change in median phi with distance from the volcano. i think it will be linear with a constant wind field - not sure\n",
    "\n",
    "Layer b shows almost not variation in median grainsize with distance from the volcano - must be a bent over plume"
   ]
  },
  {
   "cell_type": "code",
   "execution_count": null,
   "metadata": {},
   "outputs": [],
   "source": []
  }
 ],
 "metadata": {
  "kernelspec": {
   "display_name": "Python 3 (ipykernel)",
   "language": "python",
   "name": "python3"
  },
  "language_info": {
   "codemirror_mode": {
    "name": "ipython",
    "version": 3
   },
   "file_extension": ".py",
   "mimetype": "text/x-python",
   "name": "python",
   "nbconvert_exporter": "python",
   "pygments_lexer": "ipython3",
   "version": "3.10.9"
  }
 },
 "nbformat": 4,
 "nbformat_minor": 4
}
