{
 "cells": [
  {
   "cell_type": "markdown",
   "id": "b9c35762",
   "metadata": {},
   "source": [
    "# Victor 2D unsteady (transient) diffusion\n",
    "\n",
    "### Finite Differences\n",
    "\n",
    "We saw that the 1D diffusion equation can be represented by algebraic expressions that are easily solved using finite differences (see the \"erodocone notebook for instance). Here we develop the 2D transient diffusion model using finite differences.\n",
    "\n",
    "In 2D Cartesian coordinates, the diffusion equation is:\n",
    "\n",
    "$$\\frac{\\partial T}{\\partial t} = \\alpha \\left [ \\frac{\\partial^2 T}{\\partial x^2} +  \\frac{\\partial^2 T}{\\partial x^2} \\right ] $$\n",
    "\n",
    "\n",
    "which can be written as a finite differnce expression like:\n",
    "\n",
    "$$ \\frac{T_{i,j}^{k+1} - T_{i,j}^{k}}{\\Delta t} = \\alpha \\left [ \n",
    "\\frac{T_{i-1,j}^k - 2T_{i,j}^k + T_{i+1,j}^k }{\\Delta x^2} + \\frac{T_{i,j-1}^k - 2T_{i,j}^k + T_{i,j+1}^k }{\\Delta y^2}\n",
    "\\right ] $$\n",
    "\n",
    "Then assuming that $\\Delta x = \\Delta y = s$\n",
    "\n",
    "$$T_{i,j}^{k+1} = T_{i,j}^{k} + \\frac{\\Delta t \\alpha}{s^2} \n",
    "\\left [ T_{i,j-1}^k + T_{i-1,j}^k  - 4T_{i,j}^k + T_{i+1,j}^k + T_{i,j+1}^k   \\right ] $$\n",
    "\n",
    "The maximum time step depends on the grid spacing and the diffusivity:\n",
    "\n",
    "$$\\Delta t_{max} = \\frac{\\Delta x^2 \\Delta y^2 }{2 \\alpha (\\Delta x^2 + \\Delta y^2)} = \\frac{s^2}{4 \\alpha}$$\n"
   ]
  },
  {
   "cell_type": "code",
   "execution_count": 11,
   "id": "74bd6e2e",
   "metadata": {},
   "outputs": [],
   "source": [
    "import numpy as np\n",
    "import matplotlib.pyplot as plt"
   ]
  },
  {
   "cell_type": "code",
   "execution_count": 12,
   "id": "360f2f4f",
   "metadata": {},
   "outputs": [],
   "source": [
    "# 2D diffusion finite difference - from Gerya (Numerical Geodynamic Modelling)\n",
    "def one_time_step(u0, u, D, dt, dx2, dy2):\n",
    "    # Propagate with forward-difference in time, central-difference in space\n",
    "    u[1:-1, 1:-1] = u0[1:-1, 1:-1] + D * dt * (\n",
    "          (u0[2:, 1:-1] - 2*u0[1:-1, 1:-1] + u0[:-2, 1:-1])/dx2\n",
    "          + (u0[1:-1, 2:] - 2*u0[1:-1, 1:-1] + u0[1:-1, :-2])/dy2 )\n",
    "\n",
    "    u0 = u.copy()\n",
    "    return u0, u\n"
   ]
  },
  {
   "cell_type": "code",
   "execution_count": 17,
   "id": "37f4d3bf",
   "metadata": {},
   "outputs": [],
   "source": [
    "#run a simple test\n",
    "\n",
    "#specify model space\n",
    "w = h = 100.\n",
    "# intervals in x-, y- directions, m\n",
    "dx = dy = 1\n",
    "# Thermal diffusivity of heat in wall rock, m2.s-1\n",
    "D = 1e-6 #diffusivity in granite.\n",
    "\n",
    "Tcool, Thot = 200, 1200\n",
    "\n",
    "nx, ny = int(w/dx), int(h/dy)\n",
    "\n",
    "dx2, dy2 = dx*dx, dy*dy\n",
    "dt = dx2 * dy2 / (2 * D * (dx2 + dy2))\n",
    "\n",
    "u0 = Tcool * np.ones((nx, ny))\n",
    "u = u0.copy()\n",
    "\n",
    "for i in range(nx):\n",
    "    for j in range(ny):\n",
    "        if i > nx/3 and i < 2*nx/3:\n",
    "            u0[i,j] = Thot\n"
   ]
  },
  {
   "cell_type": "code",
   "execution_count": 18,
   "id": "b4b457c4",
   "metadata": {},
   "outputs": [],
   "source": [
    "# Number of timesteps\n",
    "nsteps = 101\n",
    "\n",
    "for m in range(nsteps):\n",
    "    u0, u = one_time_step(u0, u, D, dt, dx2, dy2)\n",
    "    #print(u0)"
   ]
  },
  {
   "cell_type": "code",
   "execution_count": 23,
   "id": "c8e68e8d",
   "metadata": {},
   "outputs": [
    {
     "data": {
      "image/png": "[encoded data removed]",
      "text/plain": [
       "<Figure size 432x288 with 2 Axes>"
      ]
     },
     "metadata": {
      "needs_background": "light"
     },
     "output_type": "display_data"
    },
    {
     "name": "stdout",
     "output_type": "stream",
     "text": [
      "time elapsed =  292.2453703703704 days\n"
     ]
    }
   ],
   "source": [
    "plt.imshow(u0, cmap='jet', vmin=Tcool,vmax=Thot)\n",
    "plt.colorbar()\n",
    "plt.show()\n",
    "print (\"time elapsed = \", nsteps*dt/3600/24, \"days\")\n"
   ]
  },
  {
   "cell_type": "code",
   "execution_count": null,
   "id": "b45da817",
   "metadata": {},
   "outputs": [],
   "source": []
  }
 ],
 "metadata": {
  "kernelspec": {
   "display_name": "Python 3",
   "language": "python",
   "name": "python3"
  },
  "language_info": {
   "codemirror_mode": {
    "name": "ipython",
    "version": 3
   },
   "file_extension": ".py",
   "mimetype": "text/x-python",
   "name": "python",
   "nbconvert_exporter": "python",
   "pygments_lexer": "ipython3",
   "version": "3.8.8"
  }
 },
 "nbformat": 4,
 "nbformat_minor": 5
}
