{
 "cells": [
  {
   "cell_type": "markdown",
   "id": "bd24042f",
   "metadata": {},
   "source": [
    "## VICTOR: Intro to ODEs, 2: pressure in a magma reservoir and expected deformation\n",
    "\n",
    "\n",
    "### Magma pressure and displacement\n",
    "\n",
    "First consider a simple model of the change in magma reservoir pressure as a function of time\n",
    "\n",
    "$$\\frac{dP}{dt} = \\frac{\\mu}{V} \\left [Q_{in}(t) - Q_{out} (t) \\right ] $$\n",
    "\n",
    "where $P$ (Pa) is the magma reservoir pressure, which varies as a function of time, $t$ (s). $\\mu$ (Pa) is the shear modulus, $V$ (m$^3$) is the reservoir volume, and $Q_{in}(t)$ (m$^3$/s) and $Q_{out} (t)$ are the magma flow in and magma flow out of the reservoir , respectively.\n",
    "\n",
    "Consider the case where the flux into the  reservoir is greater than the flux out - this just leads to a linear increase in pressure with time.\n",
    "\n",
    "In the following this problem is solved with a fourth order Runge-Kutta algorithm. A bit overkill for this initial problem! But note how keyword arguments (kwargs) are used to pass information among functions. In this case, the information needed to solve for $\\frac{dP}{dt}$ includes the shear modulus, volume, volume flux in and volume flux out."
   ]
  },
  {
   "cell_type": "code",
   "execution_count": 19,
   "id": "b58e0c70",
   "metadata": {},
   "outputs": [],
   "source": [
    "def RK4(deriv,t, p, h, total_t, **kwargs):\n",
    "    #fourth order R-K solution\n",
    "    tout = []\n",
    "    pout = []\n",
    "    while (t < total_t):\n",
    "        \n",
    "        # R-K solution\n",
    "        dp_dt = deriv(t,p, **kwargs)\n",
    "        k1=dp_dt\n",
    "        dp_dt= deriv(t+0.5*h, p+0.5*h*k1, **kwargs)\n",
    "        k2 = dp_dt\n",
    "        dp_dt  = deriv(t+0.5*h, p+0.5*h*k2, **kwargs)\n",
    "        k3 = dp_dt\n",
    "        dp_dt = deriv(t+h, p+h*k3, **kwargs)\n",
    "        k4 = dp_dt\n",
    "        p += h/6.*(k1+2.*k2+2.*k3+k4)\n",
    "        t += h\n",
    "        \n",
    "        #build output lists\n",
    "        pout.append(p) # concatenate the lists\n",
    "        tout.append(t)\n",
    "        \n",
    "    \n",
    "    return tout, pout\n",
    "\n"
   ]
  },
  {
   "cell_type": "code",
   "execution_count": 20,
   "id": "73382c33",
   "metadata": {},
   "outputs": [],
   "source": [
    "# The ODE\n",
    "def deriv(t,p,shear_modulus, volume, volume_flux_in, volume_flux_out):\n",
    "    return shear_modulus/volume*(volume_flux_in - volume_flux_out)\n"
   ]
  },
  {
   "cell_type": "code",
   "execution_count": 21,
   "id": "366a1680",
   "metadata": {},
   "outputs": [],
   "source": [
    "#initial conditions\n",
    "kwargs={\"shear_modulus\": 1.4e10, #Pa\n",
    "       \"volume\": 1e9, #m3\n",
    "       \"volume_flux_in\": 10, #m3/s\n",
    "       \"volume_flux_out\":5}\n",
    "\n",
    "#set the initital conditions\n",
    "t = 0\n",
    "p = 50e6 #Pa\n",
    "\n",
    "#set the step 1000 s\n",
    "h = 60\n",
    "total_t = 24*60*h\n",
    "\n",
    "#solve the ODE\n",
    "tout, pout = RK4(deriv,t, p, h, total_t, **kwargs)"
   ]
  },
  {
   "cell_type": "code",
   "execution_count": 22,
   "id": "369591d9",
   "metadata": {},
   "outputs": [
    {
     "data": {
      "image/png": "[encoded data removed]",
      "text/plain": [
       "<Figure size 432x288 with 1 Axes>"
      ]
     },
     "metadata": {
      "needs_background": "light"
     },
     "output_type": "display_data"
    }
   ],
   "source": [
    "import matplotlib.pyplot as plt\n",
    "plt.plot(tout, pout)\n",
    "plt.xlabel(\"time (s)\")\n",
    "plt.ylabel(\"pressure (Pa)\")\n",
    "plt.show()"
   ]
  },
  {
   "cell_type": "markdown",
   "id": "ee055f60",
   "metadata": {},
   "source": [
    "### Make the output (eruption rate from chamber) a function of the volume flux in\n",
    "As above, \n",
    "\n",
    "$$\\frac{dP}{dt} = \\frac{\\mu}{V} \\left [Q_{in}(t) - Q_{out} (t) \\right ] $$\n",
    "\n",
    "but now $Q_{out} (t)$ is a function of pressure in the magma chamber. Here it is basically approximated using Poiseuille flow in a cylindrical conduit\n",
    "\n",
    "$$Q_{out} (t) = \\frac{- \\pi r^4}{8 \\eta} \\frac{dP_o}{dx} $$\n",
    "where $r$ is the conduit radius, $\\eta$ is the magma viscosity, and $P_o$ is the overpessure available to drive flow:\n",
    "$$Q_{out} (t) = \\frac{- \\pi r^4}{8 \\eta} \\frac{P_o - P}{dx} $$\n",
    "$P_o$ is the initial magma pressure (before flow starts), and $P$ is the current pressure of the chamber. This equation assumes that the pressure at the surface is essentially zero (in comparison to the magma pressures). Also, it assumes that initially (a depth just above the magma reservoir), the flow is laminar.\n",
    "\n",
    "Now the issue is that the pressure $P$ appears on both sides of the equation. See how this is solved in the following.\n",
    "\n",
    "Finally, we might want to know how the change in pressure ($\\Delta P$) affects the change in vertical displacement over the magma reservoir. Using Mogi's model for the maximum vertical displacement due to a change in pressure:\n",
    "\n",
    "$$\\max {U_z}= \\frac{(1-\\sigma) \\Delta P}{\\mu} \\frac{a^3}{d^2} $$\n",
    "\n",
    "where $\\sigma$ is Poisson's ratio, $\\Delta P$ is the change in pressure in the magma reservoir, $\\mu$ is the shear modulus, $a$ is the radius of the magma reservoir, and $d$ is the depth to the center of the reservoir.\n",
    "\n",
    "This is nice! Now the deformation one might model at the surface is not simply a function of pressure, but is related to rates of magma input and output form the magma reservoir.  \n",
    "\n",
    "The initial condition in this case is that the magma input into the reservoir is 50 m$^3$/s and the initial magma reservoir pressure is lithostatic. As the pressure increases with increasing flux in, the system starts erupting, but initially at a slower rate than the magma comes into the reservoir, until the \"system\" approaches equilibrium.\n"
   ]
  },
  {
   "cell_type": "code",
   "execution_count": 23,
   "id": "94bbf1fe",
   "metadata": {},
   "outputs": [],
   "source": [
    "import numpy as np\n",
    "def RK4_2(deriv2,t, p, h, total_t, **kwargs):\n",
    "    #fourth order R-K solution\n",
    "    tout = []\n",
    "    pout = []\n",
    "    while (t < total_t):\n",
    "        \n",
    "        # R-K solution\n",
    "        dp_dt = deriv2(t,p, **kwargs)\n",
    "        k1=dp_dt\n",
    "        dp_dt= deriv2(t+0.5*h, p+0.5*h*k1, **kwargs)\n",
    "        k2 = dp_dt\n",
    "        dp_dt  = deriv2(t+0.5*h, p+0.5*h*k2, **kwargs)\n",
    "        k3 = dp_dt\n",
    "        dp_dt = deriv2(t+h, p+h*k3, **kwargs)\n",
    "        k4 = dp_dt\n",
    "        p += h/6.*(k1+2.*k2+2.*k3+k4)\n",
    "        t += h\n",
    "        \n",
    "        #build output lists\n",
    "        pout.append(p) # concatenate the lists\n",
    "        tout.append(t)\n",
    "        \n",
    "    \n",
    "    return tout, pout\n",
    "\n"
   ]
  },
  {
   "cell_type": "code",
   "execution_count": 24,
   "id": "382bb6ff",
   "metadata": {},
   "outputs": [],
   "source": [
    "def deriv2(t,p,shear_modulus, volume, volume_flux_in, conduit_radius, conduit_length, viscosity, po):\n",
    "    volume_flux_out = flux_out(p, conduit_radius, conduit_length, viscosity, po)\n",
    "    return shear_modulus/volume*(volume_flux_in - volume_flux_out)\n",
    "\n",
    "def flux_out(p, conduit_radius, conduit_length, viscosity, po):\n",
    "    q = -np.pi*conduit_radius**4/(8*viscosity)*((po-p)/conduit_length)\n",
    "    \n",
    "    return q"
   ]
  },
  {
   "cell_type": "markdown",
   "id": "89964087",
   "metadata": {},
   "source": [
    "### "
   ]
  },
  {
   "cell_type": "code",
   "execution_count": 25,
   "id": "fe09b724",
   "metadata": {},
   "outputs": [
    {
     "name": "stdout",
     "output_type": "stream",
     "text": [
      "78498000.00000001\n"
     ]
    }
   ],
   "source": [
    "kwargs={\"shear_modulus\": 1.4e10, #Pa\n",
    "       \"volume\": 1e9, #m3\n",
    "       \"volume_flux_in\": 50, #m3/s\n",
    "       \"conduit_radius\":5,\n",
    "       \"conduit_length\": 3000,\n",
    "       \"viscosity\": 10000,\n",
    "       \"po\": 0}\n",
    "\n",
    "crust_density = 2670\n",
    "gravity = 9.8\n",
    "#set the initital conditions\n",
    "t = 0\n",
    "p = crust_density*gravity*kwargs[\"conduit_length\"]\n",
    "kwargs[\"po\"] = p\n",
    "print(p)\n",
    "#set the step 1000 s\n",
    "h = 6\n",
    "total_t = 12000*h\n",
    "tout, pout = RK4_2(deriv2,t, p, h, total_t, **kwargs)\n",
    "tout = np.array(tout)/(3600)\n",
    "pout = np.array(pout) - kwargs[\"po\"]"
   ]
  },
  {
   "cell_type": "code",
   "execution_count": 26,
   "id": "1a655461",
   "metadata": {},
   "outputs": [
    {
     "data": {
      "image/png": "[encoded data removed]",
      "text/plain": [
       "<Figure size 432x288 with 1 Axes>"
      ]
     },
     "metadata": {
      "needs_background": "light"
     },
     "output_type": "display_data"
    }
   ],
   "source": [
    "import matplotlib.pyplot as plt\n",
    "plt.plot(tout, pout)\n",
    "plt.xlabel(\"time (hr)\")\n",
    "plt.ylabel(\"$\\Delta$ pressure (Pa)\")\n",
    "plt.show()"
   ]
  },
  {
   "cell_type": "code",
   "execution_count": 27,
   "id": "f00483ed",
   "metadata": {},
   "outputs": [
    {
     "data": {
      "image/png": "[encoded data removed]",
      "text/plain": [
       "<Figure size 432x288 with 1 Axes>"
      ]
     },
     "metadata": {
      "needs_background": "light"
     },
     "output_type": "display_data"
    }
   ],
   "source": [
    "## Mogi's solution for the maximum vertical displacment\n",
    "# given a pressure source time series\n",
    "def max_uz(sigma, deltap, shear_modulus, a,d):\n",
    "    displace = (1-sigma)*deltap/shear_modulus * a**3/d**2\n",
    "    return displace\n",
    "\n",
    "sigma = 0.25 # poissons ratio\n",
    "a = (3/4*kwargs[\"volume\"])**(1/3)  # find radius given volume\n",
    "\n",
    "d = kwargs[\"conduit_length\"] + a  # find depth given conudit length\n",
    "\n",
    "displace = max_uz(sigma, pout, kwargs[\"shear_modulus\"], a,d)*1000  #mm displacement\n",
    "\n",
    "plt.plot(tout, displace)\n",
    "plt.xlabel(\"time (hrs)\")\n",
    "plt.ylabel(\"maximum displacement (mm)\")\n",
    "plt.show()"
   ]
  },
  {
   "cell_type": "markdown",
   "id": "c17cd4f1",
   "metadata": {},
   "source": [
    "### More applications\n",
    "In the example above, the reservoir pressure increases as a function of time, because for all time $Q_{in}(t) \\ge Q_{out}(t)$. Of course, very often this is not the case. For example volcanoes often begin to deflate when an effusive eruption begins. Create a case in which the eruption starts (for some reason) and:\n",
    "\n",
    "$$\\frac{dP}{dt} = \\frac{\\mu}{V} \\left [0 - Q_{out} (t) \\right ] $$\n",
    "\n",
    "and\n",
    "\n",
    "$$Q_{out} (t) = \\frac{- \\pi r^4}{8 \\eta} \\frac{dP}{dx} $$\n",
    "\n",
    "Plot the eruption flow rate and the deflation as a function of time (make sure $Q_{out}$ is inititally relatively small, so it's laminar flow)."
   ]
  },
  {
   "cell_type": "code",
   "execution_count": null,
   "id": "fc7d9c95",
   "metadata": {},
   "outputs": [],
   "source": []
  }
 ],
 "metadata": {
  "kernelspec": {
   "display_name": "Python 3 (ipykernel)",
   "language": "python",
   "name": "python3"
  },
  "language_info": {
   "codemirror_mode": {
    "name": "ipython",
    "version": 3
   },
   "file_extension": ".py",
   "mimetype": "text/x-python",
   "name": "python",
   "nbconvert_exporter": "python",
   "pygments_lexer": "ipython3",
   "version": "3.10.10"
  }
 },
 "nbformat": 4,
 "nbformat_minor": 5
}
